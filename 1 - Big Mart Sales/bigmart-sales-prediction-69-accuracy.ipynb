{
 "cells": [
  {
   "cell_type": "markdown",
   "id": "be3cc377",
   "metadata": {
    "papermill": {
     "duration": 0.055084,
     "end_time": "2021-10-02T18:24:08.163525",
     "exception": false,
     "start_time": "2021-10-02T18:24:08.108441",
     "status": "completed"
    },
    "tags": []
   },
   "source": [
    "Big Mart is a supermarket operating on Nepal. The data presented here is the 2013 total sales of 1559 different products in the 10 Big Mart supermarkets in all different cities. The aim in this notebook predict total sales given the features bellow. \n",
    "\n",
    "**Item_Identifier**: It is a unique product ID assigned to every distinct item. It consists of an alphanumeric string of length 5\n",
    "\n",
    "**Item_Weight**: This field includes the weight of the product\n",
    "\n",
    "**Item_Fat_Content**: This attribute is categorical and describes whether the product is low fat or not. There are 2 categories of this attribute: ['Low Fat', 'Regular']. However, it is important to note that 'Low Fat' has also been written as 'low fat' and 'LF' in dataset, whereas, 'Regular' has been referred as 'reg' as well\n",
    "\n",
    "**Item_Visibility**: This field mentions the percentage of total display area of all products in a store allocated to the particular product\n",
    "\n",
    "**Item_Type**: This is a categorical attribute and describes the food category to which the item belongs. There are 16 different categories listed as follows: ['Dairy', 'Soft Drinks', 'Meat', 'Fruits and Vegetables', 'Household', 'Baking Goods', 'Snack Foods', 'Frozen Foods', 'Breakfast', 'Health and Hygiene', 'Hard Drinks', 'Canned', 'Breads', 'Starchy Foods', 'Others', 'Seafood']\n",
    "\n",
    "**Item_MRP**: This is the Maximum Retail Price (list price) of the product\n",
    "\n",
    "**Outlet_Identifier**: It is a unique store ID assigned. It consists of an alphanumeric string of length 6\n",
    "\n",
    "**Outlet_Establishment_Year**: This attribute mentions the year in which store was established\n",
    "\n",
    "**Outlet_Size**: The attribute tells the size of the store in terms of ground area covered. It is a categorical value and described in 3 categories: ['High', 'Medium', 'Small']\n",
    "\n",
    "**Outlet_Location_Type**: This field has categorical data and tells about the size of the city in which the store is located through 3 categories: ['Tier 1', 'Tier 2', 'Tier 3']\n",
    "\n",
    "**Outlet_Type**: This field contains categorical value and tells whether the outlet is just a grocery store or some sort of supermarket. Following are the 4 categories in which the data is divided: ['Supermarket Type1', 'Supermarket Type2', 'Grocery Store','Supermarket Type3']\n",
    "\n",
    "**Item_Outlet_Sales**: This is the outcome variable to be predicted. It contains the sales of the product in the particulat store"
   ]
  },
  {
   "cell_type": "code",
   "execution_count": 1,
   "id": "a0a4d452",
   "metadata": {
    "execution": {
     "iopub.execute_input": "2021-10-02T18:24:08.273422Z",
     "iopub.status.busy": "2021-10-02T18:24:08.272190Z",
     "iopub.status.idle": "2021-10-02T18:24:09.254412Z",
     "shell.execute_reply": "2021-10-02T18:24:09.253674Z",
     "shell.execute_reply.started": "2021-10-02T18:15:34.862793Z"
    },
    "papermill": {
     "duration": 1.037765,
     "end_time": "2021-10-02T18:24:09.254587",
     "exception": false,
     "start_time": "2021-10-02T18:24:08.216822",
     "status": "completed"
    },
    "tags": []
   },
   "outputs": [],
   "source": [
    "import numpy as np\n",
    "import pandas as pd\n",
    "import seaborn as sns\n",
    "import warnings\n",
    "import matplotlib.pyplot as plt\n",
    "warnings.simplefilter(\"ignore\", category=DeprecationWarning)"
   ]
  },
  {
   "cell_type": "code",
   "execution_count": 2,
   "id": "332d517b",
   "metadata": {
    "execution": {
     "iopub.execute_input": "2021-10-02T18:24:09.363075Z",
     "iopub.status.busy": "2021-10-02T18:24:09.362421Z",
     "iopub.status.idle": "2021-10-02T18:24:09.413939Z",
     "shell.execute_reply": "2021-10-02T18:24:09.413394Z",
     "shell.execute_reply.started": "2021-10-02T18:15:35.768237Z"
    },
    "papermill": {
     "duration": 0.107481,
     "end_time": "2021-10-02T18:24:09.414126",
     "exception": false,
     "start_time": "2021-10-02T18:24:09.306645",
     "status": "completed"
    },
    "tags": []
   },
   "outputs": [],
   "source": [
    "data = pd.read_csv(\"bigmart_train.csv\")"
   ]
  },
  {
   "cell_type": "markdown",
   "id": "668d78bd",
   "metadata": {
    "papermill": {
     "duration": 0.053702,
     "end_time": "2021-10-02T18:24:09.519256",
     "exception": false,
     "start_time": "2021-10-02T18:24:09.465554",
     "status": "completed"
    },
    "tags": []
   },
   "source": [
    "# Data proccesing"
   ]
  },
  {
   "cell_type": "code",
   "execution_count": 3,
   "id": "ecaa601c",
   "metadata": {
    "execution": {
     "iopub.execute_input": "2021-10-02T18:24:09.638056Z",
     "iopub.status.busy": "2021-10-02T18:24:09.637019Z",
     "iopub.status.idle": "2021-10-02T18:24:09.657906Z",
     "shell.execute_reply": "2021-10-02T18:24:09.657268Z",
     "shell.execute_reply.started": "2021-10-02T18:15:35.818876Z"
    },
    "papermill": {
     "duration": 0.086644,
     "end_time": "2021-10-02T18:24:09.658041",
     "exception": false,
     "start_time": "2021-10-02T18:24:09.571397",
     "status": "completed"
    },
    "tags": []
   },
   "outputs": [
    {
     "name": "stdout",
     "output_type": "stream",
     "text": [
      "<class 'pandas.core.frame.DataFrame'>\n",
      "RangeIndex: 8523 entries, 0 to 8522\n",
      "Data columns (total 12 columns):\n",
      " #   Column                     Non-Null Count  Dtype  \n",
      "---  ------                     --------------  -----  \n",
      " 0   Item_Identifier            8523 non-null   object \n",
      " 1   Item_Weight                7060 non-null   float64\n",
      " 2   Item_Fat_Content           8523 non-null   object \n",
      " 3   Item_Visibility            8523 non-null   float64\n",
      " 4   Item_Type                  8523 non-null   object \n",
      " 5   Item_MRP                   8523 non-null   float64\n",
      " 6   Outlet_Identifier          8523 non-null   object \n",
      " 7   Outlet_Establishment_Year  8523 non-null   int64  \n",
      " 8   Outlet_Size                6113 non-null   object \n",
      " 9   Outlet_Location_Type       8523 non-null   object \n",
      " 10  Outlet_Type                8523 non-null   object \n",
      " 11  Item_Outlet_Sales          8523 non-null   float64\n",
      "dtypes: float64(4), int64(1), object(7)\n",
      "memory usage: 799.2+ KB\n"
     ]
    }
   ],
   "source": [
    "data.info()"
   ]
  },
  {
   "cell_type": "markdown",
   "id": "3fe15b0b",
   "metadata": {
    "papermill": {
     "duration": 0.051821,
     "end_time": "2021-10-02T18:24:09.762668",
     "exception": false,
     "start_time": "2021-10-02T18:24:09.710847",
     "status": "completed"
    },
    "tags": []
   },
   "source": [
    "Looks like the only columns with null values are Item_Weight and Outlet_Size"
   ]
  },
  {
   "cell_type": "code",
   "execution_count": 4,
   "id": "22e7b1c2",
   "metadata": {
    "execution": {
     "iopub.execute_input": "2021-10-02T18:24:09.872724Z",
     "iopub.status.busy": "2021-10-02T18:24:09.872046Z",
     "iopub.status.idle": "2021-10-02T18:24:09.891266Z",
     "shell.execute_reply": "2021-10-02T18:24:09.891805Z",
     "shell.execute_reply.started": "2021-10-02T18:15:35.851008Z"
    },
    "papermill": {
     "duration": 0.077483,
     "end_time": "2021-10-02T18:24:09.891984",
     "exception": false,
     "start_time": "2021-10-02T18:24:09.814501",
     "status": "completed"
    },
    "tags": []
   },
   "outputs": [
    {
     "data": {
      "text/html": [
       "<div>\n",
       "<style scoped>\n",
       "    .dataframe tbody tr th:only-of-type {\n",
       "        vertical-align: middle;\n",
       "    }\n",
       "\n",
       "    .dataframe tbody tr th {\n",
       "        vertical-align: top;\n",
       "    }\n",
       "\n",
       "    .dataframe thead th {\n",
       "        text-align: right;\n",
       "    }\n",
       "</style>\n",
       "<table border=\"1\" class=\"dataframe\">\n",
       "  <thead>\n",
       "    <tr style=\"text-align: right;\">\n",
       "      <th></th>\n",
       "      <th>Item_Identifier</th>\n",
       "      <th>Item_Weight</th>\n",
       "      <th>Item_Fat_Content</th>\n",
       "      <th>Item_Visibility</th>\n",
       "      <th>Item_Type</th>\n",
       "      <th>Item_MRP</th>\n",
       "      <th>Outlet_Identifier</th>\n",
       "      <th>Outlet_Establishment_Year</th>\n",
       "      <th>Outlet_Size</th>\n",
       "      <th>Outlet_Location_Type</th>\n",
       "      <th>Outlet_Type</th>\n",
       "      <th>Item_Outlet_Sales</th>\n",
       "    </tr>\n",
       "  </thead>\n",
       "  <tbody>\n",
       "    <tr>\n",
       "      <th>0</th>\n",
       "      <td>FDA15</td>\n",
       "      <td>9.30</td>\n",
       "      <td>Low Fat</td>\n",
       "      <td>0.016047</td>\n",
       "      <td>Dairy</td>\n",
       "      <td>249.8092</td>\n",
       "      <td>OUT049</td>\n",
       "      <td>1999</td>\n",
       "      <td>Medium</td>\n",
       "      <td>Tier 1</td>\n",
       "      <td>Supermarket Type1</td>\n",
       "      <td>3735.1380</td>\n",
       "    </tr>\n",
       "    <tr>\n",
       "      <th>1</th>\n",
       "      <td>DRC01</td>\n",
       "      <td>5.92</td>\n",
       "      <td>Regular</td>\n",
       "      <td>0.019278</td>\n",
       "      <td>Soft Drinks</td>\n",
       "      <td>48.2692</td>\n",
       "      <td>OUT018</td>\n",
       "      <td>2009</td>\n",
       "      <td>Medium</td>\n",
       "      <td>Tier 3</td>\n",
       "      <td>Supermarket Type2</td>\n",
       "      <td>443.4228</td>\n",
       "    </tr>\n",
       "    <tr>\n",
       "      <th>2</th>\n",
       "      <td>FDN15</td>\n",
       "      <td>17.50</td>\n",
       "      <td>Low Fat</td>\n",
       "      <td>0.016760</td>\n",
       "      <td>Meat</td>\n",
       "      <td>141.6180</td>\n",
       "      <td>OUT049</td>\n",
       "      <td>1999</td>\n",
       "      <td>Medium</td>\n",
       "      <td>Tier 1</td>\n",
       "      <td>Supermarket Type1</td>\n",
       "      <td>2097.2700</td>\n",
       "    </tr>\n",
       "    <tr>\n",
       "      <th>3</th>\n",
       "      <td>FDX07</td>\n",
       "      <td>19.20</td>\n",
       "      <td>Regular</td>\n",
       "      <td>0.000000</td>\n",
       "      <td>Fruits and Vegetables</td>\n",
       "      <td>182.0950</td>\n",
       "      <td>OUT010</td>\n",
       "      <td>1998</td>\n",
       "      <td>NaN</td>\n",
       "      <td>Tier 3</td>\n",
       "      <td>Grocery Store</td>\n",
       "      <td>732.3800</td>\n",
       "    </tr>\n",
       "    <tr>\n",
       "      <th>4</th>\n",
       "      <td>NCD19</td>\n",
       "      <td>8.93</td>\n",
       "      <td>Low Fat</td>\n",
       "      <td>0.000000</td>\n",
       "      <td>Household</td>\n",
       "      <td>53.8614</td>\n",
       "      <td>OUT013</td>\n",
       "      <td>1987</td>\n",
       "      <td>High</td>\n",
       "      <td>Tier 3</td>\n",
       "      <td>Supermarket Type1</td>\n",
       "      <td>994.7052</td>\n",
       "    </tr>\n",
       "  </tbody>\n",
       "</table>\n",
       "</div>"
      ],
      "text/plain": [
       "  Item_Identifier  Item_Weight Item_Fat_Content  Item_Visibility  \\\n",
       "0           FDA15         9.30          Low Fat         0.016047   \n",
       "1           DRC01         5.92          Regular         0.019278   \n",
       "2           FDN15        17.50          Low Fat         0.016760   \n",
       "3           FDX07        19.20          Regular         0.000000   \n",
       "4           NCD19         8.93          Low Fat         0.000000   \n",
       "\n",
       "               Item_Type  Item_MRP Outlet_Identifier  \\\n",
       "0                  Dairy  249.8092            OUT049   \n",
       "1            Soft Drinks   48.2692            OUT018   \n",
       "2                   Meat  141.6180            OUT049   \n",
       "3  Fruits and Vegetables  182.0950            OUT010   \n",
       "4              Household   53.8614            OUT013   \n",
       "\n",
       "   Outlet_Establishment_Year Outlet_Size Outlet_Location_Type  \\\n",
       "0                       1999      Medium               Tier 1   \n",
       "1                       2009      Medium               Tier 3   \n",
       "2                       1999      Medium               Tier 1   \n",
       "3                       1998         NaN               Tier 3   \n",
       "4                       1987        High               Tier 3   \n",
       "\n",
       "         Outlet_Type  Item_Outlet_Sales  \n",
       "0  Supermarket Type1          3735.1380  \n",
       "1  Supermarket Type2           443.4228  \n",
       "2  Supermarket Type1          2097.2700  \n",
       "3      Grocery Store           732.3800  \n",
       "4  Supermarket Type1           994.7052  "
      ]
     },
     "execution_count": 4,
     "metadata": {},
     "output_type": "execute_result"
    }
   ],
   "source": [
    "data.head()"
   ]
  },
  {
   "cell_type": "code",
   "execution_count": 5,
   "id": "e4152f95",
   "metadata": {
    "execution": {
     "iopub.execute_input": "2021-10-02T18:24:10.006460Z",
     "iopub.status.busy": "2021-10-02T18:24:10.005348Z",
     "iopub.status.idle": "2021-10-02T18:24:10.029865Z",
     "shell.execute_reply": "2021-10-02T18:24:10.029256Z",
     "shell.execute_reply.started": "2021-10-02T18:15:35.879080Z"
    },
    "papermill": {
     "duration": 0.084874,
     "end_time": "2021-10-02T18:24:10.030004",
     "exception": false,
     "start_time": "2021-10-02T18:24:09.945130",
     "status": "completed"
    },
    "tags": []
   },
   "outputs": [
    {
     "data": {
      "text/html": [
       "<div>\n",
       "<style scoped>\n",
       "    .dataframe tbody tr th:only-of-type {\n",
       "        vertical-align: middle;\n",
       "    }\n",
       "\n",
       "    .dataframe tbody tr th {\n",
       "        vertical-align: top;\n",
       "    }\n",
       "\n",
       "    .dataframe thead th {\n",
       "        text-align: right;\n",
       "    }\n",
       "</style>\n",
       "<table border=\"1\" class=\"dataframe\">\n",
       "  <thead>\n",
       "    <tr style=\"text-align: right;\">\n",
       "      <th></th>\n",
       "      <th>Item_Weight</th>\n",
       "      <th>Item_Visibility</th>\n",
       "      <th>Item_MRP</th>\n",
       "      <th>Outlet_Establishment_Year</th>\n",
       "      <th>Item_Outlet_Sales</th>\n",
       "    </tr>\n",
       "  </thead>\n",
       "  <tbody>\n",
       "    <tr>\n",
       "      <th>count</th>\n",
       "      <td>7060.000000</td>\n",
       "      <td>8523.000000</td>\n",
       "      <td>8523.000000</td>\n",
       "      <td>8523.000000</td>\n",
       "      <td>8523.000000</td>\n",
       "    </tr>\n",
       "    <tr>\n",
       "      <th>mean</th>\n",
       "      <td>12.857645</td>\n",
       "      <td>0.066132</td>\n",
       "      <td>140.992782</td>\n",
       "      <td>1997.831867</td>\n",
       "      <td>2181.288914</td>\n",
       "    </tr>\n",
       "    <tr>\n",
       "      <th>std</th>\n",
       "      <td>4.643456</td>\n",
       "      <td>0.051598</td>\n",
       "      <td>62.275067</td>\n",
       "      <td>8.371760</td>\n",
       "      <td>1706.499616</td>\n",
       "    </tr>\n",
       "    <tr>\n",
       "      <th>min</th>\n",
       "      <td>4.555000</td>\n",
       "      <td>0.000000</td>\n",
       "      <td>31.290000</td>\n",
       "      <td>1985.000000</td>\n",
       "      <td>33.290000</td>\n",
       "    </tr>\n",
       "    <tr>\n",
       "      <th>25%</th>\n",
       "      <td>8.773750</td>\n",
       "      <td>0.026989</td>\n",
       "      <td>93.826500</td>\n",
       "      <td>1987.000000</td>\n",
       "      <td>834.247400</td>\n",
       "    </tr>\n",
       "    <tr>\n",
       "      <th>50%</th>\n",
       "      <td>12.600000</td>\n",
       "      <td>0.053931</td>\n",
       "      <td>143.012800</td>\n",
       "      <td>1999.000000</td>\n",
       "      <td>1794.331000</td>\n",
       "    </tr>\n",
       "    <tr>\n",
       "      <th>75%</th>\n",
       "      <td>16.850000</td>\n",
       "      <td>0.094585</td>\n",
       "      <td>185.643700</td>\n",
       "      <td>2004.000000</td>\n",
       "      <td>3101.296400</td>\n",
       "    </tr>\n",
       "    <tr>\n",
       "      <th>max</th>\n",
       "      <td>21.350000</td>\n",
       "      <td>0.328391</td>\n",
       "      <td>266.888400</td>\n",
       "      <td>2009.000000</td>\n",
       "      <td>13086.964800</td>\n",
       "    </tr>\n",
       "  </tbody>\n",
       "</table>\n",
       "</div>"
      ],
      "text/plain": [
       "       Item_Weight  Item_Visibility     Item_MRP  Outlet_Establishment_Year  \\\n",
       "count  7060.000000      8523.000000  8523.000000                8523.000000   \n",
       "mean     12.857645         0.066132   140.992782                1997.831867   \n",
       "std       4.643456         0.051598    62.275067                   8.371760   \n",
       "min       4.555000         0.000000    31.290000                1985.000000   \n",
       "25%       8.773750         0.026989    93.826500                1987.000000   \n",
       "50%      12.600000         0.053931   143.012800                1999.000000   \n",
       "75%      16.850000         0.094585   185.643700                2004.000000   \n",
       "max      21.350000         0.328391   266.888400                2009.000000   \n",
       "\n",
       "       Item_Outlet_Sales  \n",
       "count        8523.000000  \n",
       "mean         2181.288914  \n",
       "std          1706.499616  \n",
       "min            33.290000  \n",
       "25%           834.247400  \n",
       "50%          1794.331000  \n",
       "75%          3101.296400  \n",
       "max         13086.964800  "
      ]
     },
     "execution_count": 5,
     "metadata": {},
     "output_type": "execute_result"
    }
   ],
   "source": [
    "data.describe()"
   ]
  },
  {
   "cell_type": "code",
   "execution_count": 6,
   "id": "3ecbe2a0",
   "metadata": {
    "execution": {
     "iopub.execute_input": "2021-10-02T18:24:10.142837Z",
     "iopub.status.busy": "2021-10-02T18:24:10.142141Z",
     "iopub.status.idle": "2021-10-02T18:24:10.146587Z",
     "shell.execute_reply": "2021-10-02T18:24:10.146053Z",
     "shell.execute_reply.started": "2021-10-02T18:15:35.912723Z"
    },
    "papermill": {
     "duration": 0.062958,
     "end_time": "2021-10-02T18:24:10.146728",
     "exception": false,
     "start_time": "2021-10-02T18:24:10.083770",
     "status": "completed"
    },
    "tags": []
   },
   "outputs": [
    {
     "data": {
      "text/plain": [
       "array(['Dairy', 'Soft Drinks', 'Meat', 'Fruits and Vegetables',\n",
       "       'Household', 'Baking Goods', 'Snack Foods', 'Frozen Foods',\n",
       "       'Breakfast', 'Health and Hygiene', 'Hard Drinks', 'Canned',\n",
       "       'Breads', 'Starchy Foods', 'Others', 'Seafood'], dtype=object)"
      ]
     },
     "execution_count": 6,
     "metadata": {},
     "output_type": "execute_result"
    }
   ],
   "source": [
    "data['Item_Type'].unique()"
   ]
  },
  {
   "cell_type": "code",
   "execution_count": 7,
   "id": "cedf70a5",
   "metadata": {
    "execution": {
     "iopub.execute_input": "2021-10-02T18:24:10.265564Z",
     "iopub.status.busy": "2021-10-02T18:24:10.264865Z",
     "iopub.status.idle": "2021-10-02T18:24:10.271789Z",
     "shell.execute_reply": "2021-10-02T18:24:10.271244Z",
     "shell.execute_reply.started": "2021-10-02T18:15:35.921226Z"
    },
    "papermill": {
     "duration": 0.071544,
     "end_time": "2021-10-02T18:24:10.271945",
     "exception": false,
     "start_time": "2021-10-02T18:24:10.200401",
     "status": "completed"
    },
    "tags": []
   },
   "outputs": [
    {
     "data": {
      "text/plain": [
       "Item_Identifier                 0\n",
       "Item_Weight                  1463\n",
       "Item_Fat_Content                0\n",
       "Item_Visibility                 0\n",
       "Item_Type                       0\n",
       "Item_MRP                        0\n",
       "Outlet_Identifier               0\n",
       "Outlet_Establishment_Year       0\n",
       "Outlet_Size                  2410\n",
       "Outlet_Location_Type            0\n",
       "Outlet_Type                     0\n",
       "Item_Outlet_Sales               0\n",
       "dtype: int64"
      ]
     },
     "execution_count": 7,
     "metadata": {},
     "output_type": "execute_result"
    }
   ],
   "source": [
    "data.isnull().sum()"
   ]
  },
  {
   "cell_type": "code",
   "execution_count": 8,
   "id": "1938f1ef",
   "metadata": {
    "execution": {
     "iopub.execute_input": "2021-10-02T18:24:10.387099Z",
     "iopub.status.busy": "2021-10-02T18:24:10.386424Z",
     "iopub.status.idle": "2021-10-02T18:24:10.392092Z",
     "shell.execute_reply": "2021-10-02T18:24:10.391548Z",
     "shell.execute_reply.started": "2021-10-02T18:15:35.943792Z"
    },
    "papermill": {
     "duration": 0.065562,
     "end_time": "2021-10-02T18:24:10.392238",
     "exception": false,
     "start_time": "2021-10-02T18:24:10.326676",
     "status": "completed"
    },
    "tags": []
   },
   "outputs": [],
   "source": [
    "data['Outlet_Size'] = data['Outlet_Size'].fillna(data['Outlet_Size'].mode())"
   ]
  },
  {
   "cell_type": "code",
   "execution_count": 9,
   "id": "0fc3d0d8",
   "metadata": {
    "execution": {
     "iopub.execute_input": "2021-10-02T18:24:10.507231Z",
     "iopub.status.busy": "2021-10-02T18:24:10.506536Z",
     "iopub.status.idle": "2021-10-02T18:24:10.508923Z",
     "shell.execute_reply": "2021-10-02T18:24:10.509514Z",
     "shell.execute_reply.started": "2021-10-02T18:15:35.956213Z"
    },
    "papermill": {
     "duration": 0.063677,
     "end_time": "2021-10-02T18:24:10.509690",
     "exception": false,
     "start_time": "2021-10-02T18:24:10.446013",
     "status": "completed"
    },
    "tags": []
   },
   "outputs": [],
   "source": [
    "data['Item_Weight'] = data['Item_Weight'].fillna(data['Item_Weight'].mean())"
   ]
  },
  {
   "cell_type": "code",
   "execution_count": 10,
   "id": "9aa76fc7",
   "metadata": {
    "execution": {
     "iopub.execute_input": "2021-10-02T18:24:10.625098Z",
     "iopub.status.busy": "2021-10-02T18:24:10.624458Z",
     "iopub.status.idle": "2021-10-02T18:24:10.643159Z",
     "shell.execute_reply": "2021-10-02T18:24:10.643756Z",
     "shell.execute_reply.started": "2021-10-02T18:15:35.969828Z"
    },
    "papermill": {
     "duration": 0.079199,
     "end_time": "2021-10-02T18:24:10.643924",
     "exception": false,
     "start_time": "2021-10-02T18:24:10.564725",
     "status": "completed"
    },
    "tags": []
   },
   "outputs": [
    {
     "name": "stdout",
     "output_type": "stream",
     "text": [
      "Item_Identifier : 1559\n",
      "Item_Weight : 416\n",
      "Item_Fat_Content : 5\n",
      "Item_Visibility : 7880\n",
      "Item_Type : 16\n",
      "Item_MRP : 5938\n",
      "Outlet_Identifier : 10\n",
      "Outlet_Establishment_Year : 9\n",
      "Outlet_Size : 4\n",
      "Outlet_Location_Type : 3\n",
      "Outlet_Type : 4\n",
      "Item_Outlet_Sales : 3493\n"
     ]
    }
   ],
   "source": [
    "for column in data.columns:\n",
    "    print(column, \":\",len(data[column].unique()))"
   ]
  },
  {
   "cell_type": "markdown",
   "id": "40904079",
   "metadata": {
    "papermill": {
     "duration": 0.053663,
     "end_time": "2021-10-02T18:24:10.753985",
     "exception": false,
     "start_time": "2021-10-02T18:24:10.700322",
     "status": "completed"
    },
    "tags": []
   },
   "source": [
    "Lets see the distribution in our categorical values! I excluded the ones the columns with high unique values since we can't use those effectively."
   ]
  },
  {
   "cell_type": "code",
   "execution_count": 11,
   "id": "29019050",
   "metadata": {
    "execution": {
     "iopub.execute_input": "2021-10-02T18:24:10.866426Z",
     "iopub.status.busy": "2021-10-02T18:24:10.865779Z",
     "iopub.status.idle": "2021-10-02T18:24:10.883468Z",
     "shell.execute_reply": "2021-10-02T18:24:10.882939Z",
     "shell.execute_reply.started": "2021-10-02T18:15:35.993106Z"
    },
    "papermill": {
     "duration": 0.075613,
     "end_time": "2021-10-02T18:24:10.883611",
     "exception": false,
     "start_time": "2021-10-02T18:24:10.807998",
     "status": "completed"
    },
    "tags": []
   },
   "outputs": [
    {
     "name": "stdout",
     "output_type": "stream",
     "text": [
      "Low Fat    5089\n",
      "Regular    2889\n",
      "LF          316\n",
      "reg         117\n",
      "low fat     112\n",
      "Name: Item_Fat_Content, dtype: int64 \n",
      "\n",
      "Fruits and Vegetables    1232\n",
      "Snack Foods              1200\n",
      "Household                 910\n",
      "Frozen Foods              856\n",
      "Dairy                     682\n",
      "Canned                    649\n",
      "Baking Goods              648\n",
      "Health and Hygiene        520\n",
      "Soft Drinks               445\n",
      "Meat                      425\n",
      "Breads                    251\n",
      "Hard Drinks               214\n",
      "Others                    169\n",
      "Starchy Foods             148\n",
      "Breakfast                 110\n",
      "Seafood                    64\n",
      "Name: Item_Type, dtype: int64 \n",
      "\n",
      "Medium    2793\n",
      "Small     2388\n",
      "High       932\n",
      "Name: Outlet_Size, dtype: int64 \n",
      "\n",
      "Tier 3    3350\n",
      "Tier 2    2785\n",
      "Tier 1    2388\n",
      "Name: Outlet_Location_Type, dtype: int64 \n",
      "\n",
      "Supermarket Type1    5577\n",
      "Grocery Store        1083\n",
      "Supermarket Type3     935\n",
      "Supermarket Type2     928\n",
      "Name: Outlet_Type, dtype: int64 \n",
      "\n"
     ]
    }
   ],
   "source": [
    "categorical_columns = [\"Item_Fat_Content\", \"Item_Type\", \"Outlet_Size\", \"Outlet_Location_Type\", \"Outlet_Type\"]\n",
    "for col in categorical_columns:\n",
    "    print(data[col].value_counts(), \"\\n\")"
   ]
  },
  {
   "cell_type": "code",
   "execution_count": 12,
   "id": "be98faa7",
   "metadata": {
    "execution": {
     "iopub.execute_input": "2021-10-02T18:24:11.006781Z",
     "iopub.status.busy": "2021-10-02T18:24:11.006114Z",
     "iopub.status.idle": "2021-10-02T18:24:11.013331Z",
     "shell.execute_reply": "2021-10-02T18:24:11.012768Z",
     "shell.execute_reply.started": "2021-10-02T18:15:36.007127Z"
    },
    "papermill": {
     "duration": 0.075313,
     "end_time": "2021-10-02T18:24:11.013486",
     "exception": false,
     "start_time": "2021-10-02T18:24:10.938173",
     "status": "completed"
    },
    "tags": []
   },
   "outputs": [
    {
     "data": {
      "text/plain": [
       "Item_Identifier                 0\n",
       "Item_Weight                     0\n",
       "Item_Fat_Content                0\n",
       "Item_Visibility                 0\n",
       "Item_Type                       0\n",
       "Item_MRP                        0\n",
       "Outlet_Identifier               0\n",
       "Outlet_Establishment_Year       0\n",
       "Outlet_Size                  2410\n",
       "Outlet_Location_Type            0\n",
       "Outlet_Type                     0\n",
       "Item_Outlet_Sales               0\n",
       "dtype: int64"
      ]
     },
     "execution_count": 12,
     "metadata": {},
     "output_type": "execute_result"
    }
   ],
   "source": [
    "data.isnull().sum()"
   ]
  },
  {
   "cell_type": "code",
   "execution_count": 13,
   "id": "62d01c70",
   "metadata": {
    "execution": {
     "iopub.execute_input": "2021-10-02T18:24:11.131599Z",
     "iopub.status.busy": "2021-10-02T18:24:11.130895Z",
     "iopub.status.idle": "2021-10-02T18:24:11.151976Z",
     "shell.execute_reply": "2021-10-02T18:24:11.152516Z",
     "shell.execute_reply.started": "2021-10-02T18:15:36.019557Z"
    },
    "papermill": {
     "duration": 0.083796,
     "end_time": "2021-10-02T18:24:11.152692",
     "exception": false,
     "start_time": "2021-10-02T18:24:11.068896",
     "status": "completed"
    },
    "tags": []
   },
   "outputs": [
    {
     "data": {
      "text/html": [
       "<div>\n",
       "<style scoped>\n",
       "    .dataframe tbody tr th:only-of-type {\n",
       "        vertical-align: middle;\n",
       "    }\n",
       "\n",
       "    .dataframe tbody tr th {\n",
       "        vertical-align: top;\n",
       "    }\n",
       "\n",
       "    .dataframe thead th {\n",
       "        text-align: right;\n",
       "    }\n",
       "</style>\n",
       "<table border=\"1\" class=\"dataframe\">\n",
       "  <thead>\n",
       "    <tr style=\"text-align: right;\">\n",
       "      <th></th>\n",
       "      <th>Item_Weight</th>\n",
       "      <th>Item_Visibility</th>\n",
       "      <th>Item_MRP</th>\n",
       "      <th>Outlet_Establishment_Year</th>\n",
       "      <th>Item_Outlet_Sales</th>\n",
       "    </tr>\n",
       "  </thead>\n",
       "  <tbody>\n",
       "    <tr>\n",
       "      <th>count</th>\n",
       "      <td>8523.000000</td>\n",
       "      <td>8523.000000</td>\n",
       "      <td>8523.000000</td>\n",
       "      <td>8523.000000</td>\n",
       "      <td>8523.000000</td>\n",
       "    </tr>\n",
       "    <tr>\n",
       "      <th>mean</th>\n",
       "      <td>12.857645</td>\n",
       "      <td>0.066132</td>\n",
       "      <td>140.992782</td>\n",
       "      <td>1997.831867</td>\n",
       "      <td>2181.288914</td>\n",
       "    </tr>\n",
       "    <tr>\n",
       "      <th>std</th>\n",
       "      <td>4.226124</td>\n",
       "      <td>0.051598</td>\n",
       "      <td>62.275067</td>\n",
       "      <td>8.371760</td>\n",
       "      <td>1706.499616</td>\n",
       "    </tr>\n",
       "    <tr>\n",
       "      <th>min</th>\n",
       "      <td>4.555000</td>\n",
       "      <td>0.000000</td>\n",
       "      <td>31.290000</td>\n",
       "      <td>1985.000000</td>\n",
       "      <td>33.290000</td>\n",
       "    </tr>\n",
       "    <tr>\n",
       "      <th>25%</th>\n",
       "      <td>9.310000</td>\n",
       "      <td>0.026989</td>\n",
       "      <td>93.826500</td>\n",
       "      <td>1987.000000</td>\n",
       "      <td>834.247400</td>\n",
       "    </tr>\n",
       "    <tr>\n",
       "      <th>50%</th>\n",
       "      <td>12.857645</td>\n",
       "      <td>0.053931</td>\n",
       "      <td>143.012800</td>\n",
       "      <td>1999.000000</td>\n",
       "      <td>1794.331000</td>\n",
       "    </tr>\n",
       "    <tr>\n",
       "      <th>75%</th>\n",
       "      <td>16.000000</td>\n",
       "      <td>0.094585</td>\n",
       "      <td>185.643700</td>\n",
       "      <td>2004.000000</td>\n",
       "      <td>3101.296400</td>\n",
       "    </tr>\n",
       "    <tr>\n",
       "      <th>max</th>\n",
       "      <td>21.350000</td>\n",
       "      <td>0.328391</td>\n",
       "      <td>266.888400</td>\n",
       "      <td>2009.000000</td>\n",
       "      <td>13086.964800</td>\n",
       "    </tr>\n",
       "  </tbody>\n",
       "</table>\n",
       "</div>"
      ],
      "text/plain": [
       "       Item_Weight  Item_Visibility     Item_MRP  Outlet_Establishment_Year  \\\n",
       "count  8523.000000      8523.000000  8523.000000                8523.000000   \n",
       "mean     12.857645         0.066132   140.992782                1997.831867   \n",
       "std       4.226124         0.051598    62.275067                   8.371760   \n",
       "min       4.555000         0.000000    31.290000                1985.000000   \n",
       "25%       9.310000         0.026989    93.826500                1987.000000   \n",
       "50%      12.857645         0.053931   143.012800                1999.000000   \n",
       "75%      16.000000         0.094585   185.643700                2004.000000   \n",
       "max      21.350000         0.328391   266.888400                2009.000000   \n",
       "\n",
       "       Item_Outlet_Sales  \n",
       "count        8523.000000  \n",
       "mean         2181.288914  \n",
       "std          1706.499616  \n",
       "min            33.290000  \n",
       "25%           834.247400  \n",
       "50%          1794.331000  \n",
       "75%          3101.296400  \n",
       "max         13086.964800  "
      ]
     },
     "execution_count": 13,
     "metadata": {},
     "output_type": "execute_result"
    }
   ],
   "source": [
    "data.describe()"
   ]
  },
  {
   "cell_type": "markdown",
   "id": "ee3e1281",
   "metadata": {
    "papermill": {
     "duration": 0.056327,
     "end_time": "2021-10-02T18:24:11.264281",
     "exception": false,
     "start_time": "2021-10-02T18:24:11.207954",
     "status": "completed"
    },
    "tags": []
   },
   "source": [
    "Seems like some of the items in the store have 0 visibility. Lets have close look to our date if this is an error."
   ]
  },
  {
   "cell_type": "code",
   "execution_count": 14,
   "id": "66428e0e",
   "metadata": {
    "execution": {
     "iopub.execute_input": "2021-10-02T18:24:11.378396Z",
     "iopub.status.busy": "2021-10-02T18:24:11.377744Z",
     "iopub.status.idle": "2021-10-02T18:24:11.383977Z",
     "shell.execute_reply": "2021-10-02T18:24:11.384498Z",
     "shell.execute_reply.started": "2021-10-02T18:15:36.051476Z"
    },
    "papermill": {
     "duration": 0.064321,
     "end_time": "2021-10-02T18:24:11.384664",
     "exception": false,
     "start_time": "2021-10-02T18:24:11.320343",
     "status": "completed"
    },
    "tags": []
   },
   "outputs": [
    {
     "data": {
      "text/plain": [
       "526"
      ]
     },
     "execution_count": 14,
     "metadata": {},
     "output_type": "execute_result"
    }
   ],
   "source": [
    "sum(data['Item_Visibility'] == 0)"
   ]
  },
  {
   "cell_type": "code",
   "execution_count": 15,
   "id": "a0265370",
   "metadata": {
    "execution": {
     "iopub.execute_input": "2021-10-02T18:24:11.502627Z",
     "iopub.status.busy": "2021-10-02T18:24:11.501964Z",
     "iopub.status.idle": "2021-10-02T18:24:11.763218Z",
     "shell.execute_reply": "2021-10-02T18:24:11.763760Z",
     "shell.execute_reply.started": "2021-10-02T18:15:36.060938Z"
    },
    "papermill": {
     "duration": 0.322977,
     "end_time": "2021-10-02T18:24:11.763941",
     "exception": false,
     "start_time": "2021-10-02T18:24:11.440964",
     "status": "completed"
    },
    "tags": []
   },
   "outputs": [
    {
     "data": {
      "text/plain": [
       "(array([2639., 2329., 1563.,  979.,  593.,  279.,   60.,   35.,   29.,\n",
       "          17.]),\n",
       " array([0.        , 0.03283909, 0.06567819, 0.09851728, 0.13135638,\n",
       "        0.16419547, 0.19703457, 0.22987366, 0.26271276, 0.29555185,\n",
       "        0.32839095]),\n",
       " <BarContainer object of 10 artists>)"
      ]
     },
     "execution_count": 15,
     "metadata": {},
     "output_type": "execute_result"
    },
    {
     "data": {
      "image/png": "[encoded data removed]",
      "text/plain": [
       "<Figure size 432x288 with 1 Axes>"
      ]
     },
     "metadata": {
      "needs_background": "light"
     },
     "output_type": "display_data"
    }
   ],
   "source": [
    "plt.hist(data['Item_Visibility'])"
   ]
  },
  {
   "cell_type": "markdown",
   "id": "7cda34ee",
   "metadata": {
    "papermill": {
     "duration": 0.059357,
     "end_time": "2021-10-02T18:24:11.882589",
     "exception": false,
     "start_time": "2021-10-02T18:24:11.823232",
     "status": "completed"
    },
    "tags": []
   },
   "source": [
    "It appears that our data has a right skewed distribution. Lets replace the null values with median! We also may need to normalize this data later to fit gaussian distribution and prevent data leakage."
   ]
  },
  {
   "cell_type": "code",
   "execution_count": 16,
   "id": "3886df37",
   "metadata": {
    "execution": {
     "iopub.execute_input": "2021-10-02T18:24:12.003821Z",
     "iopub.status.busy": "2021-10-02T18:24:12.003181Z",
     "iopub.status.idle": "2021-10-02T18:24:12.008225Z",
     "shell.execute_reply": "2021-10-02T18:24:12.008740Z",
     "shell.execute_reply.started": "2021-10-02T18:15:36.318065Z"
    },
    "papermill": {
     "duration": 0.06718,
     "end_time": "2021-10-02T18:24:12.008910",
     "exception": false,
     "start_time": "2021-10-02T18:24:11.941730",
     "status": "completed"
    },
    "tags": []
   },
   "outputs": [],
   "source": [
    "data['Item_Visibility'] = data['Item_Visibility'].replace(0, data['Item_Visibility'].median())"
   ]
  },
  {
   "cell_type": "markdown",
   "id": "1c6da920",
   "metadata": {
    "papermill": {
     "duration": 0.059696,
     "end_time": "2021-10-02T18:24:12.128845",
     "exception": false,
     "start_time": "2021-10-02T18:24:12.069149",
     "status": "completed"
    },
    "tags": []
   },
   "source": [
    "Our Item_Fat_Content column has multiple values that are actually same but written differently, lets fix this before feature engineering."
   ]
  },
  {
   "cell_type": "code",
   "execution_count": 17,
   "id": "2c2412aa",
   "metadata": {
    "execution": {
     "iopub.execute_input": "2021-10-02T18:24:12.247191Z",
     "iopub.status.busy": "2021-10-02T18:24:12.246546Z",
     "iopub.status.idle": "2021-10-02T18:24:12.252151Z",
     "shell.execute_reply": "2021-10-02T18:24:12.252611Z",
     "shell.execute_reply.started": "2021-10-02T18:15:36.326100Z"
    },
    "papermill": {
     "duration": 0.066019,
     "end_time": "2021-10-02T18:24:12.252788",
     "exception": false,
     "start_time": "2021-10-02T18:24:12.186769",
     "status": "completed"
    },
    "tags": []
   },
   "outputs": [
    {
     "data": {
      "text/plain": [
       "array(['Low Fat', 'Regular', 'low fat', 'LF', 'reg'], dtype=object)"
      ]
     },
     "execution_count": 17,
     "metadata": {},
     "output_type": "execute_result"
    }
   ],
   "source": [
    "data['Item_Fat_Content'].unique()"
   ]
  },
  {
   "cell_type": "code",
   "execution_count": 18,
   "id": "abb13fa1",
   "metadata": {
    "execution": {
     "iopub.execute_input": "2021-10-02T18:24:12.375531Z",
     "iopub.status.busy": "2021-10-02T18:24:12.374867Z",
     "iopub.status.idle": "2021-10-02T18:24:12.388521Z",
     "shell.execute_reply": "2021-10-02T18:24:12.388984Z",
     "shell.execute_reply.started": "2021-10-02T18:15:36.341023Z"
    },
    "papermill": {
     "duration": 0.075828,
     "end_time": "2021-10-02T18:24:12.389200",
     "exception": false,
     "start_time": "2021-10-02T18:24:12.313372",
     "status": "completed"
    },
    "tags": []
   },
   "outputs": [
    {
     "data": {
      "text/plain": [
       "Low Fat        5517\n",
       "Regular Fat    3006\n",
       "Name: Item_Fat_Content, dtype: int64"
      ]
     },
     "execution_count": 18,
     "metadata": {},
     "output_type": "execute_result"
    }
   ],
   "source": [
    "data['Item_Fat_Content'].replace(\"LF\", \"Low Fat\", inplace = True)\n",
    "data['Item_Fat_Content'].replace(\"low fat\", \"Low Fat\", inplace = True)\n",
    "data['Item_Fat_Content'].replace(\"reg\", \"Regular\", inplace = True)\n",
    "data['Item_Fat_Content'].replace(\"Regular\", \"Regular Fat\", inplace = True)\n",
    "data['Item_Fat_Content'].value_counts()"
   ]
  },
  {
   "cell_type": "code",
   "execution_count": 19,
   "id": "98f2f3b5",
   "metadata": {
    "execution": {
     "iopub.execute_input": "2021-10-02T18:24:12.508204Z",
     "iopub.status.busy": "2021-10-02T18:24:12.507213Z",
     "iopub.status.idle": "2021-10-02T18:24:12.512713Z",
     "shell.execute_reply": "2021-10-02T18:24:12.513200Z",
     "shell.execute_reply.started": "2021-10-02T18:15:36.358308Z"
    },
    "papermill": {
     "duration": 0.066768,
     "end_time": "2021-10-02T18:24:12.513380",
     "exception": false,
     "start_time": "2021-10-02T18:24:12.446612",
     "status": "completed"
    },
    "tags": []
   },
   "outputs": [],
   "source": [
    "data.drop(['Outlet_Establishment_Year'], axis = 1, inplace = True)"
   ]
  },
  {
   "cell_type": "markdown",
   "id": "641221d8",
   "metadata": {
    "papermill": {
     "duration": 0.060447,
     "end_time": "2021-10-02T18:24:12.632970",
     "exception": false,
     "start_time": "2021-10-02T18:24:12.572523",
     "status": "completed"
    },
    "tags": []
   },
   "source": [
    "With some Google research I found that the first 2 character of the Item_Identifer values only have 3 unique values: FD(Food), DR(Drink) and NC(Non consumable, other). Lets try to use information in this column instead of dropping it."
   ]
  },
  {
   "cell_type": "code",
   "execution_count": 20,
   "id": "0502f815",
   "metadata": {
    "execution": {
     "iopub.execute_input": "2021-10-02T18:24:12.770826Z",
     "iopub.status.busy": "2021-10-02T18:24:12.755136Z",
     "iopub.status.idle": "2021-10-02T18:24:12.773487Z",
     "shell.execute_reply": "2021-10-02T18:24:12.773939Z",
     "shell.execute_reply.started": "2021-10-02T18:15:36.370763Z"
    },
    "papermill": {
     "duration": 0.081135,
     "end_time": "2021-10-02T18:24:12.774127",
     "exception": false,
     "start_time": "2021-10-02T18:24:12.692992",
     "status": "completed"
    },
    "tags": []
   },
   "outputs": [
    {
     "data": {
      "text/html": [
       "<div>\n",
       "<style scoped>\n",
       "    .dataframe tbody tr th:only-of-type {\n",
       "        vertical-align: middle;\n",
       "    }\n",
       "\n",
       "    .dataframe tbody tr th {\n",
       "        vertical-align: top;\n",
       "    }\n",
       "\n",
       "    .dataframe thead th {\n",
       "        text-align: right;\n",
       "    }\n",
       "</style>\n",
       "<table border=\"1\" class=\"dataframe\">\n",
       "  <thead>\n",
       "    <tr style=\"text-align: right;\">\n",
       "      <th></th>\n",
       "      <th>Item_Identifier</th>\n",
       "      <th>Item_Weight</th>\n",
       "      <th>Item_Fat_Content</th>\n",
       "      <th>Item_Visibility</th>\n",
       "      <th>Item_Type</th>\n",
       "      <th>Item_MRP</th>\n",
       "      <th>Outlet_Identifier</th>\n",
       "      <th>Outlet_Size</th>\n",
       "      <th>Outlet_Location_Type</th>\n",
       "      <th>Outlet_Type</th>\n",
       "      <th>Item_Outlet_Sales</th>\n",
       "    </tr>\n",
       "  </thead>\n",
       "  <tbody>\n",
       "    <tr>\n",
       "      <th>4395</th>\n",
       "      <td>FDT31</td>\n",
       "      <td>19.750000</td>\n",
       "      <td>Low Fat</td>\n",
       "      <td>0.012468</td>\n",
       "      <td>Fruits and Vegetables</td>\n",
       "      <td>188.1872</td>\n",
       "      <td>OUT049</td>\n",
       "      <td>Medium</td>\n",
       "      <td>Tier 1</td>\n",
       "      <td>Supermarket Type1</td>\n",
       "      <td>2458.1336</td>\n",
       "    </tr>\n",
       "    <tr>\n",
       "      <th>6964</th>\n",
       "      <td>FDH32</td>\n",
       "      <td>12.800000</td>\n",
       "      <td>Low Fat</td>\n",
       "      <td>0.075997</td>\n",
       "      <td>Fruits and Vegetables</td>\n",
       "      <td>97.1410</td>\n",
       "      <td>OUT013</td>\n",
       "      <td>High</td>\n",
       "      <td>Tier 3</td>\n",
       "      <td>Supermarket Type1</td>\n",
       "      <td>2799.6890</td>\n",
       "    </tr>\n",
       "    <tr>\n",
       "      <th>6399</th>\n",
       "      <td>DRG36</td>\n",
       "      <td>12.857645</td>\n",
       "      <td>Low Fat</td>\n",
       "      <td>0.094916</td>\n",
       "      <td>Soft Drinks</td>\n",
       "      <td>172.3106</td>\n",
       "      <td>OUT027</td>\n",
       "      <td>Medium</td>\n",
       "      <td>Tier 3</td>\n",
       "      <td>Supermarket Type3</td>\n",
       "      <td>4277.7650</td>\n",
       "    </tr>\n",
       "    <tr>\n",
       "      <th>2565</th>\n",
       "      <td>NCN05</td>\n",
       "      <td>8.235000</td>\n",
       "      <td>Low Fat</td>\n",
       "      <td>0.014541</td>\n",
       "      <td>Health and Hygiene</td>\n",
       "      <td>184.4950</td>\n",
       "      <td>OUT017</td>\n",
       "      <td>NaN</td>\n",
       "      <td>Tier 2</td>\n",
       "      <td>Supermarket Type1</td>\n",
       "      <td>3844.9950</td>\n",
       "    </tr>\n",
       "    <tr>\n",
       "      <th>6837</th>\n",
       "      <td>DRM11</td>\n",
       "      <td>6.570000</td>\n",
       "      <td>Low Fat</td>\n",
       "      <td>0.066339</td>\n",
       "      <td>Hard Drinks</td>\n",
       "      <td>261.4278</td>\n",
       "      <td>OUT018</td>\n",
       "      <td>Medium</td>\n",
       "      <td>Tier 3</td>\n",
       "      <td>Supermarket Type2</td>\n",
       "      <td>4165.2448</td>\n",
       "    </tr>\n",
       "  </tbody>\n",
       "</table>\n",
       "</div>"
      ],
      "text/plain": [
       "     Item_Identifier  Item_Weight Item_Fat_Content  Item_Visibility  \\\n",
       "4395           FDT31    19.750000          Low Fat         0.012468   \n",
       "6964           FDH32    12.800000          Low Fat         0.075997   \n",
       "6399           DRG36    12.857645          Low Fat         0.094916   \n",
       "2565           NCN05     8.235000          Low Fat         0.014541   \n",
       "6837           DRM11     6.570000          Low Fat         0.066339   \n",
       "\n",
       "                  Item_Type  Item_MRP Outlet_Identifier Outlet_Size  \\\n",
       "4395  Fruits and Vegetables  188.1872            OUT049      Medium   \n",
       "6964  Fruits and Vegetables   97.1410            OUT013        High   \n",
       "6399            Soft Drinks  172.3106            OUT027      Medium   \n",
       "2565     Health and Hygiene  184.4950            OUT017         NaN   \n",
       "6837            Hard Drinks  261.4278            OUT018      Medium   \n",
       "\n",
       "     Outlet_Location_Type        Outlet_Type  Item_Outlet_Sales  \n",
       "4395               Tier 1  Supermarket Type1          2458.1336  \n",
       "6964               Tier 3  Supermarket Type1          2799.6890  \n",
       "6399               Tier 3  Supermarket Type3          4277.7650  \n",
       "2565               Tier 2  Supermarket Type1          3844.9950  \n",
       "6837               Tier 3  Supermarket Type2          4165.2448  "
      ]
     },
     "execution_count": 20,
     "metadata": {},
     "output_type": "execute_result"
    }
   ],
   "source": [
    "data.sample(5)"
   ]
  },
  {
   "cell_type": "code",
   "execution_count": 21,
   "id": "966f9b21",
   "metadata": {
    "execution": {
     "iopub.execute_input": "2021-10-02T18:24:12.898582Z",
     "iopub.status.busy": "2021-10-02T18:24:12.897834Z",
     "iopub.status.idle": "2021-10-02T18:24:12.908758Z",
     "shell.execute_reply": "2021-10-02T18:24:12.909330Z",
     "shell.execute_reply.started": "2021-10-02T18:15:36.396825Z"
    },
    "papermill": {
     "duration": 0.075822,
     "end_time": "2021-10-02T18:24:12.909509",
     "exception": false,
     "start_time": "2021-10-02T18:24:12.833687",
     "status": "completed"
    },
    "tags": []
   },
   "outputs": [],
   "source": [
    "data['Item_Class'] = data['Item_Identifier'].apply(lambda x: x[:2])\n",
    "data['Item_Class'].replace(\"FD\", \"Food\", inplace = True)\n",
    "data['Item_Class'].replace(\"NC\", \"Non-consumeable\", inplace = True)\n",
    "data['Item_Class'].replace(\"DR\", \"Drink\", inplace = True)"
   ]
  },
  {
   "cell_type": "code",
   "execution_count": 22,
   "id": "281bbbc0",
   "metadata": {
    "execution": {
     "iopub.execute_input": "2021-10-02T18:24:13.034346Z",
     "iopub.status.busy": "2021-10-02T18:24:13.029796Z",
     "iopub.status.idle": "2021-10-02T18:24:13.038143Z",
     "shell.execute_reply": "2021-10-02T18:24:13.037501Z",
     "shell.execute_reply.started": "2021-10-02T18:15:36.414028Z"
    },
    "papermill": {
     "duration": 0.070109,
     "end_time": "2021-10-02T18:24:13.038281",
     "exception": false,
     "start_time": "2021-10-02T18:24:12.968172",
     "status": "completed"
    },
    "tags": []
   },
   "outputs": [
    {
     "data": {
      "text/plain": [
       "0                  Food\n",
       "1                 Drink\n",
       "2                  Food\n",
       "3                  Food\n",
       "4       Non-consumeable\n",
       "             ...       \n",
       "8518               Food\n",
       "8519               Food\n",
       "8520    Non-consumeable\n",
       "8521               Food\n",
       "8522              Drink\n",
       "Name: Item_Class, Length: 8523, dtype: object"
      ]
     },
     "execution_count": 22,
     "metadata": {},
     "output_type": "execute_result"
    }
   ],
   "source": [
    "data['Item_Class']"
   ]
  },
  {
   "cell_type": "markdown",
   "id": "88fd2922",
   "metadata": {
    "papermill": {
     "duration": 0.05849,
     "end_time": "2021-10-02T18:24:13.155982",
     "exception": false,
     "start_time": "2021-10-02T18:24:13.097492",
     "status": "completed"
    },
    "tags": []
   },
   "source": [
    "Since we changed some of the values in our Item_Class column to non consumable and non consumable products don't have any fat content we should change those specific rows' Item_Fat_Content to be more accurate."
   ]
  },
  {
   "cell_type": "code",
   "execution_count": 23,
   "id": "ebbf151e",
   "metadata": {
    "execution": {
     "iopub.execute_input": "2021-10-02T18:24:13.288327Z",
     "iopub.status.busy": "2021-10-02T18:24:13.287469Z",
     "iopub.status.idle": "2021-10-02T18:24:13.290299Z",
     "shell.execute_reply": "2021-10-02T18:24:13.290780Z",
     "shell.execute_reply.started": "2021-10-02T18:15:36.429138Z"
    },
    "papermill": {
     "duration": 0.07623,
     "end_time": "2021-10-02T18:24:13.290943",
     "exception": false,
     "start_time": "2021-10-02T18:24:13.214713",
     "status": "completed"
    },
    "tags": []
   },
   "outputs": [
    {
     "data": {
      "text/plain": [
       "Low Fat            3918\n",
       "Regular Fat        3006\n",
       "Non-consumeable    1599\n",
       "Name: Item_Fat_Content, dtype: int64"
      ]
     },
     "execution_count": 23,
     "metadata": {},
     "output_type": "execute_result"
    }
   ],
   "source": [
    "data.loc[data['Item_Class'] == \"Non-consumeable\", \"Item_Fat_Content\"] = \"Non-consumeable\"\n",
    "data['Item_Fat_Content'].value_counts()"
   ]
  },
  {
   "cell_type": "markdown",
   "id": "5eb4dab4",
   "metadata": {
    "papermill": {
     "duration": 0.059211,
     "end_time": "2021-10-02T18:24:13.409839",
     "exception": false,
     "start_time": "2021-10-02T18:24:13.350628",
     "status": "completed"
    },
    "tags": []
   },
   "source": [
    "# Explorary Data Analysis"
   ]
  },
  {
   "cell_type": "markdown",
   "id": "3c041867",
   "metadata": {
    "papermill": {
     "duration": 0.059641,
     "end_time": "2021-10-02T18:24:13.528194",
     "exception": false,
     "start_time": "2021-10-02T18:24:13.468553",
     "status": "completed"
    },
    "tags": []
   },
   "source": [
    "Lets see the distribution in our features! I excluded Item_Identifier and Outlet_Identifier since they are ID values."
   ]
  },
  {
   "cell_type": "code",
   "execution_count": 24,
   "id": "72d9500e",
   "metadata": {
    "execution": {
     "iopub.execute_input": "2021-10-02T18:24:13.672229Z",
     "iopub.status.busy": "2021-10-02T18:24:13.648699Z",
     "iopub.status.idle": "2021-10-02T18:24:16.085327Z",
     "shell.execute_reply": "2021-10-02T18:24:16.084679Z",
     "shell.execute_reply.started": "2021-10-02T18:15:36.445550Z"
    },
    "papermill": {
     "duration": 2.498062,
     "end_time": "2021-10-02T18:24:16.085474",
     "exception": false,
     "start_time": "2021-10-02T18:24:13.587412",
     "status": "completed"
    },
    "tags": []
   },
   "outputs": [
    {
     "name": "stdout",
     "output_type": "stream",
     "text": [
      "Item_Weight\n"
     ]
    },
    {
     "data": {
      "text/plain": [
       "<Figure size 1440x720 with 0 Axes>"
      ]
     },
     "metadata": {},
     "output_type": "display_data"
    },
    {
     "data": {
      "image/png": "[encoded data removed]",
      "text/plain": [
       "<Figure size 1080x576 with 1 Axes>"
      ]
     },
     "metadata": {
      "needs_background": "light"
     },
     "output_type": "display_data"
    },
    {
     "name": "stdout",
     "output_type": "stream",
     "text": [
      "Item_Fat_Content\n"
     ]
    },
    {
     "name": "stderr",
     "output_type": "stream",
     "text": [
      "/home/kyustoyu/.local/lib/python3.8/site-packages/seaborn/_decorators.py:36: FutureWarning: Pass the following variable as a keyword arg: x. From version 0.12, the only valid positional argument will be `data`, and passing other arguments without an explicit keyword will result in an error or misinterpretation.\n",
      "  warnings.warn(\n"
     ]
    },
    {
     "data": {
      "image/png": "[encoded data removed]",
      "text/plain": [
       "<Figure size 1440x720 with 1 Axes>"
      ]
     },
     "metadata": {
      "needs_background": "light"
     },
     "output_type": "display_data"
    },
    {
     "name": "stdout",
     "output_type": "stream",
     "text": [
      "Item_Visibility\n"
     ]
    },
    {
     "data": {
      "image/png": "[encoded data removed]",
      "text/plain": [
       "<Figure size 1080x576 with 1 Axes>"
      ]
     },
     "metadata": {
      "needs_background": "light"
     },
     "output_type": "display_data"
    },
    {
     "name": "stdout",
     "output_type": "stream",
     "text": [
      "Item_Type\n"
     ]
    },
    {
     "name": "stderr",
     "output_type": "stream",
     "text": [
      "/home/kyustoyu/.local/lib/python3.8/site-packages/seaborn/_decorators.py:36: FutureWarning: Pass the following variable as a keyword arg: x. From version 0.12, the only valid positional argument will be `data`, and passing other arguments without an explicit keyword will result in an error or misinterpretation.\n",
      "  warnings.warn(\n"
     ]
    },
    {
     "data": {
      "image/png": "[encoded data removed]",
      "text/plain": [
       "<Figure size 1440x720 with 1 Axes>"
      ]
     },
     "metadata": {
      "needs_background": "light"
     },
     "output_type": "display_data"
    },
    {
     "name": "stdout",
     "output_type": "stream",
     "text": [
      "Item_MRP\n"
     ]
    },
    {
     "data": {
      "image/png": "[encoded data removed]",
      "text/plain": [
       "<Figure size 1080x576 with 1 Axes>"
      ]
     },
     "metadata": {
      "needs_background": "light"
     },
     "output_type": "display_data"
    },
    {
     "name": "stdout",
     "output_type": "stream",
     "text": [
      "Outlet_Size\n"
     ]
    },
    {
     "name": "stderr",
     "output_type": "stream",
     "text": [
      "/home/kyustoyu/.local/lib/python3.8/site-packages/seaborn/_decorators.py:36: FutureWarning: Pass the following variable as a keyword arg: x. From version 0.12, the only valid positional argument will be `data`, and passing other arguments without an explicit keyword will result in an error or misinterpretation.\n",
      "  warnings.warn(\n"
     ]
    },
    {
     "data": {
      "text/plain": [
       "<Figure size 1440x720 with 0 Axes>"
      ]
     },
     "metadata": {},
     "output_type": "display_data"
    },
    {
     "data": {
      "image/png": "[encoded data removed]",
      "text/plain": [
       "<Figure size 1440x720 with 1 Axes>"
      ]
     },
     "metadata": {
      "needs_background": "light"
     },
     "output_type": "display_data"
    },
    {
     "name": "stdout",
     "output_type": "stream",
     "text": [
      "Outlet_Location_Type\n"
     ]
    },
    {
     "name": "stderr",
     "output_type": "stream",
     "text": [
      "/home/kyustoyu/.local/lib/python3.8/site-packages/seaborn/_decorators.py:36: FutureWarning: Pass the following variable as a keyword arg: x. From version 0.12, the only valid positional argument will be `data`, and passing other arguments without an explicit keyword will result in an error or misinterpretation.\n",
      "  warnings.warn(\n"
     ]
    },
    {
     "data": {
      "image/png": "[encoded data removed]",
      "text/plain": [
       "<Figure size 1440x720 with 1 Axes>"
      ]
     },
     "metadata": {
      "needs_background": "light"
     },
     "output_type": "display_data"
    },
    {
     "name": "stdout",
     "output_type": "stream",
     "text": [
      "Outlet_Type\n"
     ]
    },
    {
     "name": "stderr",
     "output_type": "stream",
     "text": [
      "/home/kyustoyu/.local/lib/python3.8/site-packages/seaborn/_decorators.py:36: FutureWarning: Pass the following variable as a keyword arg: x. From version 0.12, the only valid positional argument will be `data`, and passing other arguments without an explicit keyword will result in an error or misinterpretation.\n",
      "  warnings.warn(\n"
     ]
    },
    {
     "data": {
      "image/png": "[encoded data removed]",
      "text/plain": [
       "<Figure size 1440x720 with 1 Axes>"
      ]
     },
     "metadata": {
      "needs_background": "light"
     },
     "output_type": "display_data"
    },
    {
     "name": "stdout",
     "output_type": "stream",
     "text": [
      "Item_Outlet_Sales\n"
     ]
    },
    {
     "data": {
      "image/png": "[encoded data removed]",
      "text/plain": [
       "<Figure size 1080x576 with 1 Axes>"
      ]
     },
     "metadata": {
      "needs_background": "light"
     },
     "output_type": "display_data"
    },
    {
     "name": "stdout",
     "output_type": "stream",
     "text": [
      "Item_Class\n"
     ]
    },
    {
     "name": "stderr",
     "output_type": "stream",
     "text": [
      "/home/kyustoyu/.local/lib/python3.8/site-packages/seaborn/_decorators.py:36: FutureWarning: Pass the following variable as a keyword arg: x. From version 0.12, the only valid positional argument will be `data`, and passing other arguments without an explicit keyword will result in an error or misinterpretation.\n",
      "  warnings.warn(\n"
     ]
    },
    {
     "data": {
      "image/png": "[encoded data removed]",
      "text/plain": [
       "<Figure size 1440x720 with 1 Axes>"
      ]
     },
     "metadata": {
      "needs_background": "light"
     },
     "output_type": "display_data"
    }
   ],
   "source": [
    "for column in data.columns:\n",
    "    if data[column].dtype == \"O\":\n",
    "        plt.figure(figsize=(20, 10))\n",
    "        if column not in ['Item_Identifier', 'Outlet_Identifier']:\n",
    "            print(column)\n",
    "            sns.countplot(data[column])\n",
    "            plt.show()\n",
    "    else:\n",
    "        plt.figure(figsize=(15, 8))\n",
    "        print(column)\n",
    "        plt.hist(data[column])\n",
    "        plt.title(column)\n",
    "        plt.show()"
   ]
  },
  {
   "cell_type": "markdown",
   "id": "2096091f",
   "metadata": {
    "papermill": {
     "duration": 0.073142,
     "end_time": "2021-10-02T18:24:16.232884",
     "exception": false,
     "start_time": "2021-10-02T18:24:16.159742",
     "status": "completed"
    },
    "tags": []
   },
   "source": [
    "Lets not forget that our Item_MRP value has a uniform distribution and  Item_Outlet_Sales and Item_Visibility has a exponential distribution, we need to scale them after splitting the training and testing data."
   ]
  },
  {
   "cell_type": "code",
   "execution_count": 25,
   "id": "4a4ed311",
   "metadata": {
    "execution": {
     "iopub.execute_input": "2021-10-02T18:24:16.390784Z",
     "iopub.status.busy": "2021-10-02T18:24:16.390145Z",
     "iopub.status.idle": "2021-10-02T18:24:16.753291Z",
     "shell.execute_reply": "2021-10-02T18:24:16.753837Z",
     "shell.execute_reply.started": "2021-10-02T18:15:38.732074Z"
    },
    "papermill": {
     "duration": 0.444613,
     "end_time": "2021-10-02T18:24:16.754025",
     "exception": false,
     "start_time": "2021-10-02T18:24:16.309412",
     "status": "completed"
    },
    "tags": []
   },
   "outputs": [
    {
     "data": {
      "text/plain": [
       "<AxesSubplot:>"
      ]
     },
     "execution_count": 25,
     "metadata": {},
     "output_type": "execute_result"
    },
    {
     "data": {
      "image/png": "[encoded data removed]",
      "text/plain": [
       "<Figure size 1440x720 with 2 Axes>"
      ]
     },
     "metadata": {
      "needs_background": "light"
     },
     "output_type": "display_data"
    }
   ],
   "source": [
    "plt.figure(figsize = (20, 10))\n",
    "sns.heatmap(data.corr(), annot = True, cmap = \"RdBu\")"
   ]
  },
  {
   "cell_type": "markdown",
   "id": "716d418e",
   "metadata": {
    "papermill": {
     "duration": 0.075828,
     "end_time": "2021-10-02T18:24:16.906743",
     "exception": false,
     "start_time": "2021-10-02T18:24:16.830915",
     "status": "completed"
    },
    "tags": []
   },
   "source": [
    "Looks like there isn't much correlation between the independent continues variables and output values except Item_MRP"
   ]
  },
  {
   "cell_type": "markdown",
   "id": "b94a4bc3",
   "metadata": {
    "papermill": {
     "duration": 0.077423,
     "end_time": "2021-10-02T18:24:17.058411",
     "exception": false,
     "start_time": "2021-10-02T18:24:16.980988",
     "status": "completed"
    },
    "tags": []
   },
   "source": [
    "# Feature Engineering"
   ]
  },
  {
   "cell_type": "markdown",
   "id": "c7da1a6b",
   "metadata": {
    "papermill": {
     "duration": 0.073381,
     "end_time": "2021-10-02T18:24:17.206413",
     "exception": false,
     "start_time": "2021-10-02T18:24:17.133032",
     "status": "completed"
    },
    "tags": []
   },
   "source": [
    "Lets transform our Item_Fat_Content and Item_Class features with One hot encoding since they are ordinal and the remaining with Label encoder"
   ]
  },
  {
   "cell_type": "code",
   "execution_count": 26,
   "id": "6f73f8f7",
   "metadata": {
    "execution": {
     "iopub.execute_input": "2021-10-02T18:24:17.358985Z",
     "iopub.status.busy": "2021-10-02T18:24:17.356055Z",
     "iopub.status.idle": "2021-10-02T18:24:17.498821Z",
     "shell.execute_reply": "2021-10-02T18:24:17.498289Z",
     "shell.execute_reply.started": "2021-10-02T18:15:39.069141Z"
    },
    "papermill": {
     "duration": 0.218758,
     "end_time": "2021-10-02T18:24:17.498972",
     "exception": false,
     "start_time": "2021-10-02T18:24:17.280214",
     "status": "completed"
    },
    "tags": []
   },
   "outputs": [],
   "source": [
    "columns_to_encode = [\"Outlet_Size\", \"Outlet_Location_Type\", \"Outlet_Type\"]\n",
    "from sklearn.preprocessing import LabelEncoder\n",
    "le = LabelEncoder()\n",
    "for column in columns_to_encode:\n",
    "        data[column] = le.fit_transform(data[column].astype(str))"
   ]
  },
  {
   "cell_type": "code",
   "execution_count": 27,
   "id": "f1276a78",
   "metadata": {
    "execution": {
     "iopub.execute_input": "2021-10-02T18:24:17.663445Z",
     "iopub.status.busy": "2021-10-02T18:24:17.662619Z",
     "iopub.status.idle": "2021-10-02T18:24:17.665951Z",
     "shell.execute_reply": "2021-10-02T18:24:17.666490Z",
     "shell.execute_reply.started": "2021-10-02T18:15:39.195071Z"
    },
    "papermill": {
     "duration": 0.093767,
     "end_time": "2021-10-02T18:24:17.666668",
     "exception": false,
     "start_time": "2021-10-02T18:24:17.572901",
     "status": "completed"
    },
    "tags": []
   },
   "outputs": [
    {
     "data": {
      "text/html": [
       "<div>\n",
       "<style scoped>\n",
       "    .dataframe tbody tr th:only-of-type {\n",
       "        vertical-align: middle;\n",
       "    }\n",
       "\n",
       "    .dataframe tbody tr th {\n",
       "        vertical-align: top;\n",
       "    }\n",
       "\n",
       "    .dataframe thead th {\n",
       "        text-align: right;\n",
       "    }\n",
       "</style>\n",
       "<table border=\"1\" class=\"dataframe\">\n",
       "  <thead>\n",
       "    <tr style=\"text-align: right;\">\n",
       "      <th></th>\n",
       "      <th>Item_Identifier</th>\n",
       "      <th>Item_Weight</th>\n",
       "      <th>Item_Fat_Content</th>\n",
       "      <th>Item_Visibility</th>\n",
       "      <th>Item_Type</th>\n",
       "      <th>Item_MRP</th>\n",
       "      <th>Outlet_Identifier</th>\n",
       "      <th>Outlet_Size</th>\n",
       "      <th>Outlet_Location_Type</th>\n",
       "      <th>Outlet_Type</th>\n",
       "      <th>Item_Outlet_Sales</th>\n",
       "      <th>Item_Class</th>\n",
       "    </tr>\n",
       "  </thead>\n",
       "  <tbody>\n",
       "    <tr>\n",
       "      <th>0</th>\n",
       "      <td>FDA15</td>\n",
       "      <td>9.30</td>\n",
       "      <td>Low Fat</td>\n",
       "      <td>0.016047</td>\n",
       "      <td>Dairy</td>\n",
       "      <td>249.8092</td>\n",
       "      <td>OUT049</td>\n",
       "      <td>1</td>\n",
       "      <td>0</td>\n",
       "      <td>1</td>\n",
       "      <td>3735.1380</td>\n",
       "      <td>Food</td>\n",
       "    </tr>\n",
       "    <tr>\n",
       "      <th>1</th>\n",
       "      <td>DRC01</td>\n",
       "      <td>5.92</td>\n",
       "      <td>Regular Fat</td>\n",
       "      <td>0.019278</td>\n",
       "      <td>Soft Drinks</td>\n",
       "      <td>48.2692</td>\n",
       "      <td>OUT018</td>\n",
       "      <td>1</td>\n",
       "      <td>2</td>\n",
       "      <td>2</td>\n",
       "      <td>443.4228</td>\n",
       "      <td>Drink</td>\n",
       "    </tr>\n",
       "    <tr>\n",
       "      <th>2</th>\n",
       "      <td>FDN15</td>\n",
       "      <td>17.50</td>\n",
       "      <td>Low Fat</td>\n",
       "      <td>0.016760</td>\n",
       "      <td>Meat</td>\n",
       "      <td>141.6180</td>\n",
       "      <td>OUT049</td>\n",
       "      <td>1</td>\n",
       "      <td>0</td>\n",
       "      <td>1</td>\n",
       "      <td>2097.2700</td>\n",
       "      <td>Food</td>\n",
       "    </tr>\n",
       "    <tr>\n",
       "      <th>3</th>\n",
       "      <td>FDX07</td>\n",
       "      <td>19.20</td>\n",
       "      <td>Regular Fat</td>\n",
       "      <td>0.053931</td>\n",
       "      <td>Fruits and Vegetables</td>\n",
       "      <td>182.0950</td>\n",
       "      <td>OUT010</td>\n",
       "      <td>3</td>\n",
       "      <td>2</td>\n",
       "      <td>0</td>\n",
       "      <td>732.3800</td>\n",
       "      <td>Food</td>\n",
       "    </tr>\n",
       "    <tr>\n",
       "      <th>4</th>\n",
       "      <td>NCD19</td>\n",
       "      <td>8.93</td>\n",
       "      <td>Non-consumeable</td>\n",
       "      <td>0.053931</td>\n",
       "      <td>Household</td>\n",
       "      <td>53.8614</td>\n",
       "      <td>OUT013</td>\n",
       "      <td>0</td>\n",
       "      <td>2</td>\n",
       "      <td>1</td>\n",
       "      <td>994.7052</td>\n",
       "      <td>Non-consumeable</td>\n",
       "    </tr>\n",
       "  </tbody>\n",
       "</table>\n",
       "</div>"
      ],
      "text/plain": [
       "  Item_Identifier  Item_Weight Item_Fat_Content  Item_Visibility  \\\n",
       "0           FDA15         9.30          Low Fat         0.016047   \n",
       "1           DRC01         5.92      Regular Fat         0.019278   \n",
       "2           FDN15        17.50          Low Fat         0.016760   \n",
       "3           FDX07        19.20      Regular Fat         0.053931   \n",
       "4           NCD19         8.93  Non-consumeable         0.053931   \n",
       "\n",
       "               Item_Type  Item_MRP Outlet_Identifier  Outlet_Size  \\\n",
       "0                  Dairy  249.8092            OUT049            1   \n",
       "1            Soft Drinks   48.2692            OUT018            1   \n",
       "2                   Meat  141.6180            OUT049            1   \n",
       "3  Fruits and Vegetables  182.0950            OUT010            3   \n",
       "4              Household   53.8614            OUT013            0   \n",
       "\n",
       "   Outlet_Location_Type  Outlet_Type  Item_Outlet_Sales       Item_Class  \n",
       "0                     0            1          3735.1380             Food  \n",
       "1                     2            2           443.4228            Drink  \n",
       "2                     0            1          2097.2700             Food  \n",
       "3                     2            0           732.3800             Food  \n",
       "4                     2            1           994.7052  Non-consumeable  "
      ]
     },
     "execution_count": 27,
     "metadata": {},
     "output_type": "execute_result"
    }
   ],
   "source": [
    "data.head()"
   ]
  },
  {
   "cell_type": "code",
   "execution_count": 28,
   "id": "48917346",
   "metadata": {
    "execution": {
     "iopub.execute_input": "2021-10-02T18:24:17.822144Z",
     "iopub.status.busy": "2021-10-02T18:24:17.821194Z",
     "iopub.status.idle": "2021-10-02T18:24:17.847687Z",
     "shell.execute_reply": "2021-10-02T18:24:17.848184Z",
     "shell.execute_reply.started": "2021-10-02T18:15:39.217359Z"
    },
    "papermill": {
     "duration": 0.104234,
     "end_time": "2021-10-02T18:24:17.848351",
     "exception": false,
     "start_time": "2021-10-02T18:24:17.744117",
     "status": "completed"
    },
    "scrolled": true,
    "tags": []
   },
   "outputs": [
    {
     "data": {
      "text/html": [
       "<div>\n",
       "<style scoped>\n",
       "    .dataframe tbody tr th:only-of-type {\n",
       "        vertical-align: middle;\n",
       "    }\n",
       "\n",
       "    .dataframe tbody tr th {\n",
       "        vertical-align: top;\n",
       "    }\n",
       "\n",
       "    .dataframe thead th {\n",
       "        text-align: right;\n",
       "    }\n",
       "</style>\n",
       "<table border=\"1\" class=\"dataframe\">\n",
       "  <thead>\n",
       "    <tr style=\"text-align: right;\">\n",
       "      <th></th>\n",
       "      <th>Item_Identifier</th>\n",
       "      <th>Item_Weight</th>\n",
       "      <th>Item_Visibility</th>\n",
       "      <th>Item_Type</th>\n",
       "      <th>Item_MRP</th>\n",
       "      <th>Outlet_Identifier</th>\n",
       "      <th>Outlet_Size</th>\n",
       "      <th>Outlet_Location_Type</th>\n",
       "      <th>Outlet_Type</th>\n",
       "      <th>Item_Outlet_Sales</th>\n",
       "      <th>Item_Fat_Content_Low Fat</th>\n",
       "      <th>Item_Fat_Content_Non-consumeable</th>\n",
       "      <th>Item_Fat_Content_Regular Fat</th>\n",
       "      <th>Item_Class_Drink</th>\n",
       "      <th>Item_Class_Food</th>\n",
       "      <th>Item_Class_Non-consumeable</th>\n",
       "    </tr>\n",
       "  </thead>\n",
       "  <tbody>\n",
       "    <tr>\n",
       "      <th>0</th>\n",
       "      <td>FDA15</td>\n",
       "      <td>9.30</td>\n",
       "      <td>0.016047</td>\n",
       "      <td>Dairy</td>\n",
       "      <td>249.8092</td>\n",
       "      <td>OUT049</td>\n",
       "      <td>1</td>\n",
       "      <td>0</td>\n",
       "      <td>1</td>\n",
       "      <td>3735.1380</td>\n",
       "      <td>1</td>\n",
       "      <td>0</td>\n",
       "      <td>0</td>\n",
       "      <td>0</td>\n",
       "      <td>1</td>\n",
       "      <td>0</td>\n",
       "    </tr>\n",
       "    <tr>\n",
       "      <th>1</th>\n",
       "      <td>DRC01</td>\n",
       "      <td>5.92</td>\n",
       "      <td>0.019278</td>\n",
       "      <td>Soft Drinks</td>\n",
       "      <td>48.2692</td>\n",
       "      <td>OUT018</td>\n",
       "      <td>1</td>\n",
       "      <td>2</td>\n",
       "      <td>2</td>\n",
       "      <td>443.4228</td>\n",
       "      <td>0</td>\n",
       "      <td>0</td>\n",
       "      <td>1</td>\n",
       "      <td>1</td>\n",
       "      <td>0</td>\n",
       "      <td>0</td>\n",
       "    </tr>\n",
       "    <tr>\n",
       "      <th>2</th>\n",
       "      <td>FDN15</td>\n",
       "      <td>17.50</td>\n",
       "      <td>0.016760</td>\n",
       "      <td>Meat</td>\n",
       "      <td>141.6180</td>\n",
       "      <td>OUT049</td>\n",
       "      <td>1</td>\n",
       "      <td>0</td>\n",
       "      <td>1</td>\n",
       "      <td>2097.2700</td>\n",
       "      <td>1</td>\n",
       "      <td>0</td>\n",
       "      <td>0</td>\n",
       "      <td>0</td>\n",
       "      <td>1</td>\n",
       "      <td>0</td>\n",
       "    </tr>\n",
       "    <tr>\n",
       "      <th>3</th>\n",
       "      <td>FDX07</td>\n",
       "      <td>19.20</td>\n",
       "      <td>0.053931</td>\n",
       "      <td>Fruits and Vegetables</td>\n",
       "      <td>182.0950</td>\n",
       "      <td>OUT010</td>\n",
       "      <td>3</td>\n",
       "      <td>2</td>\n",
       "      <td>0</td>\n",
       "      <td>732.3800</td>\n",
       "      <td>0</td>\n",
       "      <td>0</td>\n",
       "      <td>1</td>\n",
       "      <td>0</td>\n",
       "      <td>1</td>\n",
       "      <td>0</td>\n",
       "    </tr>\n",
       "    <tr>\n",
       "      <th>4</th>\n",
       "      <td>NCD19</td>\n",
       "      <td>8.93</td>\n",
       "      <td>0.053931</td>\n",
       "      <td>Household</td>\n",
       "      <td>53.8614</td>\n",
       "      <td>OUT013</td>\n",
       "      <td>0</td>\n",
       "      <td>2</td>\n",
       "      <td>1</td>\n",
       "      <td>994.7052</td>\n",
       "      <td>0</td>\n",
       "      <td>1</td>\n",
       "      <td>0</td>\n",
       "      <td>0</td>\n",
       "      <td>0</td>\n",
       "      <td>1</td>\n",
       "    </tr>\n",
       "  </tbody>\n",
       "</table>\n",
       "</div>"
      ],
      "text/plain": [
       "  Item_Identifier  Item_Weight  Item_Visibility              Item_Type  \\\n",
       "0           FDA15         9.30         0.016047                  Dairy   \n",
       "1           DRC01         5.92         0.019278            Soft Drinks   \n",
       "2           FDN15        17.50         0.016760                   Meat   \n",
       "3           FDX07        19.20         0.053931  Fruits and Vegetables   \n",
       "4           NCD19         8.93         0.053931              Household   \n",
       "\n",
       "   Item_MRP Outlet_Identifier  Outlet_Size  Outlet_Location_Type  Outlet_Type  \\\n",
       "0  249.8092            OUT049            1                     0            1   \n",
       "1   48.2692            OUT018            1                     2            2   \n",
       "2  141.6180            OUT049            1                     0            1   \n",
       "3  182.0950            OUT010            3                     2            0   \n",
       "4   53.8614            OUT013            0                     2            1   \n",
       "\n",
       "   Item_Outlet_Sales  Item_Fat_Content_Low Fat  \\\n",
       "0          3735.1380                         1   \n",
       "1           443.4228                         0   \n",
       "2          2097.2700                         1   \n",
       "3           732.3800                         0   \n",
       "4           994.7052                         0   \n",
       "\n",
       "   Item_Fat_Content_Non-consumeable  Item_Fat_Content_Regular Fat  \\\n",
       "0                                 0                             0   \n",
       "1                                 0                             1   \n",
       "2                                 0                             0   \n",
       "3                                 0                             1   \n",
       "4                                 1                             0   \n",
       "\n",
       "   Item_Class_Drink  Item_Class_Food  Item_Class_Non-consumeable  \n",
       "0                 0                1                           0  \n",
       "1                 1                0                           0  \n",
       "2                 0                1                           0  \n",
       "3                 0                1                           0  \n",
       "4                 0                0                           1  "
      ]
     },
     "execution_count": 28,
     "metadata": {},
     "output_type": "execute_result"
    }
   ],
   "source": [
    "data = pd.get_dummies(data, columns=['Item_Fat_Content', 'Item_Class'])\n",
    "data.head()"
   ]
  },
  {
   "cell_type": "markdown",
   "id": "74cf8103",
   "metadata": {
    "papermill": {
     "duration": 0.075978,
     "end_time": "2021-10-02T18:24:17.998674",
     "exception": false,
     "start_time": "2021-10-02T18:24:17.922696",
     "status": "completed"
    },
    "tags": []
   },
   "source": [
    "We should drop one column each feature we applied one hot encoding to escape dummy variable trap."
   ]
  },
  {
   "cell_type": "code",
   "execution_count": 29,
   "id": "1401b8ab",
   "metadata": {
    "execution": {
     "iopub.execute_input": "2021-10-02T18:24:18.151330Z",
     "iopub.status.busy": "2021-10-02T18:24:18.150652Z",
     "iopub.status.idle": "2021-10-02T18:24:18.157312Z",
     "shell.execute_reply": "2021-10-02T18:24:18.156676Z",
     "shell.execute_reply.started": "2021-10-02T18:15:39.247848Z"
    },
    "papermill": {
     "duration": 0.084279,
     "end_time": "2021-10-02T18:24:18.157458",
     "exception": false,
     "start_time": "2021-10-02T18:24:18.073179",
     "status": "completed"
    },
    "tags": []
   },
   "outputs": [],
   "source": [
    "data.drop(['Item_Fat_Content_Non-consumeable', 'Item_Class_Non-consumeable'], axis = 1, inplace = True)"
   ]
  },
  {
   "cell_type": "code",
   "execution_count": 30,
   "id": "7b10b266",
   "metadata": {
    "execution": {
     "iopub.execute_input": "2021-10-02T18:24:18.329715Z",
     "iopub.status.busy": "2021-10-02T18:24:18.317242Z",
     "iopub.status.idle": "2021-10-02T18:24:18.333669Z",
     "shell.execute_reply": "2021-10-02T18:24:18.333031Z",
     "shell.execute_reply.started": "2021-10-02T18:15:39.255919Z"
    },
    "papermill": {
     "duration": 0.100353,
     "end_time": "2021-10-02T18:24:18.333810",
     "exception": false,
     "start_time": "2021-10-02T18:24:18.233457",
     "status": "completed"
    },
    "tags": []
   },
   "outputs": [
    {
     "data": {
      "text/html": [
       "<div>\n",
       "<style scoped>\n",
       "    .dataframe tbody tr th:only-of-type {\n",
       "        vertical-align: middle;\n",
       "    }\n",
       "\n",
       "    .dataframe tbody tr th {\n",
       "        vertical-align: top;\n",
       "    }\n",
       "\n",
       "    .dataframe thead th {\n",
       "        text-align: right;\n",
       "    }\n",
       "</style>\n",
       "<table border=\"1\" class=\"dataframe\">\n",
       "  <thead>\n",
       "    <tr style=\"text-align: right;\">\n",
       "      <th></th>\n",
       "      <th>Item_Identifier</th>\n",
       "      <th>Item_Weight</th>\n",
       "      <th>Item_Visibility</th>\n",
       "      <th>Item_Type</th>\n",
       "      <th>Item_MRP</th>\n",
       "      <th>Outlet_Identifier</th>\n",
       "      <th>Outlet_Size</th>\n",
       "      <th>Outlet_Location_Type</th>\n",
       "      <th>Outlet_Type</th>\n",
       "      <th>Item_Outlet_Sales</th>\n",
       "      <th>Item_Fat_Content_Low Fat</th>\n",
       "      <th>Item_Fat_Content_Regular Fat</th>\n",
       "      <th>Item_Class_Drink</th>\n",
       "      <th>Item_Class_Food</th>\n",
       "    </tr>\n",
       "  </thead>\n",
       "  <tbody>\n",
       "    <tr>\n",
       "      <th>0</th>\n",
       "      <td>FDA15</td>\n",
       "      <td>9.30</td>\n",
       "      <td>0.016047</td>\n",
       "      <td>Dairy</td>\n",
       "      <td>249.8092</td>\n",
       "      <td>OUT049</td>\n",
       "      <td>1</td>\n",
       "      <td>0</td>\n",
       "      <td>1</td>\n",
       "      <td>3735.1380</td>\n",
       "      <td>1</td>\n",
       "      <td>0</td>\n",
       "      <td>0</td>\n",
       "      <td>1</td>\n",
       "    </tr>\n",
       "    <tr>\n",
       "      <th>1</th>\n",
       "      <td>DRC01</td>\n",
       "      <td>5.92</td>\n",
       "      <td>0.019278</td>\n",
       "      <td>Soft Drinks</td>\n",
       "      <td>48.2692</td>\n",
       "      <td>OUT018</td>\n",
       "      <td>1</td>\n",
       "      <td>2</td>\n",
       "      <td>2</td>\n",
       "      <td>443.4228</td>\n",
       "      <td>0</td>\n",
       "      <td>1</td>\n",
       "      <td>1</td>\n",
       "      <td>0</td>\n",
       "    </tr>\n",
       "    <tr>\n",
       "      <th>2</th>\n",
       "      <td>FDN15</td>\n",
       "      <td>17.50</td>\n",
       "      <td>0.016760</td>\n",
       "      <td>Meat</td>\n",
       "      <td>141.6180</td>\n",
       "      <td>OUT049</td>\n",
       "      <td>1</td>\n",
       "      <td>0</td>\n",
       "      <td>1</td>\n",
       "      <td>2097.2700</td>\n",
       "      <td>1</td>\n",
       "      <td>0</td>\n",
       "      <td>0</td>\n",
       "      <td>1</td>\n",
       "    </tr>\n",
       "    <tr>\n",
       "      <th>3</th>\n",
       "      <td>FDX07</td>\n",
       "      <td>19.20</td>\n",
       "      <td>0.053931</td>\n",
       "      <td>Fruits and Vegetables</td>\n",
       "      <td>182.0950</td>\n",
       "      <td>OUT010</td>\n",
       "      <td>3</td>\n",
       "      <td>2</td>\n",
       "      <td>0</td>\n",
       "      <td>732.3800</td>\n",
       "      <td>0</td>\n",
       "      <td>1</td>\n",
       "      <td>0</td>\n",
       "      <td>1</td>\n",
       "    </tr>\n",
       "    <tr>\n",
       "      <th>4</th>\n",
       "      <td>NCD19</td>\n",
       "      <td>8.93</td>\n",
       "      <td>0.053931</td>\n",
       "      <td>Household</td>\n",
       "      <td>53.8614</td>\n",
       "      <td>OUT013</td>\n",
       "      <td>0</td>\n",
       "      <td>2</td>\n",
       "      <td>1</td>\n",
       "      <td>994.7052</td>\n",
       "      <td>0</td>\n",
       "      <td>0</td>\n",
       "      <td>0</td>\n",
       "      <td>0</td>\n",
       "    </tr>\n",
       "  </tbody>\n",
       "</table>\n",
       "</div>"
      ],
      "text/plain": [
       "  Item_Identifier  Item_Weight  Item_Visibility              Item_Type  \\\n",
       "0           FDA15         9.30         0.016047                  Dairy   \n",
       "1           DRC01         5.92         0.019278            Soft Drinks   \n",
       "2           FDN15        17.50         0.016760                   Meat   \n",
       "3           FDX07        19.20         0.053931  Fruits and Vegetables   \n",
       "4           NCD19         8.93         0.053931              Household   \n",
       "\n",
       "   Item_MRP Outlet_Identifier  Outlet_Size  Outlet_Location_Type  Outlet_Type  \\\n",
       "0  249.8092            OUT049            1                     0            1   \n",
       "1   48.2692            OUT018            1                     2            2   \n",
       "2  141.6180            OUT049            1                     0            1   \n",
       "3  182.0950            OUT010            3                     2            0   \n",
       "4   53.8614            OUT013            0                     2            1   \n",
       "\n",
       "   Item_Outlet_Sales  Item_Fat_Content_Low Fat  Item_Fat_Content_Regular Fat  \\\n",
       "0          3735.1380                         1                             0   \n",
       "1           443.4228                         0                             1   \n",
       "2          2097.2700                         1                             0   \n",
       "3           732.3800                         0                             1   \n",
       "4           994.7052                         0                             0   \n",
       "\n",
       "   Item_Class_Drink  Item_Class_Food  \n",
       "0                 0                1  \n",
       "1                 1                0  \n",
       "2                 0                1  \n",
       "3                 0                1  \n",
       "4                 0                0  "
      ]
     },
     "execution_count": 30,
     "metadata": {},
     "output_type": "execute_result"
    }
   ],
   "source": [
    "data.head()"
   ]
  },
  {
   "cell_type": "markdown",
   "id": "abb0661f",
   "metadata": {
    "papermill": {
     "duration": 0.074946,
     "end_time": "2021-10-02T18:24:18.485521",
     "exception": false,
     "start_time": "2021-10-02T18:24:18.410575",
     "status": "completed"
    },
    "tags": []
   },
   "source": [
    "# Feature Transformation"
   ]
  },
  {
   "cell_type": "code",
   "execution_count": 31,
   "id": "8578697d",
   "metadata": {
    "execution": {
     "iopub.execute_input": "2021-10-02T18:24:18.640515Z",
     "iopub.status.busy": "2021-10-02T18:24:18.639832Z",
     "iopub.status.idle": "2021-10-02T18:24:18.732908Z",
     "shell.execute_reply": "2021-10-02T18:24:18.733445Z",
     "shell.execute_reply.started": "2021-10-02T18:15:39.281878Z"
    },
    "papermill": {
     "duration": 0.171466,
     "end_time": "2021-10-02T18:24:18.733612",
     "exception": false,
     "start_time": "2021-10-02T18:24:18.562146",
     "status": "completed"
    },
    "scrolled": true,
    "tags": []
   },
   "outputs": [],
   "source": [
    "X = data.drop(['Item_Identifier', 'Outlet_Identifier', 'Item_Type', 'Item_Outlet_Sales'], axis = 1)\n",
    "y = data['Item_Outlet_Sales']\n",
    "from sklearn.model_selection import train_test_split\n",
    "X_train, X_test, y_train, y_test = train_test_split(X, y, test_size=0.3, random_state=51)\n",
    "\n",
    "from sklearn.preprocessing import power_transform\n",
    "# Scaling the Item_MRP feature in test split\n",
    "scaled_features = X_test.copy()\n",
    "col_names = ['Item_MRP']\n",
    "features = scaled_features[col_names]\n",
    "new_data = power_transform(features, method='box-cox')\n",
    "X_test['Item_MRP'] = new_data\n",
    "\n",
    "# Scaling the Item_MRP feature in training split\n",
    "scaled_features = X_train.copy()\n",
    "col_names = ['Item_MRP']\n",
    "features = scaled_features[col_names]\n",
    "new_data = power_transform(features, method='box-cox')\n",
    "X_train['Item_MRP'] = new_data"
   ]
  },
  {
   "cell_type": "markdown",
   "id": "c28417a0",
   "metadata": {
    "papermill": {
     "duration": 0.075366,
     "end_time": "2021-10-02T18:24:18.885232",
     "exception": false,
     "start_time": "2021-10-02T18:24:18.809866",
     "status": "completed"
    },
    "tags": []
   },
   "source": [
    "Lets use Box Cox transformation for Item_MRP since it has a uniform distribution and cubic root transformation since it has a right skewed distribution."
   ]
  },
  {
   "cell_type": "code",
   "execution_count": 32,
   "id": "8dc4c169",
   "metadata": {
    "execution": {
     "iopub.execute_input": "2021-10-02T18:24:19.044440Z",
     "iopub.status.busy": "2021-10-02T18:24:19.043731Z",
     "iopub.status.idle": "2021-10-02T18:24:19.049581Z",
     "shell.execute_reply": "2021-10-02T18:24:19.048844Z",
     "shell.execute_reply.started": "2021-10-02T18:15:39.369257Z"
    },
    "papermill": {
     "duration": 0.087714,
     "end_time": "2021-10-02T18:24:19.049727",
     "exception": false,
     "start_time": "2021-10-02T18:24:18.962013",
     "status": "completed"
    },
    "tags": []
   },
   "outputs": [],
   "source": [
    "# Transforming the Item_Visibility feature by power transformation\n",
    "X_train['Item_Visibility'] = X_train['Item_Visibility'] ** (1 / 3)\n",
    "X_test['Item_Visibility'] = X_test['Item_Visibility'] ** (1 / 3)"
   ]
  },
  {
   "cell_type": "markdown",
   "id": "cf055807",
   "metadata": {
    "papermill": {
     "duration": 0.07536,
     "end_time": "2021-10-02T18:24:19.202417",
     "exception": false,
     "start_time": "2021-10-02T18:24:19.127057",
     "status": "completed"
    },
    "tags": []
   },
   "source": [
    "Have a quick look at our new correlation matrix!"
   ]
  },
  {
   "cell_type": "code",
   "execution_count": 33,
   "id": "d6353766",
   "metadata": {
    "execution": {
     "iopub.execute_input": "2021-10-02T18:24:19.360253Z",
     "iopub.status.busy": "2021-10-02T18:24:19.359347Z",
     "iopub.status.idle": "2021-10-02T18:24:20.551136Z",
     "shell.execute_reply": "2021-10-02T18:24:20.551649Z",
     "shell.execute_reply.started": "2021-10-02T18:15:39.378818Z"
    },
    "papermill": {
     "duration": 1.274065,
     "end_time": "2021-10-02T18:24:20.551821",
     "exception": false,
     "start_time": "2021-10-02T18:24:19.277756",
     "status": "completed"
    },
    "tags": []
   },
   "outputs": [
    {
     "data": {
      "text/plain": [
       "<AxesSubplot:>"
      ]
     },
     "execution_count": 33,
     "metadata": {},
     "output_type": "execute_result"
    },
    {
     "data": {
      "image/png": "[encoded data removed]",
      "text/plain": [
       "<Figure size 1440x720 with 2 Axes>"
      ]
     },
     "metadata": {
      "needs_background": "light"
     },
     "output_type": "display_data"
    }
   ],
   "source": [
    "plt.figure(figsize = (20, 10))\n",
    "sns.heatmap(data.corr(), annot = True)"
   ]
  },
  {
   "cell_type": "code",
   "execution_count": 34,
   "id": "3ed1d914",
   "metadata": {
    "execution": {
     "iopub.execute_input": "2021-10-02T18:24:20.717994Z",
     "iopub.status.busy": "2021-10-02T18:24:20.714709Z",
     "iopub.status.idle": "2021-10-02T18:24:20.750418Z",
     "shell.execute_reply": "2021-10-02T18:24:20.749821Z",
     "shell.execute_reply.started": "2021-10-02T18:15:40.459823Z"
    },
    "papermill": {
     "duration": 0.118229,
     "end_time": "2021-10-02T18:24:20.750581",
     "exception": false,
     "start_time": "2021-10-02T18:24:20.632352",
     "status": "completed"
    },
    "tags": []
   },
   "outputs": [],
   "source": [
    "y_test = power_transform(y_test.copy().values.reshape(-1, 1), method='box-cox')\n",
    "y_train = power_transform(y_train.copy().values.reshape(-1, 1), method='box-cox')"
   ]
  },
  {
   "cell_type": "markdown",
   "id": "c431bb07",
   "metadata": {
    "papermill": {
     "duration": 0.078645,
     "end_time": "2021-10-02T18:24:20.909070",
     "exception": false,
     "start_time": "2021-10-02T18:24:20.830425",
     "status": "completed"
    },
    "tags": []
   },
   "source": [
    "# Model Fitting"
   ]
  },
  {
   "cell_type": "code",
   "execution_count": 35,
   "id": "96b9b666",
   "metadata": {
    "execution": {
     "iopub.execute_input": "2021-10-02T18:24:21.072578Z",
     "iopub.status.busy": "2021-10-02T18:24:21.071884Z",
     "iopub.status.idle": "2021-10-02T18:24:21.186281Z",
     "shell.execute_reply": "2021-10-02T18:24:21.187507Z",
     "shell.execute_reply.started": "2021-10-02T18:15:40.495124Z"
    },
    "papermill": {
     "duration": 0.198033,
     "end_time": "2021-10-02T18:24:21.187823",
     "exception": false,
     "start_time": "2021-10-02T18:24:20.989790",
     "status": "completed"
    },
    "tags": []
   },
   "outputs": [
    {
     "data": {
      "text/plain": [
       "0.548701622177646"
      ]
     },
     "execution_count": 35,
     "metadata": {},
     "output_type": "execute_result"
    }
   ],
   "source": [
    "from sklearn.linear_model import LinearRegression\n",
    "model = LinearRegression()\n",
    "model.fit(X_train, y_train)\n",
    "model.score(X_test, y_test)"
   ]
  },
  {
   "cell_type": "code",
   "execution_count": 36,
   "id": "52adb57d",
   "metadata": {
    "execution": {
     "iopub.execute_input": "2021-10-02T18:24:21.404386Z",
     "iopub.status.busy": "2021-10-02T18:24:21.403690Z",
     "iopub.status.idle": "2021-10-02T18:24:21.544365Z",
     "shell.execute_reply": "2021-10-02T18:24:21.544848Z",
     "shell.execute_reply.started": "2021-10-02T18:15:40.599604Z"
    },
    "papermill": {
     "duration": 0.22677,
     "end_time": "2021-10-02T18:24:21.545010",
     "exception": false,
     "start_time": "2021-10-02T18:24:21.318240",
     "status": "completed"
    },
    "tags": []
   },
   "outputs": [
    {
     "data": {
      "text/plain": [
       "0.3875570046371791"
      ]
     },
     "execution_count": 36,
     "metadata": {},
     "output_type": "execute_result"
    }
   ],
   "source": [
    "from sklearn.tree import DecisionTreeRegressor\n",
    "model2 = DecisionTreeRegressor()\n",
    "model2.fit(X_train, y_train)\n",
    "model2.score(X_test, y_test)"
   ]
  },
  {
   "cell_type": "code",
   "execution_count": 37,
   "id": "b196e766",
   "metadata": {
    "execution": {
     "iopub.execute_input": "2021-10-02T18:24:21.712328Z",
     "iopub.status.busy": "2021-10-02T18:24:21.711661Z",
     "iopub.status.idle": "2021-10-02T18:24:21.744862Z",
     "shell.execute_reply": "2021-10-02T18:24:21.745689Z",
     "shell.execute_reply.started": "2021-10-02T18:15:40.751745Z"
    },
    "papermill": {
     "duration": 0.120493,
     "end_time": "2021-10-02T18:24:21.745954",
     "exception": false,
     "start_time": "2021-10-02T18:24:21.625461",
     "status": "completed"
    },
    "tags": []
   },
   "outputs": [
    {
     "name": "stderr",
     "output_type": "stream",
     "text": [
      "/home/kyustoyu/.local/lib/python3.8/site-packages/sklearn/utils/validation.py:985: DataConversionWarning: A column-vector y was passed when a 1d array was expected. Please change the shape of y to (n_samples, ), for example using ravel().\n",
      "  y = column_or_1d(y, warn=True)\n"
     ]
    },
    {
     "data": {
      "text/plain": [
       "0.5401141731448773"
      ]
     },
     "execution_count": 37,
     "metadata": {},
     "output_type": "execute_result"
    }
   ],
   "source": [
    "from sklearn.linear_model import SGDRegressor\n",
    "model3 = SGDRegressor()\n",
    "model3.fit(X_train, y_train)\n",
    "model3.score(X_test, y_test)"
   ]
  },
  {
   "cell_type": "code",
   "execution_count": 38,
   "id": "7d06be18",
   "metadata": {
    "execution": {
     "iopub.execute_input": "2021-10-02T18:24:21.969179Z",
     "iopub.status.busy": "2021-10-02T18:24:21.968309Z",
     "iopub.status.idle": "2021-10-02T18:24:21.983284Z",
     "shell.execute_reply": "2021-10-02T18:24:21.984204Z",
     "shell.execute_reply.started": "2021-10-02T18:15:40.788334Z"
    },
    "papermill": {
     "duration": 0.106039,
     "end_time": "2021-10-02T18:24:21.984515",
     "exception": false,
     "start_time": "2021-10-02T18:24:21.878476",
     "status": "completed"
    },
    "tags": []
   },
   "outputs": [
    {
     "data": {
      "text/plain": [
       "-2.220446049250313e-16"
      ]
     },
     "execution_count": 38,
     "metadata": {},
     "output_type": "execute_result"
    }
   ],
   "source": [
    "from sklearn.linear_model import Lasso\n",
    "model4 = Lasso()\n",
    "model4.fit(X_train, y_train)\n",
    "model4.score(X_test, y_test)"
   ]
  },
  {
   "cell_type": "code",
   "execution_count": 39,
   "id": "d3f68760",
   "metadata": {
    "execution": {
     "iopub.execute_input": "2021-10-02T18:24:22.209799Z",
     "iopub.status.busy": "2021-10-02T18:24:22.209058Z",
     "iopub.status.idle": "2021-10-02T18:24:25.110147Z",
     "shell.execute_reply": "2021-10-02T18:24:25.109612Z",
     "shell.execute_reply.started": "2021-10-02T18:15:40.811705Z"
    },
    "papermill": {
     "duration": 2.990224,
     "end_time": "2021-10-02T18:24:25.110298",
     "exception": false,
     "start_time": "2021-10-02T18:24:22.120074",
     "status": "completed"
    },
    "tags": []
   },
   "outputs": [
    {
     "name": "stderr",
     "output_type": "stream",
     "text": [
      "/home/kyustoyu/.local/lib/python3.8/site-packages/sklearn/utils/validation.py:985: DataConversionWarning: A column-vector y was passed when a 1d array was expected. Please change the shape of y to (n_samples, ), for example using ravel().\n",
      "  y = column_or_1d(y, warn=True)\n"
     ]
    },
    {
     "data": {
      "text/plain": [
       "0.6340712886301694"
      ]
     },
     "execution_count": 39,
     "metadata": {},
     "output_type": "execute_result"
    }
   ],
   "source": [
    "from sklearn import svm\n",
    "model5 = svm.SVR()\n",
    "model5.fit(X_train, y_train)\n",
    "model5.score(X_test, y_test)"
   ]
  },
  {
   "cell_type": "code",
   "execution_count": 40,
   "id": "ae98b3ca",
   "metadata": {
    "execution": {
     "iopub.execute_input": "2021-10-02T18:24:25.278028Z",
     "iopub.status.busy": "2021-10-02T18:24:25.277001Z",
     "iopub.status.idle": "2021-10-02T18:24:25.298662Z",
     "shell.execute_reply": "2021-10-02T18:24:25.299499Z",
     "shell.execute_reply.started": "2021-10-02T18:15:43.850051Z"
    },
    "papermill": {
     "duration": 0.107586,
     "end_time": "2021-10-02T18:24:25.299762",
     "exception": false,
     "start_time": "2021-10-02T18:24:25.192176",
     "status": "completed"
    },
    "tags": []
   },
   "outputs": [
    {
     "data": {
      "text/plain": [
       "0.5486626695651673"
      ]
     },
     "execution_count": 40,
     "metadata": {},
     "output_type": "execute_result"
    }
   ],
   "source": [
    "from sklearn.linear_model import Ridge\n",
    "model6 = Ridge()\n",
    "model6.fit(X_train, y_train)\n",
    "model6.score(X_test, y_test)"
   ]
  },
  {
   "cell_type": "code",
   "execution_count": 41,
   "id": "f89eb922",
   "metadata": {
    "execution": {
     "iopub.execute_input": "2021-10-02T18:24:25.525559Z",
     "iopub.status.busy": "2021-10-02T18:24:25.524322Z",
     "iopub.status.idle": "2021-10-02T18:24:25.534976Z",
     "shell.execute_reply": "2021-10-02T18:24:25.535974Z",
     "shell.execute_reply.started": "2021-10-02T18:15:43.871271Z"
    },
    "papermill": {
     "duration": 0.10294,
     "end_time": "2021-10-02T18:24:25.536258",
     "exception": false,
     "start_time": "2021-10-02T18:24:25.433318",
     "status": "completed"
    },
    "tags": []
   },
   "outputs": [
    {
     "data": {
      "text/plain": [
       "0.044947406170260495"
      ]
     },
     "execution_count": 41,
     "metadata": {},
     "output_type": "execute_result"
    }
   ],
   "source": [
    "from sklearn.linear_model import ElasticNet\n",
    "model7 = ElasticNet()\n",
    "model7.fit(X_train, y_train)\n",
    "model7.score(X_test, y_test)"
   ]
  },
  {
   "cell_type": "code",
   "execution_count": 42,
   "id": "59c9f64a",
   "metadata": {
    "execution": {
     "iopub.execute_input": "2021-10-02T18:24:25.761532Z",
     "iopub.status.busy": "2021-10-02T18:24:25.758816Z",
     "iopub.status.idle": "2021-10-02T18:24:28.428969Z",
     "shell.execute_reply": "2021-10-02T18:24:28.428430Z",
     "shell.execute_reply.started": "2021-10-02T18:15:43.890623Z"
    },
    "papermill": {
     "duration": 2.758757,
     "end_time": "2021-10-02T18:24:28.429141",
     "exception": false,
     "start_time": "2021-10-02T18:24:25.670384",
     "status": "completed"
    },
    "tags": []
   },
   "outputs": [
    {
     "name": "stderr",
     "output_type": "stream",
     "text": [
      "/tmp/ipykernel_15198/502058362.py:3: DataConversionWarning: A column-vector y was passed when a 1d array was expected. Please change the shape of y to (n_samples,), for example using ravel().\n",
      "  model8.fit(X_train, y_train)\n"
     ]
    },
    {
     "data": {
      "text/plain": [
       "0.6632504534030312"
      ]
     },
     "execution_count": 42,
     "metadata": {},
     "output_type": "execute_result"
    }
   ],
   "source": [
    "from sklearn.ensemble import RandomForestRegressor\n",
    "model8 = RandomForestRegressor()\n",
    "model8.fit(X_train, y_train)\n",
    "model8.score(X_test, y_test)"
   ]
  },
  {
   "cell_type": "code",
   "execution_count": 43,
   "id": "ea2ccae5",
   "metadata": {
    "execution": {
     "iopub.execute_input": "2021-10-02T18:24:28.614138Z",
     "iopub.status.busy": "2021-10-02T18:24:28.612938Z",
     "iopub.status.idle": "2021-10-02T18:24:29.259579Z",
     "shell.execute_reply": "2021-10-02T18:24:29.261200Z",
     "shell.execute_reply.started": "2021-10-02T18:15:46.512402Z"
    },
    "papermill": {
     "duration": 0.748282,
     "end_time": "2021-10-02T18:24:29.261590",
     "exception": false,
     "start_time": "2021-10-02T18:24:28.513308",
     "status": "completed"
    },
    "tags": []
   },
   "outputs": [
    {
     "name": "stdout",
     "output_type": "stream",
     "text": [
      "Model1 0.548701622177646\n",
      "Model2 0.3875570046371791\n",
      "Model3 0.5401141731448773\n",
      "Model4 -2.220446049250313e-16\n",
      "Model5 0.6340712886301694\n",
      "Model6 0.5486626695651673\n",
      "Model7 0.044947406170260495\n",
      "Model8 0.6632504534030312\n"
     ]
    }
   ],
   "source": [
    "print(\"Model1\", model.score(X_test, y_test))\n",
    "print(\"Model2\", model2.score(X_test, y_test))\n",
    "print(\"Model3\", model3.score(X_test, y_test))\n",
    "print(\"Model4\", model4.score(X_test, y_test))\n",
    "print(\"Model5\", model5.score(X_test, y_test))\n",
    "print(\"Model6\", model6.score(X_test, y_test))\n",
    "print(\"Model7\", model7.score(X_test, y_test))\n",
    "print(\"Model8\", model8.score(X_test, y_test))"
   ]
  },
  {
   "cell_type": "markdown",
   "id": "7a69bc04",
   "metadata": {
    "papermill": {
     "duration": 0.083124,
     "end_time": "2021-10-02T18:24:29.430406",
     "exception": false,
     "start_time": "2021-10-02T18:24:29.347282",
     "status": "completed"
    },
    "tags": []
   },
   "source": [
    "Lets investigate the RandomForestRegressor."
   ]
  },
  {
   "cell_type": "code",
   "execution_count": 44,
   "id": "b1040a03",
   "metadata": {
    "execution": {
     "iopub.execute_input": "2021-10-02T18:24:29.602465Z",
     "iopub.status.busy": "2021-10-02T18:24:29.601797Z",
     "iopub.status.idle": "2021-10-02T18:24:29.745057Z",
     "shell.execute_reply": "2021-10-02T18:24:29.745649Z",
     "shell.execute_reply.started": "2021-10-02T18:15:47.156781Z"
    },
    "papermill": {
     "duration": 0.232093,
     "end_time": "2021-10-02T18:24:29.745823",
     "exception": false,
     "start_time": "2021-10-02T18:24:29.513730",
     "status": "completed"
    },
    "tags": []
   },
   "outputs": [
    {
     "name": "stdout",
     "output_type": "stream",
     "text": [
      "Model8 0.9510686468775648\n"
     ]
    }
   ],
   "source": [
    "print(\"Model8\", model8.score(X_train, y_train))"
   ]
  },
  {
   "cell_type": "code",
   "execution_count": 45,
   "id": "42daa5bc",
   "metadata": {
    "execution": {
     "iopub.execute_input": "2021-10-02T18:24:29.927299Z",
     "iopub.status.busy": "2021-10-02T18:24:29.920245Z",
     "iopub.status.idle": "2021-10-02T18:24:30.128584Z",
     "shell.execute_reply": "2021-10-02T18:24:30.129026Z",
     "shell.execute_reply.started": "2021-10-02T18:17:40.857442Z"
    },
    "papermill": {
     "duration": 0.298254,
     "end_time": "2021-10-02T18:24:30.129218",
     "exception": false,
     "start_time": "2021-10-02T18:24:29.830964",
     "status": "completed"
    },
    "tags": []
   },
   "outputs": [
    {
     "name": "stdout",
     "output_type": "stream",
     "text": [
      "-2.667810472850527e-16\n"
     ]
    },
    {
     "data": {
      "image/png": "[encoded data removed]",
      "text/plain": [
       "<Figure size 432x288 with 1 Axes>"
      ]
     },
     "metadata": {
      "needs_background": "light"
     },
     "output_type": "display_data"
    }
   ],
   "source": [
    "print(y_train.mean())\n",
    "plt.hist(y_train)\n",
    "plt.show()"
   ]
  },
  {
   "cell_type": "code",
   "execution_count": 46,
   "id": "9c1bd6b8",
   "metadata": {
    "execution": {
     "iopub.execute_input": "2021-10-02T18:24:30.328019Z",
     "iopub.status.busy": "2021-10-02T18:24:30.327375Z",
     "iopub.status.idle": "2021-10-02T18:24:30.514421Z",
     "shell.execute_reply": "2021-10-02T18:24:30.515003Z",
     "shell.execute_reply.started": "2021-10-02T18:17:52.395352Z"
    },
    "papermill": {
     "duration": 0.299714,
     "end_time": "2021-10-02T18:24:30.515192",
     "exception": false,
     "start_time": "2021-10-02T18:24:30.215478",
     "status": "completed"
    },
    "tags": []
   },
   "outputs": [
    {
     "name": "stdout",
     "output_type": "stream",
     "text": [
      "3.925074752683385e-16\n"
     ]
    },
    {
     "data": {
      "image/png": "[encoded data removed]",
      "text/plain": [
       "<Figure size 432x288 with 1 Axes>"
      ]
     },
     "metadata": {
      "needs_background": "light"
     },
     "output_type": "display_data"
    }
   ],
   "source": [
    "print(y_test.mean())\n",
    "plt.hist(y_test)\n",
    "plt.show()"
   ]
  },
  {
   "cell_type": "code",
   "execution_count": 47,
   "id": "7e5def2f",
   "metadata": {
    "execution": {
     "iopub.execute_input": "2021-10-02T18:24:30.695871Z",
     "iopub.status.busy": "2021-10-02T18:24:30.694856Z",
     "iopub.status.idle": "2021-10-02T18:24:31.120538Z",
     "shell.execute_reply": "2021-10-02T18:24:31.121333Z",
     "shell.execute_reply.started": "2021-10-02T18:18:31.595027Z"
    },
    "papermill": {
     "duration": 0.519702,
     "end_time": "2021-10-02T18:24:31.121578",
     "exception": false,
     "start_time": "2021-10-02T18:24:30.601876",
     "status": "completed"
    },
    "scrolled": true,
    "tags": []
   },
   "outputs": [
    {
     "data": {
      "text/plain": [
       "<BarContainer object of 10 artists>"
      ]
     },
     "execution_count": 47,
     "metadata": {},
     "output_type": "execute_result"
    },
    {
     "data": {
      "image/png": "[encoded data removed]",
      "text/plain": [
       "<Figure size 432x288 with 1 Axes>"
      ]
     },
     "metadata": {
      "needs_background": "light"
     },
     "output_type": "display_data"
    }
   ],
   "source": [
    "plt.barh(X_train.columns, model8.feature_importances_)"
   ]
  },
  {
   "cell_type": "markdown",
   "id": "353f4006",
   "metadata": {
    "papermill": {
     "duration": 0.086653,
     "end_time": "2021-10-02T18:24:31.303846",
     "exception": false,
     "start_time": "2021-10-02T18:24:31.217193",
     "status": "completed"
    },
    "tags": []
   },
   "source": [
    "Seems like our model has overfit the data, parameter tuning may fix this issue."
   ]
  },
  {
   "cell_type": "code",
   "execution_count": 48,
   "id": "c0f5f8bb",
   "metadata": {
    "execution": {
     "iopub.execute_input": "2021-10-02T18:24:31.482359Z",
     "iopub.status.busy": "2021-10-02T18:24:31.481636Z",
     "iopub.status.idle": "2021-10-02T18:24:31.486687Z",
     "shell.execute_reply": "2021-10-02T18:24:31.486155Z",
     "shell.execute_reply.started": "2021-10-02T18:18:34.884443Z"
    },
    "papermill": {
     "duration": 0.096327,
     "end_time": "2021-10-02T18:24:31.486835",
     "exception": false,
     "start_time": "2021-10-02T18:24:31.390508",
     "status": "completed"
    },
    "tags": []
   },
   "outputs": [
    {
     "name": "stdout",
     "output_type": "stream",
     "text": [
      "{'bootstrap': True, 'ccp_alpha': 0.0, 'criterion': 'squared_error', 'max_depth': None, 'max_features': 'auto', 'max_leaf_nodes': None, 'max_samples': None, 'min_impurity_decrease': 0.0, 'min_samples_leaf': 1, 'min_samples_split': 2, 'min_weight_fraction_leaf': 0.0, 'n_estimators': 100, 'n_jobs': None, 'oob_score': False, 'random_state': None, 'verbose': 0, 'warm_start': False}\n"
     ]
    }
   ],
   "source": [
    "print(model8.get_params())"
   ]
  },
  {
   "cell_type": "code",
   "execution_count": 49,
   "id": "d606999d",
   "metadata": {
    "execution": {
     "iopub.execute_input": "2021-10-02T18:24:31.674899Z",
     "iopub.status.busy": "2021-10-02T18:24:31.674200Z",
     "iopub.status.idle": "2021-10-02T18:26:27.242040Z",
     "shell.execute_reply": "2021-10-02T18:26:27.242538Z",
     "shell.execute_reply.started": "2021-10-02T18:20:52.887250Z"
    },
    "papermill": {
     "duration": 115.666025,
     "end_time": "2021-10-02T18:26:27.242726",
     "exception": false,
     "start_time": "2021-10-02T18:24:31.576701",
     "status": "completed"
    },
    "tags": []
   },
   "outputs": [
    {
     "name": "stdout",
     "output_type": "stream",
     "text": [
      "Fitting 3 folds for each of 100 candidates, totalling 300 fits\n"
     ]
    },
    {
     "data": {
      "text/plain": [
       "RandomizedSearchCV(cv=3, estimator=RandomForestRegressor(), n_iter=100,\n",
       "                   n_jobs=-1,\n",
       "                   param_distributions={'bootstrap': [True, False],\n",
       "                                        'max_depth': [3, 5, 7, 9, 11, 15],\n",
       "                                        'max_features': ['auto', 'sqrt'],\n",
       "                                        'n_estimators': [10, 20, 40, 50, 100,\n",
       "                                                         150, 200, 500]},\n",
       "                   random_state=42, verbose=2)"
      ]
     },
     "execution_count": 49,
     "metadata": {},
     "output_type": "execute_result"
    }
   ],
   "source": [
    "from sklearn.model_selection import RandomizedSearchCV# Number of trees in random forest\n",
    "random_grid = {\n",
    "                'n_estimators': [10, 20, 40, 50, 100, 150, 200, 500],\n",
    "                'max_features': ['auto', 'sqrt'],\n",
    "                'max_depth': [3, 5, 7, 9, 11, 15],\n",
    "                'bootstrap': [True, False]\n",
    "                }\n",
    "rf = RandomForestRegressor()\n",
    "rf_random = RandomizedSearchCV(estimator = rf, param_distributions = random_grid, n_iter = 100, cv = 3, verbose=2, random_state=42, n_jobs = -1)\n",
    "rf_random.fit(X_train, y_train.ravel())"
   ]
  },
  {
   "cell_type": "code",
   "execution_count": 50,
   "id": "32ec0106",
   "metadata": {
    "execution": {
     "iopub.execute_input": "2021-10-02T18:26:27.431273Z",
     "iopub.status.busy": "2021-10-02T18:26:27.430624Z",
     "iopub.status.idle": "2021-10-02T18:26:27.501936Z",
     "shell.execute_reply": "2021-10-02T18:26:27.502424Z",
     "shell.execute_reply.started": "2021-10-02T18:23:39.693601Z"
    },
    "papermill": {
     "duration": 0.169186,
     "end_time": "2021-10-02T18:26:27.502611",
     "exception": false,
     "start_time": "2021-10-02T18:26:27.333425",
     "status": "completed"
    },
    "tags": []
   },
   "outputs": [
    {
     "data": {
      "text/plain": [
       "0.7038307270727907"
      ]
     },
     "execution_count": 50,
     "metadata": {},
     "output_type": "execute_result"
    }
   ],
   "source": [
    "rf_random.score(X_train, y_train)"
   ]
  },
  {
   "cell_type": "code",
   "execution_count": 51,
   "id": "5ef1354f",
   "metadata": {
    "execution": {
     "iopub.execute_input": "2021-10-02T18:26:27.695033Z",
     "iopub.status.busy": "2021-10-02T18:26:27.694390Z",
     "iopub.status.idle": "2021-10-02T18:26:27.736300Z",
     "shell.execute_reply": "2021-10-02T18:26:27.736891Z",
     "shell.execute_reply.started": "2021-10-02T18:23:42.311394Z"
    },
    "papermill": {
     "duration": 0.140086,
     "end_time": "2021-10-02T18:26:27.737070",
     "exception": false,
     "start_time": "2021-10-02T18:26:27.596984",
     "status": "completed"
    },
    "tags": []
   },
   "outputs": [
    {
     "data": {
      "text/plain": [
       "0.6968327275266591"
      ]
     },
     "execution_count": 51,
     "metadata": {},
     "output_type": "execute_result"
    }
   ],
   "source": [
    "rf_random.score(X_test, y_test)"
   ]
  },
  {
   "cell_type": "code",
   "execution_count": 52,
   "id": "c98e6d09",
   "metadata": {
    "execution": {
     "iopub.execute_input": "2021-10-02T18:26:27.927694Z",
     "iopub.status.busy": "2021-10-02T18:26:27.926773Z",
     "iopub.status.idle": "2021-10-02T18:26:28.195362Z",
     "shell.execute_reply": "2021-10-02T18:26:28.194806Z",
     "shell.execute_reply.started": "2021-10-02T18:23:44.931828Z"
    },
    "papermill": {
     "duration": 0.364698,
     "end_time": "2021-10-02T18:26:28.195504",
     "exception": false,
     "start_time": "2021-10-02T18:26:27.830806",
     "status": "completed"
    },
    "tags": []
   },
   "outputs": [
    {
     "data": {
      "text/plain": [
       "<BarContainer object of 10 artists>"
      ]
     },
     "execution_count": 52,
     "metadata": {},
     "output_type": "execute_result"
    },
    {
     "data": {
      "image/png": "[encoded data removed]",
      "text/plain": [
       "<Figure size 432x288 with 1 Axes>"
      ]
     },
     "metadata": {
      "needs_background": "light"
     },
     "output_type": "display_data"
    }
   ],
   "source": [
    "plt.barh(X_train.columns, rf_random.best_estimator_.feature_importances_)"
   ]
  },
  {
   "cell_type": "markdown",
   "id": "c1ef4973",
   "metadata": {
    "papermill": {
     "duration": 0.096337,
     "end_time": "2021-10-02T18:26:28.384748",
     "exception": false,
     "start_time": "2021-10-02T18:26:28.288411",
     "status": "completed"
    },
    "tags": []
   },
   "source": [
    "Looks like parameter tuning helped us little bit and improved accuracy by .04. Our best algorithm now is Random forest regressor with .69 R^2 score!"
   ]
  }
 ],
 "metadata": {
  "kernelspec": {
   "display_name": "Python 3 (ipykernel)",
   "language": "python",
   "name": "python3"
  },
  "language_info": {
   "codemirror_mode": {
    "name": "ipython",
    "version": 3
   },
   "file_extension": ".py",
   "mimetype": "text/x-python",
   "name": "python",
   "nbconvert_exporter": "python",
   "pygments_lexer": "ipython3",
   "version": "3.8.10"
  },
  "papermill": {
   "default_parameters": {},
   "duration": 149.891142,
   "end_time": "2021-10-02T18:26:29.756374",
   "environment_variables": {},
   "exception": null,
   "input_path": "__notebook__.ipynb",
   "output_path": "__notebook__.ipynb",
   "parameters": {},
   "start_time": "2021-10-02T18:23:59.865232",
   "version": "2.3.3"
  }
 },
 "nbformat": 4,
 "nbformat_minor": 5
}
