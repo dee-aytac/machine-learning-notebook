{
 "cells": [
  {
   "cell_type": "markdown",
   "id": "e97f3525",
   "metadata": {
    "papermill": {
     "duration": 0.06707,
     "end_time": "2021-10-03T11:38:23.166540",
     "exception": false,
     "start_time": "2021-10-03T11:38:23.099470",
     "status": "completed"
    },
    "tags": []
   },
   "source": [
    "In this notebook, I will try to show the procceses I've done on the titanic dataset to predict final survival status.  The submission file in the end of this session has 0.78708 accuracy rate and placed to top 5.79% !(Currently 1,609th place out of 27,800)\n",
    "\n",
    "Now lets begin with importing the neccesary libraries!"
   ]
  },
  {
   "cell_type": "code",
   "execution_count": 1,
   "id": "447eca5a",
   "metadata": {
    "execution": {
     "iopub.execute_input": "2021-10-03T11:38:23.299911Z",
     "iopub.status.busy": "2021-10-03T11:38:23.298806Z",
     "iopub.status.idle": "2021-10-03T11:38:24.162921Z",
     "shell.execute_reply": "2021-10-03T11:38:24.162214Z",
     "shell.execute_reply.started": "2021-10-03T11:35:56.652755Z"
    },
    "papermill": {
     "duration": 0.932021,
     "end_time": "2021-10-03T11:38:24.163106",
     "exception": false,
     "start_time": "2021-10-03T11:38:23.231085",
     "status": "completed"
    },
    "tags": []
   },
   "outputs": [],
   "source": [
    "import numpy as np\n",
    "import pandas as pd\n",
    "import matplotlib.pyplot as plt\n",
    "import seaborn as sns\n",
    "import warnings\n",
    "warnings.filterwarnings(\"ignore\")"
   ]
  },
  {
   "cell_type": "markdown",
   "id": "81faaf8e",
   "metadata": {
    "papermill": {
     "duration": 0.071693,
     "end_time": "2021-10-03T11:38:24.314619",
     "exception": false,
     "start_time": "2021-10-03T11:38:24.242926",
     "status": "completed"
    },
    "tags": []
   },
   "source": [
    "# Loading the data & Data Cleaning"
   ]
  },
  {
   "cell_type": "code",
   "execution_count": 2,
   "id": "4c896edf",
   "metadata": {
    "execution": {
     "iopub.execute_input": "2021-10-03T11:38:24.451306Z",
     "iopub.status.busy": "2021-10-03T11:38:24.450397Z",
     "iopub.status.idle": "2021-10-03T11:38:24.487079Z",
     "shell.execute_reply": "2021-10-03T11:38:24.487576Z",
     "shell.execute_reply.started": "2021-10-03T11:35:57.668981Z"
    },
    "papermill": {
     "duration": 0.106296,
     "end_time": "2021-10-03T11:38:24.487756",
     "exception": false,
     "start_time": "2021-10-03T11:38:24.381460",
     "status": "completed"
    },
    "tags": []
   },
   "outputs": [
    {
     "data": {
      "text/html": [
       "<div>\n",
       "<style scoped>\n",
       "    .dataframe tbody tr th:only-of-type {\n",
       "        vertical-align: middle;\n",
       "    }\n",
       "\n",
       "    .dataframe tbody tr th {\n",
       "        vertical-align: top;\n",
       "    }\n",
       "\n",
       "    .dataframe thead th {\n",
       "        text-align: right;\n",
       "    }\n",
       "</style>\n",
       "<table border=\"1\" class=\"dataframe\">\n",
       "  <thead>\n",
       "    <tr style=\"text-align: right;\">\n",
       "      <th></th>\n",
       "      <th>PassengerId</th>\n",
       "      <th>Survived</th>\n",
       "      <th>Pclass</th>\n",
       "      <th>Name</th>\n",
       "      <th>Sex</th>\n",
       "      <th>Age</th>\n",
       "      <th>SibSp</th>\n",
       "      <th>Parch</th>\n",
       "      <th>Ticket</th>\n",
       "      <th>Fare</th>\n",
       "      <th>Cabin</th>\n",
       "      <th>Embarked</th>\n",
       "    </tr>\n",
       "  </thead>\n",
       "  <tbody>\n",
       "    <tr>\n",
       "      <th>0</th>\n",
       "      <td>1</td>\n",
       "      <td>0</td>\n",
       "      <td>3</td>\n",
       "      <td>Braund, Mr. Owen Harris</td>\n",
       "      <td>male</td>\n",
       "      <td>22.0</td>\n",
       "      <td>1</td>\n",
       "      <td>0</td>\n",
       "      <td>A/5 21171</td>\n",
       "      <td>7.2500</td>\n",
       "      <td>NaN</td>\n",
       "      <td>S</td>\n",
       "    </tr>\n",
       "    <tr>\n",
       "      <th>1</th>\n",
       "      <td>2</td>\n",
       "      <td>1</td>\n",
       "      <td>1</td>\n",
       "      <td>Cumings, Mrs. John Bradley (Florence Briggs Th...</td>\n",
       "      <td>female</td>\n",
       "      <td>38.0</td>\n",
       "      <td>1</td>\n",
       "      <td>0</td>\n",
       "      <td>PC 17599</td>\n",
       "      <td>71.2833</td>\n",
       "      <td>C85</td>\n",
       "      <td>C</td>\n",
       "    </tr>\n",
       "    <tr>\n",
       "      <th>2</th>\n",
       "      <td>3</td>\n",
       "      <td>1</td>\n",
       "      <td>3</td>\n",
       "      <td>Heikkinen, Miss. Laina</td>\n",
       "      <td>female</td>\n",
       "      <td>26.0</td>\n",
       "      <td>0</td>\n",
       "      <td>0</td>\n",
       "      <td>STON/O2. 3101282</td>\n",
       "      <td>7.9250</td>\n",
       "      <td>NaN</td>\n",
       "      <td>S</td>\n",
       "    </tr>\n",
       "    <tr>\n",
       "      <th>3</th>\n",
       "      <td>4</td>\n",
       "      <td>1</td>\n",
       "      <td>1</td>\n",
       "      <td>Futrelle, Mrs. Jacques Heath (Lily May Peel)</td>\n",
       "      <td>female</td>\n",
       "      <td>35.0</td>\n",
       "      <td>1</td>\n",
       "      <td>0</td>\n",
       "      <td>113803</td>\n",
       "      <td>53.1000</td>\n",
       "      <td>C123</td>\n",
       "      <td>S</td>\n",
       "    </tr>\n",
       "    <tr>\n",
       "      <th>4</th>\n",
       "      <td>5</td>\n",
       "      <td>0</td>\n",
       "      <td>3</td>\n",
       "      <td>Allen, Mr. William Henry</td>\n",
       "      <td>male</td>\n",
       "      <td>35.0</td>\n",
       "      <td>0</td>\n",
       "      <td>0</td>\n",
       "      <td>373450</td>\n",
       "      <td>8.0500</td>\n",
       "      <td>NaN</td>\n",
       "      <td>S</td>\n",
       "    </tr>\n",
       "  </tbody>\n",
       "</table>\n",
       "</div>"
      ],
      "text/plain": [
       "   PassengerId  Survived  Pclass  \\\n",
       "0            1         0       3   \n",
       "1            2         1       1   \n",
       "2            3         1       3   \n",
       "3            4         1       1   \n",
       "4            5         0       3   \n",
       "\n",
       "                                                Name     Sex   Age  SibSp  \\\n",
       "0                            Braund, Mr. Owen Harris    male  22.0      1   \n",
       "1  Cumings, Mrs. John Bradley (Florence Briggs Th...  female  38.0      1   \n",
       "2                             Heikkinen, Miss. Laina  female  26.0      0   \n",
       "3       Futrelle, Mrs. Jacques Heath (Lily May Peel)  female  35.0      1   \n",
       "4                           Allen, Mr. William Henry    male  35.0      0   \n",
       "\n",
       "   Parch            Ticket     Fare Cabin Embarked  \n",
       "0      0         A/5 21171   7.2500   NaN        S  \n",
       "1      0          PC 17599  71.2833   C85        C  \n",
       "2      0  STON/O2. 3101282   7.9250   NaN        S  \n",
       "3      0            113803  53.1000  C123        S  \n",
       "4      0            373450   8.0500   NaN        S  "
      ]
     },
     "execution_count": 2,
     "metadata": {},
     "output_type": "execute_result"
    }
   ],
   "source": [
    "train_data = pd.read_csv('train.csv')\n",
    "train_data.head()"
   ]
  },
  {
   "cell_type": "code",
   "execution_count": 3,
   "id": "4897e4d2",
   "metadata": {
    "execution": {
     "iopub.execute_input": "2021-10-03T11:38:24.627543Z",
     "iopub.status.busy": "2021-10-03T11:38:24.626455Z",
     "iopub.status.idle": "2021-10-03T11:38:24.652190Z",
     "shell.execute_reply": "2021-10-03T11:38:24.652857Z",
     "shell.execute_reply.started": "2021-10-03T11:35:57.716031Z"
    },
    "papermill": {
     "duration": 0.09989,
     "end_time": "2021-10-03T11:38:24.653095",
     "exception": false,
     "start_time": "2021-10-03T11:38:24.553205",
     "status": "completed"
    },
    "tags": []
   },
   "outputs": [
    {
     "data": {
      "text/html": [
       "<div>\n",
       "<style scoped>\n",
       "    .dataframe tbody tr th:only-of-type {\n",
       "        vertical-align: middle;\n",
       "    }\n",
       "\n",
       "    .dataframe tbody tr th {\n",
       "        vertical-align: top;\n",
       "    }\n",
       "\n",
       "    .dataframe thead th {\n",
       "        text-align: right;\n",
       "    }\n",
       "</style>\n",
       "<table border=\"1\" class=\"dataframe\">\n",
       "  <thead>\n",
       "    <tr style=\"text-align: right;\">\n",
       "      <th></th>\n",
       "      <th>PassengerId</th>\n",
       "      <th>Pclass</th>\n",
       "      <th>Name</th>\n",
       "      <th>Sex</th>\n",
       "      <th>Age</th>\n",
       "      <th>SibSp</th>\n",
       "      <th>Parch</th>\n",
       "      <th>Ticket</th>\n",
       "      <th>Fare</th>\n",
       "      <th>Cabin</th>\n",
       "      <th>Embarked</th>\n",
       "    </tr>\n",
       "  </thead>\n",
       "  <tbody>\n",
       "    <tr>\n",
       "      <th>0</th>\n",
       "      <td>892</td>\n",
       "      <td>3</td>\n",
       "      <td>Kelly, Mr. James</td>\n",
       "      <td>male</td>\n",
       "      <td>34.5</td>\n",
       "      <td>0</td>\n",
       "      <td>0</td>\n",
       "      <td>330911</td>\n",
       "      <td>7.8292</td>\n",
       "      <td>NaN</td>\n",
       "      <td>Q</td>\n",
       "    </tr>\n",
       "    <tr>\n",
       "      <th>1</th>\n",
       "      <td>893</td>\n",
       "      <td>3</td>\n",
       "      <td>Wilkes, Mrs. James (Ellen Needs)</td>\n",
       "      <td>female</td>\n",
       "      <td>47.0</td>\n",
       "      <td>1</td>\n",
       "      <td>0</td>\n",
       "      <td>363272</td>\n",
       "      <td>7.0000</td>\n",
       "      <td>NaN</td>\n",
       "      <td>S</td>\n",
       "    </tr>\n",
       "    <tr>\n",
       "      <th>2</th>\n",
       "      <td>894</td>\n",
       "      <td>2</td>\n",
       "      <td>Myles, Mr. Thomas Francis</td>\n",
       "      <td>male</td>\n",
       "      <td>62.0</td>\n",
       "      <td>0</td>\n",
       "      <td>0</td>\n",
       "      <td>240276</td>\n",
       "      <td>9.6875</td>\n",
       "      <td>NaN</td>\n",
       "      <td>Q</td>\n",
       "    </tr>\n",
       "    <tr>\n",
       "      <th>3</th>\n",
       "      <td>895</td>\n",
       "      <td>3</td>\n",
       "      <td>Wirz, Mr. Albert</td>\n",
       "      <td>male</td>\n",
       "      <td>27.0</td>\n",
       "      <td>0</td>\n",
       "      <td>0</td>\n",
       "      <td>315154</td>\n",
       "      <td>8.6625</td>\n",
       "      <td>NaN</td>\n",
       "      <td>S</td>\n",
       "    </tr>\n",
       "    <tr>\n",
       "      <th>4</th>\n",
       "      <td>896</td>\n",
       "      <td>3</td>\n",
       "      <td>Hirvonen, Mrs. Alexander (Helga E Lindqvist)</td>\n",
       "      <td>female</td>\n",
       "      <td>22.0</td>\n",
       "      <td>1</td>\n",
       "      <td>1</td>\n",
       "      <td>3101298</td>\n",
       "      <td>12.2875</td>\n",
       "      <td>NaN</td>\n",
       "      <td>S</td>\n",
       "    </tr>\n",
       "  </tbody>\n",
       "</table>\n",
       "</div>"
      ],
      "text/plain": [
       "   PassengerId  Pclass                                          Name     Sex  \\\n",
       "0          892       3                              Kelly, Mr. James    male   \n",
       "1          893       3              Wilkes, Mrs. James (Ellen Needs)  female   \n",
       "2          894       2                     Myles, Mr. Thomas Francis    male   \n",
       "3          895       3                              Wirz, Mr. Albert    male   \n",
       "4          896       3  Hirvonen, Mrs. Alexander (Helga E Lindqvist)  female   \n",
       "\n",
       "    Age  SibSp  Parch   Ticket     Fare Cabin Embarked  \n",
       "0  34.5      0      0   330911   7.8292   NaN        Q  \n",
       "1  47.0      1      0   363272   7.0000   NaN        S  \n",
       "2  62.0      0      0   240276   9.6875   NaN        Q  \n",
       "3  27.0      0      0   315154   8.6625   NaN        S  \n",
       "4  22.0      1      1  3101298  12.2875   NaN        S  "
      ]
     },
     "execution_count": 3,
     "metadata": {},
     "output_type": "execute_result"
    }
   ],
   "source": [
    "test_data = pd.read_csv('test.csv')\n",
    "test_data.head()"
   ]
  },
  {
   "cell_type": "markdown",
   "id": "c8599df1",
   "metadata": {
    "papermill": {
     "duration": 0.067377,
     "end_time": "2021-10-03T11:38:24.808070",
     "exception": false,
     "start_time": "2021-10-03T11:38:24.740693",
     "status": "completed"
    },
    "tags": []
   },
   "source": [
    "The test dataset doesn't have the 'Survived' column since we will predict those values with model trained on training data set."
   ]
  },
  {
   "cell_type": "code",
   "execution_count": 4,
   "id": "f0572b98",
   "metadata": {
    "execution": {
     "iopub.execute_input": "2021-10-03T11:38:24.948470Z",
     "iopub.status.busy": "2021-10-03T11:38:24.947844Z",
     "iopub.status.idle": "2021-10-03T11:38:24.965462Z",
     "shell.execute_reply": "2021-10-03T11:38:24.966071Z",
     "shell.execute_reply.started": "2021-10-03T11:35:57.743360Z"
    },
    "papermill": {
     "duration": 0.087983,
     "end_time": "2021-10-03T11:38:24.966236",
     "exception": false,
     "start_time": "2021-10-03T11:38:24.878253",
     "status": "completed"
    },
    "tags": []
   },
   "outputs": [
    {
     "data": {
      "text/html": [
       "<div>\n",
       "<style scoped>\n",
       "    .dataframe tbody tr th:only-of-type {\n",
       "        vertical-align: middle;\n",
       "    }\n",
       "\n",
       "    .dataframe tbody tr th {\n",
       "        vertical-align: top;\n",
       "    }\n",
       "\n",
       "    .dataframe thead th {\n",
       "        text-align: right;\n",
       "    }\n",
       "</style>\n",
       "<table border=\"1\" class=\"dataframe\">\n",
       "  <thead>\n",
       "    <tr style=\"text-align: right;\">\n",
       "      <th></th>\n",
       "      <th>PassengerId</th>\n",
       "      <th>Survived</th>\n",
       "    </tr>\n",
       "  </thead>\n",
       "  <tbody>\n",
       "    <tr>\n",
       "      <th>0</th>\n",
       "      <td>892</td>\n",
       "      <td>0</td>\n",
       "    </tr>\n",
       "    <tr>\n",
       "      <th>1</th>\n",
       "      <td>893</td>\n",
       "      <td>1</td>\n",
       "    </tr>\n",
       "    <tr>\n",
       "      <th>2</th>\n",
       "      <td>894</td>\n",
       "      <td>0</td>\n",
       "    </tr>\n",
       "    <tr>\n",
       "      <th>3</th>\n",
       "      <td>895</td>\n",
       "      <td>0</td>\n",
       "    </tr>\n",
       "    <tr>\n",
       "      <th>4</th>\n",
       "      <td>896</td>\n",
       "      <td>1</td>\n",
       "    </tr>\n",
       "  </tbody>\n",
       "</table>\n",
       "</div>"
      ],
      "text/plain": [
       "   PassengerId  Survived\n",
       "0          892         0\n",
       "1          893         1\n",
       "2          894         0\n",
       "3          895         0\n",
       "4          896         1"
      ]
     },
     "execution_count": 4,
     "metadata": {},
     "output_type": "execute_result"
    }
   ],
   "source": [
    "submission_example = pd.read_csv('gender_submission.csv')\n",
    "submission_example.head()"
   ]
  },
  {
   "cell_type": "markdown",
   "id": "84523c78",
   "metadata": {
    "papermill": {
     "duration": 0.070241,
     "end_time": "2021-10-03T11:38:25.103600",
     "exception": false,
     "start_time": "2021-10-03T11:38:25.033359",
     "status": "completed"
    },
    "tags": []
   },
   "source": [
    "This is what our final submission to competition will look like! Lets make ready the our submission data frame before moving on the data proccesing!"
   ]
  },
  {
   "cell_type": "code",
   "execution_count": 5,
   "id": "42eeed19",
   "metadata": {
    "execution": {
     "iopub.execute_input": "2021-10-03T11:38:25.262231Z",
     "iopub.status.busy": "2021-10-03T11:38:25.261609Z",
     "iopub.status.idle": "2021-10-03T11:38:25.271880Z",
     "shell.execute_reply": "2021-10-03T11:38:25.272411Z",
     "shell.execute_reply.started": "2021-10-03T11:35:57.762207Z"
    },
    "papermill": {
     "duration": 0.082144,
     "end_time": "2021-10-03T11:38:25.272576",
     "exception": false,
     "start_time": "2021-10-03T11:38:25.190432",
     "status": "completed"
    },
    "tags": []
   },
   "outputs": [],
   "source": [
    "submission = pd.DataFrame()\n",
    "submission['PassengerId'] = test_data['PassengerId']"
   ]
  },
  {
   "cell_type": "code",
   "execution_count": 6,
   "id": "7f7e576a",
   "metadata": {
    "execution": {
     "iopub.execute_input": "2021-10-03T11:38:25.408252Z",
     "iopub.status.busy": "2021-10-03T11:38:25.407637Z",
     "iopub.status.idle": "2021-10-03T11:38:25.425509Z",
     "shell.execute_reply": "2021-10-03T11:38:25.426497Z",
     "shell.execute_reply.started": "2021-10-03T11:35:57.775700Z"
    },
    "papermill": {
     "duration": 0.087862,
     "end_time": "2021-10-03T11:38:25.426813",
     "exception": false,
     "start_time": "2021-10-03T11:38:25.338951",
     "status": "completed"
    },
    "tags": []
   },
   "outputs": [
    {
     "name": "stdout",
     "output_type": "stream",
     "text": [
      "<class 'pandas.core.frame.DataFrame'>\n",
      "RangeIndex: 891 entries, 0 to 890\n",
      "Data columns (total 12 columns):\n",
      " #   Column       Non-Null Count  Dtype  \n",
      "---  ------       --------------  -----  \n",
      " 0   PassengerId  891 non-null    int64  \n",
      " 1   Survived     891 non-null    int64  \n",
      " 2   Pclass       891 non-null    int64  \n",
      " 3   Name         891 non-null    object \n",
      " 4   Sex          891 non-null    object \n",
      " 5   Age          714 non-null    float64\n",
      " 6   SibSp        891 non-null    int64  \n",
      " 7   Parch        891 non-null    int64  \n",
      " 8   Ticket       891 non-null    object \n",
      " 9   Fare         891 non-null    float64\n",
      " 10  Cabin        204 non-null    object \n",
      " 11  Embarked     889 non-null    object \n",
      "dtypes: float64(2), int64(5), object(5)\n",
      "memory usage: 83.7+ KB\n"
     ]
    }
   ],
   "source": [
    "train_data.info()"
   ]
  },
  {
   "cell_type": "code",
   "execution_count": 7,
   "id": "f53f0c59",
   "metadata": {
    "execution": {
     "iopub.execute_input": "2021-10-03T11:38:25.563927Z",
     "iopub.status.busy": "2021-10-03T11:38:25.563276Z",
     "iopub.status.idle": "2021-10-03T11:38:25.574466Z",
     "shell.execute_reply": "2021-10-03T11:38:25.574942Z",
     "shell.execute_reply.started": "2021-10-03T11:35:57.804808Z"
    },
    "papermill": {
     "duration": 0.080801,
     "end_time": "2021-10-03T11:38:25.575125",
     "exception": false,
     "start_time": "2021-10-03T11:38:25.494324",
     "status": "completed"
    },
    "tags": []
   },
   "outputs": [
    {
     "name": "stdout",
     "output_type": "stream",
     "text": [
      "<class 'pandas.core.frame.DataFrame'>\n",
      "RangeIndex: 418 entries, 0 to 417\n",
      "Data columns (total 11 columns):\n",
      " #   Column       Non-Null Count  Dtype  \n",
      "---  ------       --------------  -----  \n",
      " 0   PassengerId  418 non-null    int64  \n",
      " 1   Pclass       418 non-null    int64  \n",
      " 2   Name         418 non-null    object \n",
      " 3   Sex          418 non-null    object \n",
      " 4   Age          332 non-null    float64\n",
      " 5   SibSp        418 non-null    int64  \n",
      " 6   Parch        418 non-null    int64  \n",
      " 7   Ticket       418 non-null    object \n",
      " 8   Fare         417 non-null    float64\n",
      " 9   Cabin        91 non-null     object \n",
      " 10  Embarked     418 non-null    object \n",
      "dtypes: float64(2), int64(4), object(5)\n",
      "memory usage: 36.0+ KB\n"
     ]
    }
   ],
   "source": [
    "test_data.info()"
   ]
  },
  {
   "cell_type": "markdown",
   "id": "9d591e5a",
   "metadata": {
    "papermill": {
     "duration": 0.066533,
     "end_time": "2021-10-03T11:38:25.708726",
     "exception": false,
     "start_time": "2021-10-03T11:38:25.642193",
     "status": "completed"
    },
    "tags": []
   },
   "source": [
    "We have total 10 column in our dataset with descriptions given bellow.\n",
    "\n",
    "\n",
    "***survival*** \tSurvival \t0 = No, 1 = Yes\n",
    "\n",
    "***pclass*** \t    Ticket class \t1 = 1st, 2 = 2nd, 3 = 3rd\n",
    "\n",
    "***sex*** \t    Sex \t\n",
    "\n",
    "***Age*** \t    Age in years \t\n",
    "\n",
    "***sibsp*** \t    # of siblings / spouses aboard the Titanic \t\n",
    "\n",
    "***parch*** \t    # of parents / children aboard the Titanic \t\n",
    "\n",
    "***ticket*** \t    Ticket number \t\n",
    "\n",
    "***fare*** \t    Passenger fare \t\n",
    "\n",
    "***cabin*** \t    Cabin number \t\n",
    "\n",
    "***embarked*** \tPort of Embarkation"
   ]
  },
  {
   "cell_type": "markdown",
   "id": "4677f3fd",
   "metadata": {
    "papermill": {
     "duration": 0.067045,
     "end_time": "2021-10-03T11:38:25.842816",
     "exception": false,
     "start_time": "2021-10-03T11:38:25.775771",
     "status": "completed"
    },
    "tags": []
   },
   "source": [
    "Looks like we only have few categorical variables in our dataset, this will make our job easier since its continous values are valuable for ML models. Now lets have a quick look at our central tendencies!"
   ]
  },
  {
   "cell_type": "code",
   "execution_count": 8,
   "id": "4a81fb49",
   "metadata": {
    "execution": {
     "iopub.execute_input": "2021-10-03T11:38:25.981306Z",
     "iopub.status.busy": "2021-10-03T11:38:25.980627Z",
     "iopub.status.idle": "2021-10-03T11:38:26.010289Z",
     "shell.execute_reply": "2021-10-03T11:38:26.010771Z",
     "shell.execute_reply.started": "2021-10-03T11:35:57.822394Z"
    },
    "papermill": {
     "duration": 0.100484,
     "end_time": "2021-10-03T11:38:26.010940",
     "exception": false,
     "start_time": "2021-10-03T11:38:25.910456",
     "status": "completed"
    },
    "scrolled": true,
    "tags": []
   },
   "outputs": [
    {
     "data": {
      "text/html": [
       "<div>\n",
       "<style scoped>\n",
       "    .dataframe tbody tr th:only-of-type {\n",
       "        vertical-align: middle;\n",
       "    }\n",
       "\n",
       "    .dataframe tbody tr th {\n",
       "        vertical-align: top;\n",
       "    }\n",
       "\n",
       "    .dataframe thead th {\n",
       "        text-align: right;\n",
       "    }\n",
       "</style>\n",
       "<table border=\"1\" class=\"dataframe\">\n",
       "  <thead>\n",
       "    <tr style=\"text-align: right;\">\n",
       "      <th></th>\n",
       "      <th>PassengerId</th>\n",
       "      <th>Survived</th>\n",
       "      <th>Pclass</th>\n",
       "      <th>Age</th>\n",
       "      <th>SibSp</th>\n",
       "      <th>Parch</th>\n",
       "      <th>Fare</th>\n",
       "    </tr>\n",
       "  </thead>\n",
       "  <tbody>\n",
       "    <tr>\n",
       "      <th>count</th>\n",
       "      <td>891.000000</td>\n",
       "      <td>891.000000</td>\n",
       "      <td>891.000000</td>\n",
       "      <td>714.000000</td>\n",
       "      <td>891.000000</td>\n",
       "      <td>891.000000</td>\n",
       "      <td>891.000000</td>\n",
       "    </tr>\n",
       "    <tr>\n",
       "      <th>mean</th>\n",
       "      <td>446.000000</td>\n",
       "      <td>0.383838</td>\n",
       "      <td>2.308642</td>\n",
       "      <td>29.699118</td>\n",
       "      <td>0.523008</td>\n",
       "      <td>0.381594</td>\n",
       "      <td>32.204208</td>\n",
       "    </tr>\n",
       "    <tr>\n",
       "      <th>std</th>\n",
       "      <td>257.353842</td>\n",
       "      <td>0.486592</td>\n",
       "      <td>0.836071</td>\n",
       "      <td>14.526497</td>\n",
       "      <td>1.102743</td>\n",
       "      <td>0.806057</td>\n",
       "      <td>49.693429</td>\n",
       "    </tr>\n",
       "    <tr>\n",
       "      <th>min</th>\n",
       "      <td>1.000000</td>\n",
       "      <td>0.000000</td>\n",
       "      <td>1.000000</td>\n",
       "      <td>0.420000</td>\n",
       "      <td>0.000000</td>\n",
       "      <td>0.000000</td>\n",
       "      <td>0.000000</td>\n",
       "    </tr>\n",
       "    <tr>\n",
       "      <th>25%</th>\n",
       "      <td>223.500000</td>\n",
       "      <td>0.000000</td>\n",
       "      <td>2.000000</td>\n",
       "      <td>20.125000</td>\n",
       "      <td>0.000000</td>\n",
       "      <td>0.000000</td>\n",
       "      <td>7.910400</td>\n",
       "    </tr>\n",
       "    <tr>\n",
       "      <th>50%</th>\n",
       "      <td>446.000000</td>\n",
       "      <td>0.000000</td>\n",
       "      <td>3.000000</td>\n",
       "      <td>28.000000</td>\n",
       "      <td>0.000000</td>\n",
       "      <td>0.000000</td>\n",
       "      <td>14.454200</td>\n",
       "    </tr>\n",
       "    <tr>\n",
       "      <th>75%</th>\n",
       "      <td>668.500000</td>\n",
       "      <td>1.000000</td>\n",
       "      <td>3.000000</td>\n",
       "      <td>38.000000</td>\n",
       "      <td>1.000000</td>\n",
       "      <td>0.000000</td>\n",
       "      <td>31.000000</td>\n",
       "    </tr>\n",
       "    <tr>\n",
       "      <th>max</th>\n",
       "      <td>891.000000</td>\n",
       "      <td>1.000000</td>\n",
       "      <td>3.000000</td>\n",
       "      <td>80.000000</td>\n",
       "      <td>8.000000</td>\n",
       "      <td>6.000000</td>\n",
       "      <td>512.329200</td>\n",
       "    </tr>\n",
       "  </tbody>\n",
       "</table>\n",
       "</div>"
      ],
      "text/plain": [
       "       PassengerId    Survived      Pclass         Age       SibSp  \\\n",
       "count   891.000000  891.000000  891.000000  714.000000  891.000000   \n",
       "mean    446.000000    0.383838    2.308642   29.699118    0.523008   \n",
       "std     257.353842    0.486592    0.836071   14.526497    1.102743   \n",
       "min       1.000000    0.000000    1.000000    0.420000    0.000000   \n",
       "25%     223.500000    0.000000    2.000000   20.125000    0.000000   \n",
       "50%     446.000000    0.000000    3.000000   28.000000    0.000000   \n",
       "75%     668.500000    1.000000    3.000000   38.000000    1.000000   \n",
       "max     891.000000    1.000000    3.000000   80.000000    8.000000   \n",
       "\n",
       "            Parch        Fare  \n",
       "count  891.000000  891.000000  \n",
       "mean     0.381594   32.204208  \n",
       "std      0.806057   49.693429  \n",
       "min      0.000000    0.000000  \n",
       "25%      0.000000    7.910400  \n",
       "50%      0.000000   14.454200  \n",
       "75%      0.000000   31.000000  \n",
       "max      6.000000  512.329200  "
      ]
     },
     "execution_count": 8,
     "metadata": {},
     "output_type": "execute_result"
    }
   ],
   "source": [
    "train_data.describe()"
   ]
  },
  {
   "cell_type": "code",
   "execution_count": 9,
   "id": "983e19d4",
   "metadata": {
    "execution": {
     "iopub.execute_input": "2021-10-03T11:38:26.149787Z",
     "iopub.status.busy": "2021-10-03T11:38:26.149130Z",
     "iopub.status.idle": "2021-10-03T11:38:26.173488Z",
     "shell.execute_reply": "2021-10-03T11:38:26.173975Z",
     "shell.execute_reply.started": "2021-10-03T11:35:57.865357Z"
    },
    "papermill": {
     "duration": 0.0945,
     "end_time": "2021-10-03T11:38:26.174145",
     "exception": false,
     "start_time": "2021-10-03T11:38:26.079645",
     "status": "completed"
    },
    "tags": []
   },
   "outputs": [
    {
     "data": {
      "text/html": [
       "<div>\n",
       "<style scoped>\n",
       "    .dataframe tbody tr th:only-of-type {\n",
       "        vertical-align: middle;\n",
       "    }\n",
       "\n",
       "    .dataframe tbody tr th {\n",
       "        vertical-align: top;\n",
       "    }\n",
       "\n",
       "    .dataframe thead th {\n",
       "        text-align: right;\n",
       "    }\n",
       "</style>\n",
       "<table border=\"1\" class=\"dataframe\">\n",
       "  <thead>\n",
       "    <tr style=\"text-align: right;\">\n",
       "      <th></th>\n",
       "      <th>PassengerId</th>\n",
       "      <th>Pclass</th>\n",
       "      <th>Age</th>\n",
       "      <th>SibSp</th>\n",
       "      <th>Parch</th>\n",
       "      <th>Fare</th>\n",
       "    </tr>\n",
       "  </thead>\n",
       "  <tbody>\n",
       "    <tr>\n",
       "      <th>count</th>\n",
       "      <td>418.000000</td>\n",
       "      <td>418.000000</td>\n",
       "      <td>332.000000</td>\n",
       "      <td>418.000000</td>\n",
       "      <td>418.000000</td>\n",
       "      <td>417.000000</td>\n",
       "    </tr>\n",
       "    <tr>\n",
       "      <th>mean</th>\n",
       "      <td>1100.500000</td>\n",
       "      <td>2.265550</td>\n",
       "      <td>30.272590</td>\n",
       "      <td>0.447368</td>\n",
       "      <td>0.392344</td>\n",
       "      <td>35.627188</td>\n",
       "    </tr>\n",
       "    <tr>\n",
       "      <th>std</th>\n",
       "      <td>120.810458</td>\n",
       "      <td>0.841838</td>\n",
       "      <td>14.181209</td>\n",
       "      <td>0.896760</td>\n",
       "      <td>0.981429</td>\n",
       "      <td>55.907576</td>\n",
       "    </tr>\n",
       "    <tr>\n",
       "      <th>min</th>\n",
       "      <td>892.000000</td>\n",
       "      <td>1.000000</td>\n",
       "      <td>0.170000</td>\n",
       "      <td>0.000000</td>\n",
       "      <td>0.000000</td>\n",
       "      <td>0.000000</td>\n",
       "    </tr>\n",
       "    <tr>\n",
       "      <th>25%</th>\n",
       "      <td>996.250000</td>\n",
       "      <td>1.000000</td>\n",
       "      <td>21.000000</td>\n",
       "      <td>0.000000</td>\n",
       "      <td>0.000000</td>\n",
       "      <td>7.895800</td>\n",
       "    </tr>\n",
       "    <tr>\n",
       "      <th>50%</th>\n",
       "      <td>1100.500000</td>\n",
       "      <td>3.000000</td>\n",
       "      <td>27.000000</td>\n",
       "      <td>0.000000</td>\n",
       "      <td>0.000000</td>\n",
       "      <td>14.454200</td>\n",
       "    </tr>\n",
       "    <tr>\n",
       "      <th>75%</th>\n",
       "      <td>1204.750000</td>\n",
       "      <td>3.000000</td>\n",
       "      <td>39.000000</td>\n",
       "      <td>1.000000</td>\n",
       "      <td>0.000000</td>\n",
       "      <td>31.500000</td>\n",
       "    </tr>\n",
       "    <tr>\n",
       "      <th>max</th>\n",
       "      <td>1309.000000</td>\n",
       "      <td>3.000000</td>\n",
       "      <td>76.000000</td>\n",
       "      <td>8.000000</td>\n",
       "      <td>9.000000</td>\n",
       "      <td>512.329200</td>\n",
       "    </tr>\n",
       "  </tbody>\n",
       "</table>\n",
       "</div>"
      ],
      "text/plain": [
       "       PassengerId      Pclass         Age       SibSp       Parch        Fare\n",
       "count   418.000000  418.000000  332.000000  418.000000  418.000000  417.000000\n",
       "mean   1100.500000    2.265550   30.272590    0.447368    0.392344   35.627188\n",
       "std     120.810458    0.841838   14.181209    0.896760    0.981429   55.907576\n",
       "min     892.000000    1.000000    0.170000    0.000000    0.000000    0.000000\n",
       "25%     996.250000    1.000000   21.000000    0.000000    0.000000    7.895800\n",
       "50%    1100.500000    3.000000   27.000000    0.000000    0.000000   14.454200\n",
       "75%    1204.750000    3.000000   39.000000    1.000000    0.000000   31.500000\n",
       "max    1309.000000    3.000000   76.000000    8.000000    9.000000  512.329200"
      ]
     },
     "execution_count": 9,
     "metadata": {},
     "output_type": "execute_result"
    }
   ],
   "source": [
    "test_data.describe()"
   ]
  },
  {
   "cell_type": "markdown",
   "id": "fc40ce83",
   "metadata": {
    "papermill": {
     "duration": 0.072914,
     "end_time": "2021-10-03T11:38:26.334889",
     "exception": false,
     "start_time": "2021-10-03T11:38:26.261975",
     "status": "completed"
    },
    "tags": []
   },
   "source": [
    "According to the pivot table train and test datasets have a equal distribution on numerical columns. "
   ]
  },
  {
   "cell_type": "markdown",
   "id": "f20bfb0a",
   "metadata": {
    "papermill": {
     "duration": 0.06692,
     "end_time": "2021-10-03T11:38:26.469833",
     "exception": false,
     "start_time": "2021-10-03T11:38:26.402913",
     "status": "completed"
    },
    "tags": []
   },
   "source": [
    "# Data proccesing"
   ]
  },
  {
   "cell_type": "markdown",
   "id": "0dce854f",
   "metadata": {
    "papermill": {
     "duration": 0.067583,
     "end_time": "2021-10-03T11:38:26.605425",
     "exception": false,
     "start_time": "2021-10-03T11:38:26.537842",
     "status": "completed"
    },
    "tags": []
   },
   "source": [
    "*** Missing values ***"
   ]
  },
  {
   "cell_type": "code",
   "execution_count": 10,
   "id": "5841399e",
   "metadata": {
    "execution": {
     "iopub.execute_input": "2021-10-03T11:38:26.744527Z",
     "iopub.status.busy": "2021-10-03T11:38:26.743935Z",
     "iopub.status.idle": "2021-10-03T11:38:26.751549Z",
     "shell.execute_reply": "2021-10-03T11:38:26.752095Z",
     "shell.execute_reply.started": "2021-10-03T11:35:57.902324Z"
    },
    "papermill": {
     "duration": 0.079129,
     "end_time": "2021-10-03T11:38:26.752257",
     "exception": false,
     "start_time": "2021-10-03T11:38:26.673128",
     "status": "completed"
    },
    "scrolled": true,
    "tags": []
   },
   "outputs": [
    {
     "data": {
      "text/plain": [
       "PassengerId      0\n",
       "Survived         0\n",
       "Pclass           0\n",
       "Name             0\n",
       "Sex              0\n",
       "Age            177\n",
       "SibSp            0\n",
       "Parch            0\n",
       "Ticket           0\n",
       "Fare             0\n",
       "Cabin          687\n",
       "Embarked         2\n",
       "dtype: int64"
      ]
     },
     "execution_count": 10,
     "metadata": {},
     "output_type": "execute_result"
    }
   ],
   "source": [
    "train_data.isnull().sum()"
   ]
  },
  {
   "cell_type": "code",
   "execution_count": 11,
   "id": "7e684237",
   "metadata": {
    "execution": {
     "iopub.execute_input": "2021-10-03T11:38:26.897756Z",
     "iopub.status.busy": "2021-10-03T11:38:26.895125Z",
     "iopub.status.idle": "2021-10-03T11:38:26.901245Z",
     "shell.execute_reply": "2021-10-03T11:38:26.900730Z",
     "shell.execute_reply.started": "2021-10-03T11:35:57.914704Z"
    },
    "papermill": {
     "duration": 0.080945,
     "end_time": "2021-10-03T11:38:26.901391",
     "exception": false,
     "start_time": "2021-10-03T11:38:26.820446",
     "status": "completed"
    },
    "tags": []
   },
   "outputs": [
    {
     "data": {
      "text/plain": [
       "PassengerId      0\n",
       "Pclass           0\n",
       "Name             0\n",
       "Sex              0\n",
       "Age             86\n",
       "SibSp            0\n",
       "Parch            0\n",
       "Ticket           0\n",
       "Fare             1\n",
       "Cabin          327\n",
       "Embarked         0\n",
       "dtype: int64"
      ]
     },
     "execution_count": 11,
     "metadata": {},
     "output_type": "execute_result"
    }
   ],
   "source": [
    "test_data.isnull().sum()"
   ]
  },
  {
   "cell_type": "code",
   "execution_count": 12,
   "id": "ab5b44f8",
   "metadata": {
    "execution": {
     "iopub.execute_input": "2021-10-03T11:38:27.058771Z",
     "iopub.status.busy": "2021-10-03T11:38:27.057972Z",
     "iopub.status.idle": "2021-10-03T11:38:27.286968Z",
     "shell.execute_reply": "2021-10-03T11:38:27.287450Z",
     "shell.execute_reply.started": "2021-10-03T11:35:57.932733Z"
    },
    "papermill": {
     "duration": 0.318037,
     "end_time": "2021-10-03T11:38:27.287625",
     "exception": false,
     "start_time": "2021-10-03T11:38:26.969588",
     "status": "completed"
    },
    "tags": []
   },
   "outputs": [
    {
     "data": {
      "image/png": "[encoded data removed]",
      "text/plain": [
       "<Figure size 432x288 with 1 Axes>"
      ]
     },
     "metadata": {
      "needs_background": "light"
     },
     "output_type": "display_data"
    }
   ],
   "source": [
    "plt.hist(train_data['Age'])\n",
    "plt.show()"
   ]
  },
  {
   "cell_type": "code",
   "execution_count": 13,
   "id": "a103fc91",
   "metadata": {
    "execution": {
     "iopub.execute_input": "2021-10-03T11:38:27.456214Z",
     "iopub.status.busy": "2021-10-03T11:38:27.452395Z",
     "iopub.status.idle": "2021-10-03T11:38:27.637421Z",
     "shell.execute_reply": "2021-10-03T11:38:27.637975Z",
     "shell.execute_reply.started": "2021-10-03T11:35:58.201247Z"
    },
    "papermill": {
     "duration": 0.281602,
     "end_time": "2021-10-03T11:38:27.638208",
     "exception": false,
     "start_time": "2021-10-03T11:38:27.356606",
     "status": "completed"
    },
    "tags": []
   },
   "outputs": [
    {
     "data": {
      "image/png": "[encoded data removed]",
      "text/plain": [
       "<Figure size 432x288 with 1 Axes>"
      ]
     },
     "metadata": {
      "needs_background": "light"
     },
     "output_type": "display_data"
    }
   ],
   "source": [
    "plt.hist(test_data['Age'])\n",
    "plt.show()"
   ]
  },
  {
   "cell_type": "markdown",
   "id": "14e9e1d9",
   "metadata": {
    "papermill": {
     "duration": 0.070737,
     "end_time": "2021-10-03T11:38:27.779229",
     "exception": false,
     "start_time": "2021-10-03T11:38:27.708492",
     "status": "completed"
    },
    "tags": []
   },
   "source": [
    "It appears like our age is close enough to normal distribution and since we don't have many null values we can replace the null values with mean."
   ]
  },
  {
   "cell_type": "code",
   "execution_count": 14,
   "id": "ce4107ff",
   "metadata": {
    "execution": {
     "iopub.execute_input": "2021-10-03T11:38:27.927322Z",
     "iopub.status.busy": "2021-10-03T11:38:27.926682Z",
     "iopub.status.idle": "2021-10-03T11:38:27.931190Z",
     "shell.execute_reply": "2021-10-03T11:38:27.930639Z",
     "shell.execute_reply.started": "2021-10-03T11:35:58.421373Z"
    },
    "papermill": {
     "duration": 0.082014,
     "end_time": "2021-10-03T11:38:27.931330",
     "exception": false,
     "start_time": "2021-10-03T11:38:27.849316",
     "status": "completed"
    },
    "tags": []
   },
   "outputs": [],
   "source": [
    "train_data['Age'] = train_data['Age'].fillna(train_data['Age'].mean())\n",
    "test_data['Age'] = test_data['Age'].fillna(test_data['Age'].mean())"
   ]
  },
  {
   "cell_type": "code",
   "execution_count": 15,
   "id": "6c36b73a",
   "metadata": {
    "execution": {
     "iopub.execute_input": "2021-10-03T11:38:28.081921Z",
     "iopub.status.busy": "2021-10-03T11:38:28.079927Z",
     "iopub.status.idle": "2021-10-03T11:38:28.085969Z",
     "shell.execute_reply": "2021-10-03T11:38:28.085361Z",
     "shell.execute_reply.started": "2021-10-03T11:35:58.429844Z"
    },
    "papermill": {
     "duration": 0.084543,
     "end_time": "2021-10-03T11:38:28.086108",
     "exception": false,
     "start_time": "2021-10-03T11:38:28.001565",
     "status": "completed"
    },
    "tags": []
   },
   "outputs": [
    {
     "data": {
      "text/plain": [
       "B96 B98        4\n",
       "G6             4\n",
       "C23 C25 C27    4\n",
       "C22 C26        3\n",
       "F33            3\n",
       "              ..\n",
       "E34            1\n",
       "C7             1\n",
       "C54            1\n",
       "E36            1\n",
       "C148           1\n",
       "Name: Cabin, Length: 147, dtype: int64"
      ]
     },
     "execution_count": 15,
     "metadata": {},
     "output_type": "execute_result"
    }
   ],
   "source": [
    "train_data['Cabin'].value_counts()"
   ]
  },
  {
   "cell_type": "code",
   "execution_count": 16,
   "id": "fc433f7d",
   "metadata": {
    "execution": {
     "iopub.execute_input": "2021-10-03T11:38:28.235682Z",
     "iopub.status.busy": "2021-10-03T11:38:28.234964Z",
     "iopub.status.idle": "2021-10-03T11:38:28.237625Z",
     "shell.execute_reply": "2021-10-03T11:38:28.238133Z",
     "shell.execute_reply.started": "2021-10-03T11:35:58.448591Z"
    },
    "papermill": {
     "duration": 0.082028,
     "end_time": "2021-10-03T11:38:28.238298",
     "exception": false,
     "start_time": "2021-10-03T11:38:28.156270",
     "status": "completed"
    },
    "tags": []
   },
   "outputs": [
    {
     "data": {
      "text/plain": [
       "B57 B59 B63 B66    3\n",
       "B45                2\n",
       "C89                2\n",
       "C55 C57            2\n",
       "A34                2\n",
       "                  ..\n",
       "E52                1\n",
       "D30                1\n",
       "E31                1\n",
       "C62 C64            1\n",
       "C105               1\n",
       "Name: Cabin, Length: 76, dtype: int64"
      ]
     },
     "execution_count": 16,
     "metadata": {},
     "output_type": "execute_result"
    }
   ],
   "source": [
    "test_data['Cabin'].value_counts()"
   ]
  },
  {
   "cell_type": "markdown",
   "id": "a7bfb4cc",
   "metadata": {
    "papermill": {
     "duration": 0.070166,
     "end_time": "2021-10-03T11:38:28.379981",
     "exception": false,
     "start_time": "2021-10-03T11:38:28.309815",
     "status": "completed"
    },
    "tags": []
   },
   "source": [
    "Since like the cabin feature has too many different and null values, I will drop this column to avoid curse of dimensionality."
   ]
  },
  {
   "cell_type": "code",
   "execution_count": 17,
   "id": "203d981f",
   "metadata": {
    "execution": {
     "iopub.execute_input": "2021-10-03T11:38:28.528740Z",
     "iopub.status.busy": "2021-10-03T11:38:28.524289Z",
     "iopub.status.idle": "2021-10-03T11:38:28.531778Z",
     "shell.execute_reply": "2021-10-03T11:38:28.531199Z",
     "shell.execute_reply.started": "2021-10-03T11:35:58.462936Z"
    },
    "papermill": {
     "duration": 0.080976,
     "end_time": "2021-10-03T11:38:28.531934",
     "exception": false,
     "start_time": "2021-10-03T11:38:28.450958",
     "status": "completed"
    },
    "tags": []
   },
   "outputs": [],
   "source": [
    "train_data.drop(['Cabin'], axis = 1, inplace = True)\n",
    "test_data.drop(['Cabin'], axis = 1, inplace = True)\n"
   ]
  },
  {
   "cell_type": "markdown",
   "id": "d0eb1875",
   "metadata": {
    "papermill": {
     "duration": 0.071248,
     "end_time": "2021-10-03T11:38:28.674365",
     "exception": false,
     "start_time": "2021-10-03T11:38:28.603117",
     "status": "completed"
    },
    "tags": []
   },
   "source": [
    "# Explorary data analysis & Feature Scaling"
   ]
  },
  {
   "cell_type": "markdown",
   "id": "024302b8",
   "metadata": {
    "papermill": {
     "duration": 0.07218,
     "end_time": "2021-10-03T11:38:28.817553",
     "exception": false,
     "start_time": "2021-10-03T11:38:28.745373",
     "status": "completed"
    },
    "tags": []
   },
   "source": [
    "*** Feature: PassengerId ***"
   ]
  },
  {
   "cell_type": "code",
   "execution_count": 18,
   "id": "29f5e5b7",
   "metadata": {
    "execution": {
     "iopub.execute_input": "2021-10-03T11:38:28.988474Z",
     "iopub.status.busy": "2021-10-03T11:38:28.987813Z",
     "iopub.status.idle": "2021-10-03T11:38:29.149502Z",
     "shell.execute_reply": "2021-10-03T11:38:29.149978Z",
     "shell.execute_reply.started": "2021-10-03T11:35:58.472824Z"
    },
    "papermill": {
     "duration": 0.262097,
     "end_time": "2021-10-03T11:38:29.150157",
     "exception": false,
     "start_time": "2021-10-03T11:38:28.888060",
     "status": "completed"
    },
    "tags": []
   },
   "outputs": [
    {
     "data": {
      "image/png": "[encoded data removed]",
      "text/plain": [
       "<Figure size 432x288 with 1 Axes>"
      ]
     },
     "metadata": {
      "needs_background": "light"
     },
     "output_type": "display_data"
    }
   ],
   "source": [
    "plt.hist(train_data['PassengerId'])\n",
    "plt.show()"
   ]
  },
  {
   "cell_type": "code",
   "execution_count": 19,
   "id": "342e7f56",
   "metadata": {
    "execution": {
     "iopub.execute_input": "2021-10-03T11:38:29.298049Z",
     "iopub.status.busy": "2021-10-03T11:38:29.297377Z",
     "iopub.status.idle": "2021-10-03T11:38:29.302319Z",
     "shell.execute_reply": "2021-10-03T11:38:29.302941Z",
     "shell.execute_reply.started": "2021-10-03T11:35:58.670176Z"
    },
    "papermill": {
     "duration": 0.081541,
     "end_time": "2021-10-03T11:38:29.303116",
     "exception": false,
     "start_time": "2021-10-03T11:38:29.221575",
     "status": "completed"
    },
    "tags": []
   },
   "outputs": [
    {
     "data": {
      "text/plain": [
       "1      1\n",
       "599    1\n",
       "588    1\n",
       "589    1\n",
       "590    1\n",
       "      ..\n",
       "301    1\n",
       "302    1\n",
       "303    1\n",
       "304    1\n",
       "891    1\n",
       "Name: PassengerId, Length: 891, dtype: int64"
      ]
     },
     "execution_count": 19,
     "metadata": {},
     "output_type": "execute_result"
    }
   ],
   "source": [
    "train_data['PassengerId'].value_counts()"
   ]
  },
  {
   "cell_type": "markdown",
   "id": "c4c8f4a2",
   "metadata": {
    "papermill": {
     "duration": 0.072127,
     "end_time": "2021-10-03T11:38:29.447681",
     "exception": false,
     "start_time": "2021-10-03T11:38:29.375554",
     "status": "completed"
    },
    "tags": []
   },
   "source": [
    "Our PassengerId is a unique value assigned to every passenger, we can drop this column since it will have 0 effect on our predictions."
   ]
  },
  {
   "cell_type": "code",
   "execution_count": 20,
   "id": "f03b1f3e",
   "metadata": {
    "execution": {
     "iopub.execute_input": "2021-10-03T11:38:29.594720Z",
     "iopub.status.busy": "2021-10-03T11:38:29.594103Z",
     "iopub.status.idle": "2021-10-03T11:38:29.601151Z",
     "shell.execute_reply": "2021-10-03T11:38:29.600484Z",
     "shell.execute_reply.started": "2021-10-03T11:35:58.683809Z"
    },
    "papermill": {
     "duration": 0.081518,
     "end_time": "2021-10-03T11:38:29.601289",
     "exception": false,
     "start_time": "2021-10-03T11:38:29.519771",
     "status": "completed"
    },
    "tags": []
   },
   "outputs": [],
   "source": [
    "train_data.drop(['PassengerId'], axis = 1, inplace = True)\n",
    "test_data.drop(['PassengerId'], axis = 1, inplace = True)"
   ]
  },
  {
   "cell_type": "markdown",
   "id": "12ec59ff",
   "metadata": {
    "papermill": {
     "duration": 0.072696,
     "end_time": "2021-10-03T11:38:29.749214",
     "exception": false,
     "start_time": "2021-10-03T11:38:29.676518",
     "status": "completed"
    },
    "tags": []
   },
   "source": [
    "*** Feature: Survived ***"
   ]
  },
  {
   "cell_type": "code",
   "execution_count": 21,
   "id": "912076de",
   "metadata": {
    "execution": {
     "iopub.execute_input": "2021-10-03T11:38:29.899897Z",
     "iopub.status.busy": "2021-10-03T11:38:29.898420Z",
     "iopub.status.idle": "2021-10-03T11:38:30.071821Z",
     "shell.execute_reply": "2021-10-03T11:38:30.072345Z",
     "shell.execute_reply.started": "2021-10-03T11:35:58.701135Z"
    },
    "papermill": {
     "duration": 0.251461,
     "end_time": "2021-10-03T11:38:30.072520",
     "exception": false,
     "start_time": "2021-10-03T11:38:29.821059",
     "status": "completed"
    },
    "tags": []
   },
   "outputs": [
    {
     "data": {
      "text/plain": [
       "<AxesSubplot:xlabel='Survived', ylabel='count'>"
      ]
     },
     "execution_count": 21,
     "metadata": {},
     "output_type": "execute_result"
    },
    {
     "data": {
      "image/png": "[encoded data removed]",
      "text/plain": [
       "<Figure size 432x288 with 1 Axes>"
      ]
     },
     "metadata": {
      "needs_background": "light"
     },
     "output_type": "display_data"
    }
   ],
   "source": [
    "sns.countplot(train_data['Survived'])"
   ]
  },
  {
   "cell_type": "markdown",
   "id": "07cc3a5f",
   "metadata": {
    "papermill": {
     "duration": 0.071561,
     "end_time": "2021-10-03T11:38:30.217711",
     "exception": false,
     "start_time": "2021-10-03T11:38:30.146150",
     "status": "completed"
    },
    "tags": []
   },
   "source": [
    "*** Feature: PClass ***"
   ]
  },
  {
   "cell_type": "code",
   "execution_count": 22,
   "id": "5d0b9dcd",
   "metadata": {
    "execution": {
     "iopub.execute_input": "2021-10-03T11:38:30.367826Z",
     "iopub.status.busy": "2021-10-03T11:38:30.366839Z",
     "iopub.status.idle": "2021-10-03T11:38:30.600714Z",
     "shell.execute_reply": "2021-10-03T11:38:30.600031Z",
     "shell.execute_reply.started": "2021-10-03T11:35:58.889673Z"
    },
    "papermill": {
     "duration": 0.310384,
     "end_time": "2021-10-03T11:38:30.600859",
     "exception": false,
     "start_time": "2021-10-03T11:38:30.290475",
     "status": "completed"
    },
    "tags": []
   },
   "outputs": [
    {
     "data": {
      "text/plain": [
       "<AxesSubplot:xlabel='Pclass', ylabel='count'>"
      ]
     },
     "execution_count": 22,
     "metadata": {},
     "output_type": "execute_result"
    },
    {
     "data": {
      "image/png": "[encoded data removed]",
      "text/plain": [
       "<Figure size 432x288 with 1 Axes>"
      ]
     },
     "metadata": {
      "needs_background": "light"
     },
     "output_type": "display_data"
    }
   ],
   "source": [
    "sns.countplot(x = \"Pclass\", hue = \"Survived\", data = train_data)"
   ]
  },
  {
   "cell_type": "markdown",
   "id": "7a102509",
   "metadata": {
    "papermill": {
     "duration": 0.07383,
     "end_time": "2021-10-03T11:38:30.750292",
     "exception": false,
     "start_time": "2021-10-03T11:38:30.676462",
     "status": "completed"
    },
    "tags": []
   },
   "source": [
    "Looks like most of the first class passengers survived meanwhile majority of the third class passengers didn't"
   ]
  },
  {
   "cell_type": "markdown",
   "id": "6104e3cb",
   "metadata": {
    "papermill": {
     "duration": 0.073664,
     "end_time": "2021-10-03T11:38:30.897821",
     "exception": false,
     "start_time": "2021-10-03T11:38:30.824157",
     "status": "completed"
    },
    "tags": []
   },
   "source": [
    "*** Feature: Name ***"
   ]
  },
  {
   "cell_type": "code",
   "execution_count": 23,
   "id": "ae682e34",
   "metadata": {
    "execution": {
     "iopub.execute_input": "2021-10-03T11:38:31.053235Z",
     "iopub.status.busy": "2021-10-03T11:38:31.052513Z",
     "iopub.status.idle": "2021-10-03T11:38:31.057915Z",
     "shell.execute_reply": "2021-10-03T11:38:31.058432Z",
     "shell.execute_reply.started": "2021-10-03T11:35:59.130519Z"
    },
    "papermill": {
     "duration": 0.086991,
     "end_time": "2021-10-03T11:38:31.058612",
     "exception": false,
     "start_time": "2021-10-03T11:38:30.971621",
     "status": "completed"
    },
    "tags": []
   },
   "outputs": [
    {
     "data": {
      "text/plain": [
       "Braund, Mr. Owen Harris                     1\n",
       "Boulos, Mr. Hanna                           1\n",
       "Frolicher-Stehli, Mr. Maxmillian            1\n",
       "Gilinski, Mr. Eliezer                       1\n",
       "Murdlin, Mr. Joseph                         1\n",
       "                                           ..\n",
       "Kelly, Miss. Anna Katherine \"Annie Kate\"    1\n",
       "McCoy, Mr. Bernard                          1\n",
       "Johnson, Mr. William Cahoone Jr             1\n",
       "Keane, Miss. Nora A                         1\n",
       "Dooley, Mr. Patrick                         1\n",
       "Name: Name, Length: 891, dtype: int64"
      ]
     },
     "execution_count": 23,
     "metadata": {},
     "output_type": "execute_result"
    }
   ],
   "source": [
    "train_data['Name'].value_counts()"
   ]
  },
  {
   "cell_type": "code",
   "execution_count": 24,
   "id": "c0d66886",
   "metadata": {
    "execution": {
     "iopub.execute_input": "2021-10-03T11:38:31.211248Z",
     "iopub.status.busy": "2021-10-03T11:38:31.210536Z",
     "iopub.status.idle": "2021-10-03T11:38:31.216694Z",
     "shell.execute_reply": "2021-10-03T11:38:31.217193Z",
     "shell.execute_reply.started": "2021-10-03T11:35:59.143892Z"
    },
    "papermill": {
     "duration": 0.083784,
     "end_time": "2021-10-03T11:38:31.217352",
     "exception": false,
     "start_time": "2021-10-03T11:38:31.133568",
     "status": "completed"
    },
    "tags": []
   },
   "outputs": [],
   "source": [
    "train_data.drop(['Name'], axis = 1, inplace = True)\n",
    "test_data.drop(['Name'], axis = 1, inplace = True)"
   ]
  },
  {
   "cell_type": "markdown",
   "id": "90076384",
   "metadata": {
    "papermill": {
     "duration": 0.073919,
     "end_time": "2021-10-03T11:38:31.365578",
     "exception": false,
     "start_time": "2021-10-03T11:38:31.291659",
     "status": "completed"
    },
    "tags": []
   },
   "source": [
    "*** Feature: Sex ***"
   ]
  },
  {
   "cell_type": "code",
   "execution_count": 25,
   "id": "84301be8",
   "metadata": {
    "execution": {
     "iopub.execute_input": "2021-10-03T11:38:31.518448Z",
     "iopub.status.busy": "2021-10-03T11:38:31.517826Z",
     "iopub.status.idle": "2021-10-03T11:38:31.692273Z",
     "shell.execute_reply": "2021-10-03T11:38:31.692743Z",
     "shell.execute_reply.started": "2021-10-03T11:35:59.154587Z"
    },
    "papermill": {
     "duration": 0.252454,
     "end_time": "2021-10-03T11:38:31.692918",
     "exception": false,
     "start_time": "2021-10-03T11:38:31.440464",
     "status": "completed"
    },
    "tags": []
   },
   "outputs": [
    {
     "data": {
      "text/plain": [
       "<AxesSubplot:xlabel='Sex', ylabel='count'>"
      ]
     },
     "execution_count": 25,
     "metadata": {},
     "output_type": "execute_result"
    },
    {
     "data": {
      "image/png": "[encoded data removed]",
      "text/plain": [
       "<Figure size 432x288 with 1 Axes>"
      ]
     },
     "metadata": {
      "needs_background": "light"
     },
     "output_type": "display_data"
    }
   ],
   "source": [
    "sns.countplot(train_data['Sex'])"
   ]
  },
  {
   "cell_type": "code",
   "execution_count": 26,
   "id": "813541ff",
   "metadata": {
    "execution": {
     "iopub.execute_input": "2021-10-03T11:38:31.848236Z",
     "iopub.status.busy": "2021-10-03T11:38:31.847527Z",
     "iopub.status.idle": "2021-10-03T11:38:32.171733Z",
     "shell.execute_reply": "2021-10-03T11:38:32.172238Z",
     "shell.execute_reply.started": "2021-10-03T11:35:59.519340Z"
    },
    "papermill": {
     "duration": 0.404494,
     "end_time": "2021-10-03T11:38:32.172409",
     "exception": false,
     "start_time": "2021-10-03T11:38:31.767915",
     "status": "completed"
    },
    "tags": []
   },
   "outputs": [
    {
     "data": {
      "text/plain": [
       "<AxesSubplot:xlabel='Sex', ylabel='count'>"
      ]
     },
     "execution_count": 26,
     "metadata": {},
     "output_type": "execute_result"
    },
    {
     "data": {
      "image/png": "[encoded data removed]",
      "text/plain": [
       "<Figure size 432x288 with 1 Axes>"
      ]
     },
     "metadata": {
      "needs_background": "light"
     },
     "output_type": "display_data"
    }
   ],
   "source": [
    "sns.countplot(x = \"Sex\", hue = \"Survived\", data = train_data)"
   ]
  },
  {
   "cell_type": "markdown",
   "id": "4a85ef8d",
   "metadata": {
    "papermill": {
     "duration": 0.075485,
     "end_time": "2021-10-03T11:38:32.323743",
     "exception": false,
     "start_time": "2021-10-03T11:38:32.248258",
     "status": "completed"
    },
    "tags": []
   },
   "source": [
    "Again, the sex column has a similar situation with the class column in here majority of the women survived but men did not."
   ]
  },
  {
   "cell_type": "markdown",
   "id": "4281780d",
   "metadata": {
    "papermill": {
     "duration": 0.075395,
     "end_time": "2021-10-03T11:38:32.474598",
     "exception": false,
     "start_time": "2021-10-03T11:38:32.399203",
     "status": "completed"
    },
    "tags": []
   },
   "source": [
    "*** Feature: Age ***"
   ]
  },
  {
   "cell_type": "code",
   "execution_count": 27,
   "id": "ba7cb774",
   "metadata": {
    "execution": {
     "iopub.execute_input": "2021-10-03T11:38:32.629350Z",
     "iopub.status.busy": "2021-10-03T11:38:32.628413Z",
     "iopub.status.idle": "2021-10-03T11:38:32.872516Z",
     "shell.execute_reply": "2021-10-03T11:38:32.873063Z",
     "shell.execute_reply.started": "2021-10-03T11:35:59.728299Z"
    },
    "papermill": {
     "duration": 0.323375,
     "end_time": "2021-10-03T11:38:32.873247",
     "exception": false,
     "start_time": "2021-10-03T11:38:32.549872",
     "status": "completed"
    },
    "tags": []
   },
   "outputs": [
    {
     "data": {
      "text/plain": [
       "(array([ 54.,  46., 177., 346., 118.,  70.,  45.,  24.,   9.,   2.]),\n",
       " array([ 0.42 ,  8.378, 16.336, 24.294, 32.252, 40.21 , 48.168, 56.126,\n",
       "        64.084, 72.042, 80.   ]),\n",
       " <BarContainer object of 10 artists>)"
      ]
     },
     "execution_count": 27,
     "metadata": {},
     "output_type": "execute_result"
    },
    {
     "data": {
      "image/png": "[encoded data removed]",
      "text/plain": [
       "<Figure size 432x288 with 1 Axes>"
      ]
     },
     "metadata": {
      "needs_background": "light"
     },
     "output_type": "display_data"
    }
   ],
   "source": [
    "plt.hist(train_data['Age'])"
   ]
  },
  {
   "cell_type": "code",
   "execution_count": 28,
   "id": "b618abbf",
   "metadata": {
    "execution": {
     "iopub.execute_input": "2021-10-03T11:38:33.034586Z",
     "iopub.status.busy": "2021-10-03T11:38:33.033636Z",
     "iopub.status.idle": "2021-10-03T11:38:33.268431Z",
     "shell.execute_reply": "2021-10-03T11:38:33.268931Z",
     "shell.execute_reply.started": "2021-10-03T11:35:59.974883Z"
    },
    "papermill": {
     "duration": 0.317582,
     "end_time": "2021-10-03T11:38:33.269112",
     "exception": false,
     "start_time": "2021-10-03T11:38:32.951530",
     "status": "completed"
    },
    "tags": []
   },
   "outputs": [
    {
     "data": {
      "text/plain": [
       "(array([ 16.,  16.,  71., 183.,  43.,  37.,  25.,  17.,   9.,   1.]),\n",
       " array([ 0.17 ,  7.753, 15.336, 22.919, 30.502, 38.085, 45.668, 53.251,\n",
       "        60.834, 68.417, 76.   ]),\n",
       " <BarContainer object of 10 artists>)"
      ]
     },
     "execution_count": 28,
     "metadata": {},
     "output_type": "execute_result"
    },
    {
     "data": {
      "image/png": "[encoded data removed]",
      "text/plain": [
       "<Figure size 432x288 with 1 Axes>"
      ]
     },
     "metadata": {
      "needs_background": "light"
     },
     "output_type": "display_data"
    }
   ],
   "source": [
    "plt.hist(test_data['Age'])"
   ]
  },
  {
   "cell_type": "markdown",
   "id": "bed961b5",
   "metadata": {
    "papermill": {
     "duration": 0.078574,
     "end_time": "2021-10-03T11:38:33.425458",
     "exception": false,
     "start_time": "2021-10-03T11:38:33.346884",
     "status": "completed"
    },
    "tags": []
   },
   "source": [
    "*** Feature: SibSp ***"
   ]
  },
  {
   "cell_type": "code",
   "execution_count": 29,
   "id": "33a94b21",
   "metadata": {
    "execution": {
     "iopub.execute_input": "2021-10-03T11:38:33.584821Z",
     "iopub.status.busy": "2021-10-03T11:38:33.583885Z",
     "iopub.status.idle": "2021-10-03T11:38:33.815458Z",
     "shell.execute_reply": "2021-10-03T11:38:33.815951Z",
     "shell.execute_reply.started": "2021-10-03T11:36:00.239224Z"
    },
    "papermill": {
     "duration": 0.313027,
     "end_time": "2021-10-03T11:38:33.816136",
     "exception": false,
     "start_time": "2021-10-03T11:38:33.503109",
     "status": "completed"
    },
    "scrolled": true,
    "tags": []
   },
   "outputs": [
    {
     "data": {
      "text/plain": [
       "(array([608., 209.,  28.,  16.,   0.,  18.,   5.,   0.,   0.,   7.]),\n",
       " array([0. , 0.8, 1.6, 2.4, 3.2, 4. , 4.8, 5.6, 6.4, 7.2, 8. ]),\n",
       " <BarContainer object of 10 artists>)"
      ]
     },
     "execution_count": 29,
     "metadata": {},
     "output_type": "execute_result"
    },
    {
     "data": {
      "image/png": "[encoded data removed]",
      "text/plain": [
       "<Figure size 432x288 with 1 Axes>"
      ]
     },
     "metadata": {
      "needs_background": "light"
     },
     "output_type": "display_data"
    }
   ],
   "source": [
    "plt.hist(train_data['SibSp'])"
   ]
  },
  {
   "cell_type": "code",
   "execution_count": 30,
   "id": "45087433",
   "metadata": {
    "execution": {
     "iopub.execute_input": "2021-10-03T11:38:33.977882Z",
     "iopub.status.busy": "2021-10-03T11:38:33.976904Z",
     "iopub.status.idle": "2021-10-03T11:38:34.209753Z",
     "shell.execute_reply": "2021-10-03T11:38:34.210257Z",
     "shell.execute_reply.started": "2021-10-03T11:36:00.527078Z"
    },
    "papermill": {
     "duration": 0.315546,
     "end_time": "2021-10-03T11:38:34.210445",
     "exception": false,
     "start_time": "2021-10-03T11:38:33.894899",
     "status": "completed"
    },
    "tags": []
   },
   "outputs": [
    {
     "data": {
      "text/plain": [
       "(array([283., 110.,  14.,   4.,   0.,   4.,   1.,   0.,   0.,   2.]),\n",
       " array([0. , 0.8, 1.6, 2.4, 3.2, 4. , 4.8, 5.6, 6.4, 7.2, 8. ]),\n",
       " <BarContainer object of 10 artists>)"
      ]
     },
     "execution_count": 30,
     "metadata": {},
     "output_type": "execute_result"
    },
    {
     "data": {
      "image/png": "[encoded data removed]",
      "text/plain": [
       "<Figure size 432x288 with 1 Axes>"
      ]
     },
     "metadata": {
      "needs_background": "light"
     },
     "output_type": "display_data"
    }
   ],
   "source": [
    "plt.hist(test_data['SibSp'])"
   ]
  },
  {
   "cell_type": "markdown",
   "id": "bfa08b6f",
   "metadata": {
    "papermill": {
     "duration": 0.080039,
     "end_time": "2021-10-03T11:38:34.370802",
     "exception": false,
     "start_time": "2021-10-03T11:38:34.290763",
     "status": "completed"
    },
    "tags": []
   },
   "source": [
    "*** Feature: Parch ***"
   ]
  },
  {
   "cell_type": "code",
   "execution_count": 31,
   "id": "16547187",
   "metadata": {
    "execution": {
     "iopub.execute_input": "2021-10-03T11:38:34.535449Z",
     "iopub.status.busy": "2021-10-03T11:38:34.534477Z",
     "iopub.status.idle": "2021-10-03T11:38:34.763392Z",
     "shell.execute_reply": "2021-10-03T11:38:34.763902Z",
     "shell.execute_reply.started": "2021-10-03T11:36:00.775053Z"
    },
    "papermill": {
     "duration": 0.312876,
     "end_time": "2021-10-03T11:38:34.764100",
     "exception": false,
     "start_time": "2021-10-03T11:38:34.451224",
     "status": "completed"
    },
    "tags": []
   },
   "outputs": [
    {
     "data": {
      "text/plain": [
       "(array([678., 118.,   0.,  80.,   0.,   5.,   4.,   0.,   5.,   1.]),\n",
       " array([0. , 0.6, 1.2, 1.8, 2.4, 3. , 3.6, 4.2, 4.8, 5.4, 6. ]),\n",
       " <BarContainer object of 10 artists>)"
      ]
     },
     "execution_count": 31,
     "metadata": {},
     "output_type": "execute_result"
    },
    {
     "data": {
      "image/png": "[encoded data removed]",
      "text/plain": [
       "<Figure size 432x288 with 1 Axes>"
      ]
     },
     "metadata": {
      "needs_background": "light"
     },
     "output_type": "display_data"
    }
   ],
   "source": [
    "plt.hist(train_data['Parch'])"
   ]
  },
  {
   "cell_type": "code",
   "execution_count": 32,
   "id": "8a8fd902",
   "metadata": {
    "execution": {
     "iopub.execute_input": "2021-10-03T11:38:34.931797Z",
     "iopub.status.busy": "2021-10-03T11:38:34.931142Z",
     "iopub.status.idle": "2021-10-03T11:38:35.143828Z",
     "shell.execute_reply": "2021-10-03T11:38:35.143132Z",
     "shell.execute_reply.started": "2021-10-03T11:36:01.013610Z"
    },
    "papermill": {
     "duration": 0.298327,
     "end_time": "2021-10-03T11:38:35.143972",
     "exception": false,
     "start_time": "2021-10-03T11:38:34.845645",
     "status": "completed"
    },
    "tags": []
   },
   "outputs": [
    {
     "data": {
      "text/plain": [
       "(array([324.,  52.,  33.,   3.,   2.,   1.,   1.,   0.,   0.,   2.]),\n",
       " array([0. , 0.9, 1.8, 2.7, 3.6, 4.5, 5.4, 6.3, 7.2, 8.1, 9. ]),\n",
       " <BarContainer object of 10 artists>)"
      ]
     },
     "execution_count": 32,
     "metadata": {},
     "output_type": "execute_result"
    },
    {
     "data": {
      "image/png": "[encoded data removed]",
      "text/plain": [
       "<Figure size 432x288 with 1 Axes>"
      ]
     },
     "metadata": {
      "needs_background": "light"
     },
     "output_type": "display_data"
    }
   ],
   "source": [
    "plt.hist(test_data['Parch'])"
   ]
  },
  {
   "cell_type": "markdown",
   "id": "2ccc30ca",
   "metadata": {
    "papermill": {
     "duration": 0.082233,
     "end_time": "2021-10-03T11:38:35.359106",
     "exception": false,
     "start_time": "2021-10-03T11:38:35.276873",
     "status": "completed"
    },
    "tags": []
   },
   "source": [
    "*** Feature: Ticket ***"
   ]
  },
  {
   "cell_type": "code",
   "execution_count": 33,
   "id": "b51ac58a",
   "metadata": {
    "execution": {
     "iopub.execute_input": "2021-10-03T11:38:35.532503Z",
     "iopub.status.busy": "2021-10-03T11:38:35.531812Z",
     "iopub.status.idle": "2021-10-03T11:38:35.534785Z",
     "shell.execute_reply": "2021-10-03T11:38:35.535296Z",
     "shell.execute_reply.started": "2021-10-03T11:36:01.239951Z"
    },
    "papermill": {
     "duration": 0.093954,
     "end_time": "2021-10-03T11:38:35.535466",
     "exception": false,
     "start_time": "2021-10-03T11:38:35.441512",
     "status": "completed"
    },
    "tags": []
   },
   "outputs": [
    {
     "data": {
      "text/plain": [
       "array(['A/5 21171', 'PC 17599', 'STON/O2. 3101282', '113803', '373450',\n",
       "       '330877', '17463', '349909', '347742', '237736', 'PP 9549',\n",
       "       '113783', 'A/5. 2151', '347082', '350406', '248706', '382652',\n",
       "       '244373', '345763', '2649', '239865', '248698', '330923', '113788',\n",
       "       '347077', '2631', '19950', '330959', '349216', 'PC 17601',\n",
       "       'PC 17569', '335677', 'C.A. 24579', 'PC 17604', '113789', '2677',\n",
       "       'A./5. 2152', '345764', '2651', '7546', '11668', '349253',\n",
       "       'SC/Paris 2123', '330958', 'S.C./A.4. 23567', '370371', '14311',\n",
       "       '2662', '349237', '3101295', 'A/4. 39886', 'PC 17572', '2926',\n",
       "       '113509', '19947', 'C.A. 31026', '2697', 'C.A. 34651', 'CA 2144',\n",
       "       '2669', '113572', '36973', '347088', 'PC 17605', '2661',\n",
       "       'C.A. 29395', 'S.P. 3464', '3101281', '315151', 'C.A. 33111',\n",
       "       'S.O.C. 14879', '2680', '1601', '348123', '349208', '374746',\n",
       "       '248738', '364516', '345767', '345779', '330932', '113059',\n",
       "       'SO/C 14885', '3101278', 'W./C. 6608', 'SOTON/OQ 392086', '343275',\n",
       "       '343276', '347466', 'W.E.P. 5734', 'C.A. 2315', '364500', '374910',\n",
       "       'PC 17754', 'PC 17759', '231919', '244367', '349245', '349215',\n",
       "       '35281', '7540', '3101276', '349207', '343120', '312991', '349249',\n",
       "       '371110', '110465', '2665', '324669', '4136', '2627',\n",
       "       'STON/O 2. 3101294', '370369', 'PC 17558', 'A4. 54510', '27267',\n",
       "       '370372', 'C 17369', '2668', '347061', '349241',\n",
       "       'SOTON/O.Q. 3101307', 'A/5. 3337', '228414', 'C.A. 29178',\n",
       "       'SC/PARIS 2133', '11752', '7534', 'PC 17593', '2678', '347081',\n",
       "       'STON/O2. 3101279', '365222', '231945', 'C.A. 33112', '350043',\n",
       "       '230080', '244310', 'S.O.P. 1166', '113776', 'A.5. 11206',\n",
       "       'A/5. 851', 'Fa 265302', 'PC 17597', '35851', 'SOTON/OQ 392090',\n",
       "       '315037', 'CA. 2343', '371362', 'C.A. 33595', '347068', '315093',\n",
       "       '363291', '113505', 'PC 17318', '111240', 'STON/O 2. 3101280',\n",
       "       '17764', '350404', '4133', 'PC 17595', '250653', 'LINE',\n",
       "       'SC/PARIS 2131', '230136', '315153', '113767', '370365', '111428',\n",
       "       '364849', '349247', '234604', '28424', '350046', 'PC 17610',\n",
       "       '368703', '4579', '370370', '248747', '345770', '3101264', '2628',\n",
       "       'A/5 3540', '347054', '2699', '367231', '112277',\n",
       "       'SOTON/O.Q. 3101311', 'F.C.C. 13528', 'A/5 21174', '250646',\n",
       "       '367229', '35273', 'STON/O2. 3101283', '243847', '11813',\n",
       "       'W/C 14208', 'SOTON/OQ 392089', '220367', '21440', '349234',\n",
       "       '19943', 'PP 4348', 'SW/PP 751', 'A/5 21173', '236171', '347067',\n",
       "       '237442', 'C.A. 29566', 'W./C. 6609', '26707', 'C.A. 31921',\n",
       "       '28665', 'SCO/W 1585', '367230', 'W./C. 14263',\n",
       "       'STON/O 2. 3101275', '2694', '19928', '347071', '250649', '11751',\n",
       "       '244252', '362316', '113514', 'A/5. 3336', '370129', '2650',\n",
       "       'PC 17585', '110152', 'PC 17755', '230433', '384461', '110413',\n",
       "       '112059', '382649', 'C.A. 17248', '347083', 'PC 17582', 'PC 17760',\n",
       "       '113798', '250644', 'PC 17596', '370375', '13502', '347073',\n",
       "       '239853', 'C.A. 2673', '336439', '347464', '345778', 'A/5. 10482',\n",
       "       '113056', '349239', '345774', '349206', '237798', '370373',\n",
       "       '19877', '11967', 'SC/Paris 2163', '349236', '349233', 'PC 17612',\n",
       "       '2693', '113781', '19988', '9234', '367226', '226593', 'A/5 2466',\n",
       "       '17421', 'PC 17758', 'P/PP 3381', 'PC 17485', '11767', 'PC 17608',\n",
       "       '250651', '349243', 'F.C.C. 13529', '347470', '29011', '36928',\n",
       "       '16966', 'A/5 21172', '349219', '234818', '345364', '28551',\n",
       "       '111361', '113043', 'PC 17611', '349225', '7598', '113784',\n",
       "       '248740', '244361', '229236', '248733', '31418', '386525',\n",
       "       'C.A. 37671', '315088', '7267', '113510', '2695', '2647', '345783',\n",
       "       '237671', '330931', '330980', 'SC/PARIS 2167', '2691',\n",
       "       'SOTON/O.Q. 3101310', 'C 7076', '110813', '2626', '14313',\n",
       "       'PC 17477', '11765', '3101267', '323951', 'C 7077', '113503',\n",
       "       '2648', '347069', 'PC 17757', '2653', 'STON/O 2. 3101293',\n",
       "       '349227', '27849', '367655', 'SC 1748', '113760', '350034',\n",
       "       '3101277', '350052', '350407', '28403', '244278', '240929',\n",
       "       'STON/O 2. 3101289', '341826', '4137', '315096', '28664', '347064',\n",
       "       '29106', '312992', '349222', '394140', 'STON/O 2. 3101269',\n",
       "       '343095', '28220', '250652', '28228', '345773', '349254',\n",
       "       'A/5. 13032', '315082', '347080', 'A/4. 34244', '2003', '250655',\n",
       "       '364851', 'SOTON/O.Q. 392078', '110564', '376564', 'SC/AH 3085',\n",
       "       'STON/O 2. 3101274', '13507', 'C.A. 18723', '345769', '347076',\n",
       "       '230434', '65306', '33638', '113794', '2666', '113786', '65303',\n",
       "       '113051', '17453', 'A/5 2817', '349240', '13509', '17464',\n",
       "       'F.C.C. 13531', '371060', '19952', '364506', '111320', '234360',\n",
       "       'A/S 2816', 'SOTON/O.Q. 3101306', '113792', '36209', '323592',\n",
       "       '315089', 'SC/AH Basle 541', '7553', '31027', '3460', '350060',\n",
       "       '3101298', '239854', 'A/5 3594', '4134', '11771', 'A.5. 18509',\n",
       "       '65304', 'SOTON/OQ 3101317', '113787', 'PC 17609', 'A/4 45380',\n",
       "       '36947', 'C.A. 6212', '350035', '315086', '364846', '330909',\n",
       "       '4135', '26360', '111427', 'C 4001', '382651', 'SOTON/OQ 3101316',\n",
       "       'PC 17473', 'PC 17603', '349209', '36967', 'C.A. 34260', '226875',\n",
       "       '349242', '12749', '349252', '2624', '2700', '367232',\n",
       "       'W./C. 14258', 'PC 17483', '3101296', '29104', '2641', '2690',\n",
       "       '315084', '113050', 'PC 17761', '364498', '13568', 'WE/P 5735',\n",
       "       '2908', '693', 'SC/PARIS 2146', '244358', '330979', '2620',\n",
       "       '347085', '113807', '11755', '345572', '372622', '349251',\n",
       "       '218629', 'SOTON/OQ 392082', 'SOTON/O.Q. 392087', 'A/4 48871',\n",
       "       '349205', '2686', '350417', 'S.W./PP 752', '11769', 'PC 17474',\n",
       "       '14312', 'A/4. 20589', '358585', '243880', '2689',\n",
       "       'STON/O 2. 3101286', '237789', '13049', '3411', '237565', '13567',\n",
       "       '14973', 'A./5. 3235', 'STON/O 2. 3101273', 'A/5 3902', '364848',\n",
       "       'SC/AH 29037', '248727', '2664', '349214', '113796', '364511',\n",
       "       '111426', '349910', '349246', '113804', 'SOTON/O.Q. 3101305',\n",
       "       '370377', '364512', '220845', '31028', '2659', '11753', '350029',\n",
       "       '54636', '36963', '219533', '349224', '334912', '27042', '347743',\n",
       "       '13214', '112052', '237668', 'STON/O 2. 3101292', '350050',\n",
       "       '349231', '13213', 'S.O./P.P. 751', 'CA. 2314', '349221', '8475',\n",
       "       '330919', '365226', '349223', '29751', '2623', '5727', '349210',\n",
       "       'STON/O 2. 3101285', '234686', '312993', 'A/5 3536', '19996',\n",
       "       '29750', 'F.C. 12750', 'C.A. 24580', '244270', '239856', '349912',\n",
       "       '342826', '4138', '330935', '6563', '349228', '350036', '24160',\n",
       "       '17474', '349256', '2672', '113800', '248731', '363592', '35852',\n",
       "       '348121', 'PC 17475', '36864', '350025', '223596', 'PC 17476',\n",
       "       'PC 17482', '113028', '7545', '250647', '348124', '34218', '36568',\n",
       "       '347062', '350048', '12233', '250643', '113806', '315094', '36866',\n",
       "       '236853', 'STON/O2. 3101271', '239855', '28425', '233639',\n",
       "       '349201', '349218', '16988', '376566', 'STON/O 2. 3101288',\n",
       "       '250648', '113773', '335097', '29103', '392096', '345780',\n",
       "       '349204', '350042', '29108', '363294', 'SOTON/O2 3101272', '2663',\n",
       "       '347074', '112379', '364850', '8471', '345781', '350047',\n",
       "       'S.O./P.P. 3', '2674', '29105', '347078', '383121', '36865',\n",
       "       '2687', '113501', 'W./C. 6607', 'SOTON/O.Q. 3101312', '374887',\n",
       "       '3101265', '12460', 'PC 17600', '349203', '28213', '17465',\n",
       "       '349244', '2685', '2625', '347089', '347063', '112050', '347087',\n",
       "       '248723', '3474', '28206', '364499', '112058', 'STON/O2. 3101290',\n",
       "       'S.C./PARIS 2079', 'C 7075', '315098', '19972', '368323', '367228',\n",
       "       '2671', '347468', '2223', 'PC 17756', '315097', '392092', '11774',\n",
       "       'SOTON/O2 3101287', '2683', '315090', 'C.A. 5547', '349213',\n",
       "       '347060', 'PC 17592', '392091', '113055', '2629', '350026',\n",
       "       '28134', '17466', '233866', '236852', 'SC/PARIS 2149', 'PC 17590',\n",
       "       '345777', '349248', '695', '345765', '2667', '349212', '349217',\n",
       "       '349257', '7552', 'C.A./SOTON 34068', 'SOTON/OQ 392076', '211536',\n",
       "       '112053', '111369', '370376'], dtype=object)"
      ]
     },
     "execution_count": 33,
     "metadata": {},
     "output_type": "execute_result"
    }
   ],
   "source": [
    "train_data['Ticket'].unique()"
   ]
  },
  {
   "cell_type": "code",
   "execution_count": 34,
   "id": "d774a4fa",
   "metadata": {
    "execution": {
     "iopub.execute_input": "2021-10-03T11:38:35.704402Z",
     "iopub.status.busy": "2021-10-03T11:38:35.703705Z",
     "iopub.status.idle": "2021-10-03T11:38:35.709396Z",
     "shell.execute_reply": "2021-10-03T11:38:35.709927Z",
     "shell.execute_reply.started": "2021-10-03T11:36:01.251542Z"
    },
    "papermill": {
     "duration": 0.091832,
     "end_time": "2021-10-03T11:38:35.710101",
     "exception": false,
     "start_time": "2021-10-03T11:38:35.618269",
     "status": "completed"
    },
    "tags": []
   },
   "outputs": [],
   "source": [
    "train_data.drop(['Ticket'], axis = 1, inplace = True)\n",
    "test_data.drop(['Ticket'], axis = 1, inplace = True)"
   ]
  },
  {
   "cell_type": "markdown",
   "id": "214705e4",
   "metadata": {
    "papermill": {
     "duration": 0.084603,
     "end_time": "2021-10-03T11:38:35.879386",
     "exception": false,
     "start_time": "2021-10-03T11:38:35.794783",
     "status": "completed"
    },
    "tags": []
   },
   "source": [
    "*** Feature: Fare ***"
   ]
  },
  {
   "cell_type": "code",
   "execution_count": 35,
   "id": "81c4ff72",
   "metadata": {
    "execution": {
     "iopub.execute_input": "2021-10-03T11:38:36.050772Z",
     "iopub.status.busy": "2021-10-03T11:38:36.050112Z",
     "iopub.status.idle": "2021-10-03T11:38:36.057747Z",
     "shell.execute_reply": "2021-10-03T11:38:36.058203Z",
     "shell.execute_reply.started": "2021-10-03T11:36:01.269379Z"
    },
    "papermill": {
     "duration": 0.095752,
     "end_time": "2021-10-03T11:38:36.058370",
     "exception": false,
     "start_time": "2021-10-03T11:38:35.962618",
     "status": "completed"
    },
    "tags": []
   },
   "outputs": [
    {
     "data": {
      "text/plain": [
       "Survived    0\n",
       "Pclass      0\n",
       "Sex         0\n",
       "Age         0\n",
       "SibSp       0\n",
       "Parch       0\n",
       "Fare        0\n",
       "Embarked    2\n",
       "dtype: int64"
      ]
     },
     "execution_count": 35,
     "metadata": {},
     "output_type": "execute_result"
    }
   ],
   "source": [
    "train_data.isnull().sum()"
   ]
  },
  {
   "cell_type": "code",
   "execution_count": 36,
   "id": "8e9bb314",
   "metadata": {
    "execution": {
     "iopub.execute_input": "2021-10-03T11:38:36.233428Z",
     "iopub.status.busy": "2021-10-03T11:38:36.232788Z",
     "iopub.status.idle": "2021-10-03T11:38:36.238116Z",
     "shell.execute_reply": "2021-10-03T11:38:36.238720Z",
     "shell.execute_reply.started": "2021-10-03T11:36:01.286606Z"
    },
    "papermill": {
     "duration": 0.095148,
     "end_time": "2021-10-03T11:38:36.238887",
     "exception": false,
     "start_time": "2021-10-03T11:38:36.143739",
     "status": "completed"
    },
    "tags": []
   },
   "outputs": [
    {
     "data": {
      "text/plain": [
       "Pclass      0\n",
       "Sex         0\n",
       "Age         0\n",
       "SibSp       0\n",
       "Parch       0\n",
       "Fare        1\n",
       "Embarked    0\n",
       "dtype: int64"
      ]
     },
     "execution_count": 36,
     "metadata": {},
     "output_type": "execute_result"
    }
   ],
   "source": [
    "test_data.isnull().sum()"
   ]
  },
  {
   "cell_type": "code",
   "execution_count": 37,
   "id": "1ac8090c",
   "metadata": {
    "execution": {
     "iopub.execute_input": "2021-10-03T11:38:36.409038Z",
     "iopub.status.busy": "2021-10-03T11:38:36.408310Z",
     "iopub.status.idle": "2021-10-03T11:38:36.608894Z",
     "shell.execute_reply": "2021-10-03T11:38:36.608361Z",
     "shell.execute_reply.started": "2021-10-03T11:36:01.302521Z"
    },
    "papermill": {
     "duration": 0.286322,
     "end_time": "2021-10-03T11:38:36.609032",
     "exception": false,
     "start_time": "2021-10-03T11:38:36.322710",
     "status": "completed"
    },
    "tags": []
   },
   "outputs": [
    {
     "data": {
      "image/png": "[encoded data removed]",
      "text/plain": [
       "<Figure size 432x288 with 1 Axes>"
      ]
     },
     "metadata": {
      "needs_background": "light"
     },
     "output_type": "display_data"
    }
   ],
   "source": [
    "plt.hist(train_data['Fare'])\n",
    "plt.show()"
   ]
  },
  {
   "cell_type": "code",
   "execution_count": 38,
   "id": "913ee2d8",
   "metadata": {
    "execution": {
     "iopub.execute_input": "2021-10-03T11:38:36.816044Z",
     "iopub.status.busy": "2021-10-03T11:38:36.815316Z",
     "iopub.status.idle": "2021-10-03T11:38:36.993655Z",
     "shell.execute_reply": "2021-10-03T11:38:36.994197Z",
     "shell.execute_reply.started": "2021-10-03T11:36:01.514266Z"
    },
    "papermill": {
     "duration": 0.301893,
     "end_time": "2021-10-03T11:38:36.994423",
     "exception": false,
     "start_time": "2021-10-03T11:38:36.692530",
     "status": "completed"
    },
    "tags": []
   },
   "outputs": [
    {
     "data": {
      "image/png": "[encoded data removed]",
      "text/plain": [
       "<Figure size 432x288 with 1 Axes>"
      ]
     },
     "metadata": {
      "needs_background": "light"
     },
     "output_type": "display_data"
    }
   ],
   "source": [
    "plt.hist(test_data['Fare'])\n",
    "plt.show()"
   ]
  },
  {
   "cell_type": "markdown",
   "id": "c823c049",
   "metadata": {
    "papermill": {
     "duration": 0.085685,
     "end_time": "2021-10-03T11:38:37.165395",
     "exception": false,
     "start_time": "2021-10-03T11:38:37.079710",
     "status": "completed"
    },
    "tags": []
   },
   "source": [
    "Since the Fare feature has a exponential distribution we can maybe with this issue with square root transformatio."
   ]
  },
  {
   "cell_type": "code",
   "execution_count": 39,
   "id": "ee04d9e8",
   "metadata": {
    "execution": {
     "iopub.execute_input": "2021-10-03T11:38:37.368414Z",
     "iopub.status.busy": "2021-10-03T11:38:37.366939Z",
     "iopub.status.idle": "2021-10-03T11:38:37.370631Z",
     "shell.execute_reply": "2021-10-03T11:38:37.371285Z",
     "shell.execute_reply.started": "2021-10-03T11:36:01.720711Z"
    },
    "papermill": {
     "duration": 0.104826,
     "end_time": "2021-10-03T11:38:37.371476",
     "exception": false,
     "start_time": "2021-10-03T11:38:37.266650",
     "status": "completed"
    },
    "tags": []
   },
   "outputs": [],
   "source": [
    "train_data['Fare'] = train_data['Fare'] ** (1 / 3)\n",
    "test_data['Fare'] = test_data['Fare'] ** (1 / 3)"
   ]
  },
  {
   "cell_type": "code",
   "execution_count": 40,
   "id": "3e51e752",
   "metadata": {
    "execution": {
     "iopub.execute_input": "2021-10-03T11:38:37.569267Z",
     "iopub.status.busy": "2021-10-03T11:38:37.547354Z",
     "iopub.status.idle": "2021-10-03T11:38:37.767541Z",
     "shell.execute_reply": "2021-10-03T11:38:37.766748Z",
     "shell.execute_reply.started": "2021-10-03T11:36:01.728078Z"
    },
    "papermill": {
     "duration": 0.310865,
     "end_time": "2021-10-03T11:38:37.767726",
     "exception": false,
     "start_time": "2021-10-03T11:38:37.456861",
     "status": "completed"
    },
    "tags": []
   },
   "outputs": [
    {
     "data": {
      "image/png": "[encoded data removed]",
      "text/plain": [
       "<Figure size 432x288 with 1 Axes>"
      ]
     },
     "metadata": {
      "needs_background": "light"
     },
     "output_type": "display_data"
    }
   ],
   "source": [
    "plt.hist(train_data['Fare'])\n",
    "plt.show()"
   ]
  },
  {
   "cell_type": "code",
   "execution_count": 41,
   "id": "75426d16",
   "metadata": {
    "execution": {
     "iopub.execute_input": "2021-10-03T11:38:37.972157Z",
     "iopub.status.busy": "2021-10-03T11:38:37.963691Z",
     "iopub.status.idle": "2021-10-03T11:38:38.172373Z",
     "shell.execute_reply": "2021-10-03T11:38:38.171796Z",
     "shell.execute_reply.started": "2021-10-03T11:36:01.960971Z"
    },
    "papermill": {
     "duration": 0.317562,
     "end_time": "2021-10-03T11:38:38.172517",
     "exception": false,
     "start_time": "2021-10-03T11:38:37.854955",
     "status": "completed"
    },
    "tags": []
   },
   "outputs": [
    {
     "data": {
      "image/png": "[encoded data removed]",
      "text/plain": [
       "<Figure size 432x288 with 1 Axes>"
      ]
     },
     "metadata": {
      "needs_background": "light"
     },
     "output_type": "display_data"
    }
   ],
   "source": [
    "plt.hist(test_data['Fare'])\n",
    "plt.show()"
   ]
  },
  {
   "cell_type": "code",
   "execution_count": 42,
   "id": "7dcc7d3d",
   "metadata": {
    "execution": {
     "iopub.execute_input": "2021-10-03T11:38:38.351337Z",
     "iopub.status.busy": "2021-10-03T11:38:38.350407Z",
     "iopub.status.idle": "2021-10-03T11:38:38.352953Z",
     "shell.execute_reply": "2021-10-03T11:38:38.352415Z",
     "shell.execute_reply.started": "2021-10-03T11:36:02.187309Z"
    },
    "papermill": {
     "duration": 0.094388,
     "end_time": "2021-10-03T11:38:38.353099",
     "exception": false,
     "start_time": "2021-10-03T11:38:38.258711",
     "status": "completed"
    },
    "tags": []
   },
   "outputs": [],
   "source": [
    "test_data['Fare'] = test_data['Fare'].fillna(test_data['Fare'].median())"
   ]
  },
  {
   "cell_type": "markdown",
   "id": "0a893204",
   "metadata": {
    "papermill": {
     "duration": 0.085858,
     "end_time": "2021-10-03T11:38:38.525137",
     "exception": false,
     "start_time": "2021-10-03T11:38:38.439279",
     "status": "completed"
    },
    "tags": []
   },
   "source": [
    "*** Feature: Embarked ***"
   ]
  },
  {
   "cell_type": "code",
   "execution_count": 43,
   "id": "2a329e52",
   "metadata": {
    "execution": {
     "iopub.execute_input": "2021-10-03T11:38:38.706722Z",
     "iopub.status.busy": "2021-10-03T11:38:38.705774Z",
     "iopub.status.idle": "2021-10-03T11:38:38.709090Z",
     "shell.execute_reply": "2021-10-03T11:38:38.709604Z",
     "shell.execute_reply.started": "2021-10-03T11:36:02.196094Z"
    },
    "papermill": {
     "duration": 0.099189,
     "end_time": "2021-10-03T11:38:38.709795",
     "exception": false,
     "start_time": "2021-10-03T11:38:38.610606",
     "status": "completed"
    },
    "tags": []
   },
   "outputs": [
    {
     "data": {
      "text/plain": [
       "Survived    0\n",
       "Pclass      0\n",
       "Sex         0\n",
       "Age         0\n",
       "SibSp       0\n",
       "Parch       0\n",
       "Fare        0\n",
       "Embarked    2\n",
       "dtype: int64"
      ]
     },
     "execution_count": 43,
     "metadata": {},
     "output_type": "execute_result"
    }
   ],
   "source": [
    "train_data.isnull().sum()"
   ]
  },
  {
   "cell_type": "code",
   "execution_count": 44,
   "id": "1d320511",
   "metadata": {
    "execution": {
     "iopub.execute_input": "2021-10-03T11:38:38.895371Z",
     "iopub.status.busy": "2021-10-03T11:38:38.894318Z",
     "iopub.status.idle": "2021-10-03T11:38:38.897924Z",
     "shell.execute_reply": "2021-10-03T11:38:38.898384Z",
     "shell.execute_reply.started": "2021-10-03T11:36:02.213210Z"
    },
    "papermill": {
     "duration": 0.100427,
     "end_time": "2021-10-03T11:38:38.898562",
     "exception": false,
     "start_time": "2021-10-03T11:38:38.798135",
     "status": "completed"
    },
    "tags": []
   },
   "outputs": [
    {
     "data": {
      "text/plain": [
       "Pclass      0\n",
       "Sex         0\n",
       "Age         0\n",
       "SibSp       0\n",
       "Parch       0\n",
       "Fare        0\n",
       "Embarked    0\n",
       "dtype: int64"
      ]
     },
     "execution_count": 44,
     "metadata": {},
     "output_type": "execute_result"
    }
   ],
   "source": [
    "test_data.isnull().sum()"
   ]
  },
  {
   "cell_type": "code",
   "execution_count": 45,
   "id": "8981bdb4",
   "metadata": {
    "execution": {
     "iopub.execute_input": "2021-10-03T11:38:39.082024Z",
     "iopub.status.busy": "2021-10-03T11:38:39.076141Z",
     "iopub.status.idle": "2021-10-03T11:38:39.261351Z",
     "shell.execute_reply": "2021-10-03T11:38:39.261817Z",
     "shell.execute_reply.started": "2021-10-03T11:36:02.228402Z"
    },
    "papermill": {
     "duration": 0.275581,
     "end_time": "2021-10-03T11:38:39.261988",
     "exception": false,
     "start_time": "2021-10-03T11:38:38.986407",
     "status": "completed"
    },
    "tags": []
   },
   "outputs": [
    {
     "data": {
      "text/plain": [
       "<AxesSubplot:xlabel='Embarked', ylabel='count'>"
      ]
     },
     "execution_count": 45,
     "metadata": {},
     "output_type": "execute_result"
    },
    {
     "data": {
      "image/png": "[encoded data removed]",
      "text/plain": [
       "<Figure size 432x288 with 1 Axes>"
      ]
     },
     "metadata": {
      "needs_background": "light"
     },
     "output_type": "display_data"
    }
   ],
   "source": [
    "sns.countplot(train_data['Embarked'])"
   ]
  },
  {
   "cell_type": "code",
   "execution_count": 46,
   "id": "eb9540f6",
   "metadata": {
    "execution": {
     "iopub.execute_input": "2021-10-03T11:38:39.439928Z",
     "iopub.status.busy": "2021-10-03T11:38:39.439219Z",
     "iopub.status.idle": "2021-10-03T11:38:39.671772Z",
     "shell.execute_reply": "2021-10-03T11:38:39.671178Z",
     "shell.execute_reply.started": "2021-10-03T11:36:02.430283Z"
    },
    "papermill": {
     "duration": 0.322645,
     "end_time": "2021-10-03T11:38:39.671917",
     "exception": false,
     "start_time": "2021-10-03T11:38:39.349272",
     "status": "completed"
    },
    "scrolled": true,
    "tags": []
   },
   "outputs": [
    {
     "data": {
      "text/plain": [
       "<AxesSubplot:xlabel='Embarked', ylabel='count'>"
      ]
     },
     "execution_count": 46,
     "metadata": {},
     "output_type": "execute_result"
    },
    {
     "data": {
      "image/png": "[encoded data removed]",
      "text/plain": [
       "<Figure size 432x288 with 1 Axes>"
      ]
     },
     "metadata": {
      "needs_background": "light"
     },
     "output_type": "display_data"
    }
   ],
   "source": [
    "sns.countplot(x = \"Embarked\", hue = \"Survived\", data = train_data)"
   ]
  },
  {
   "cell_type": "code",
   "execution_count": 47,
   "id": "dd30620e",
   "metadata": {
    "execution": {
     "iopub.execute_input": "2021-10-03T11:38:39.861147Z",
     "iopub.status.busy": "2021-10-03T11:38:39.860460Z",
     "iopub.status.idle": "2021-10-03T11:38:39.863707Z",
     "shell.execute_reply": "2021-10-03T11:38:39.864231Z",
     "shell.execute_reply.started": "2021-10-03T11:36:02.677121Z"
    },
    "papermill": {
     "duration": 0.098984,
     "end_time": "2021-10-03T11:38:39.864408",
     "exception": false,
     "start_time": "2021-10-03T11:38:39.765424",
     "status": "completed"
    },
    "tags": []
   },
   "outputs": [],
   "source": [
    "train_data['Embarked'] = train_data['Embarked'].fillna(train_data['Embarked'].mode())"
   ]
  },
  {
   "cell_type": "markdown",
   "id": "99503881",
   "metadata": {
    "papermill": {
     "duration": 0.089515,
     "end_time": "2021-10-03T11:38:40.044422",
     "exception": false,
     "start_time": "2021-10-03T11:38:39.954907",
     "status": "completed"
    },
    "tags": []
   },
   "source": [
    "# Feature Engineering"
   ]
  },
  {
   "cell_type": "code",
   "execution_count": 48,
   "id": "44262d82",
   "metadata": {
    "execution": {
     "iopub.execute_input": "2021-10-03T11:38:40.235430Z",
     "iopub.status.busy": "2021-10-03T11:38:40.229305Z",
     "iopub.status.idle": "2021-10-03T11:38:40.239688Z",
     "shell.execute_reply": "2021-10-03T11:38:40.239070Z",
     "shell.execute_reply.started": "2021-10-03T11:36:02.686887Z"
    },
    "papermill": {
     "duration": 0.105925,
     "end_time": "2021-10-03T11:38:40.239830",
     "exception": false,
     "start_time": "2021-10-03T11:38:40.133905",
     "status": "completed"
    },
    "tags": []
   },
   "outputs": [],
   "source": [
    "train_data = pd.get_dummies(train_data, columns=['Sex', 'Embarked'])\n",
    "test_data = pd.get_dummies(test_data, columns=['Sex', 'Embarked'])"
   ]
  },
  {
   "cell_type": "code",
   "execution_count": 49,
   "id": "e9742171",
   "metadata": {
    "execution": {
     "iopub.execute_input": "2021-10-03T11:38:40.430652Z",
     "iopub.status.busy": "2021-10-03T11:38:40.429999Z",
     "iopub.status.idle": "2021-10-03T11:38:40.432918Z",
     "shell.execute_reply": "2021-10-03T11:38:40.433412Z",
     "shell.execute_reply.started": "2021-10-03T11:36:02.706400Z"
    },
    "papermill": {
     "duration": 0.105321,
     "end_time": "2021-10-03T11:38:40.433576",
     "exception": false,
     "start_time": "2021-10-03T11:38:40.328255",
     "status": "completed"
    },
    "tags": []
   },
   "outputs": [
    {
     "data": {
      "text/html": [
       "<div>\n",
       "<style scoped>\n",
       "    .dataframe tbody tr th:only-of-type {\n",
       "        vertical-align: middle;\n",
       "    }\n",
       "\n",
       "    .dataframe tbody tr th {\n",
       "        vertical-align: top;\n",
       "    }\n",
       "\n",
       "    .dataframe thead th {\n",
       "        text-align: right;\n",
       "    }\n",
       "</style>\n",
       "<table border=\"1\" class=\"dataframe\">\n",
       "  <thead>\n",
       "    <tr style=\"text-align: right;\">\n",
       "      <th></th>\n",
       "      <th>Survived</th>\n",
       "      <th>Pclass</th>\n",
       "      <th>Age</th>\n",
       "      <th>SibSp</th>\n",
       "      <th>Parch</th>\n",
       "      <th>Fare</th>\n",
       "      <th>Sex_female</th>\n",
       "      <th>Sex_male</th>\n",
       "      <th>Embarked_C</th>\n",
       "      <th>Embarked_Q</th>\n",
       "      <th>Embarked_S</th>\n",
       "    </tr>\n",
       "  </thead>\n",
       "  <tbody>\n",
       "    <tr>\n",
       "      <th>0</th>\n",
       "      <td>0</td>\n",
       "      <td>3</td>\n",
       "      <td>22.0</td>\n",
       "      <td>1</td>\n",
       "      <td>0</td>\n",
       "      <td>1.935438</td>\n",
       "      <td>0</td>\n",
       "      <td>1</td>\n",
       "      <td>0</td>\n",
       "      <td>0</td>\n",
       "      <td>1</td>\n",
       "    </tr>\n",
       "    <tr>\n",
       "      <th>1</th>\n",
       "      <td>1</td>\n",
       "      <td>1</td>\n",
       "      <td>38.0</td>\n",
       "      <td>1</td>\n",
       "      <td>0</td>\n",
       "      <td>4.146318</td>\n",
       "      <td>1</td>\n",
       "      <td>0</td>\n",
       "      <td>1</td>\n",
       "      <td>0</td>\n",
       "      <td>0</td>\n",
       "    </tr>\n",
       "    <tr>\n",
       "      <th>2</th>\n",
       "      <td>1</td>\n",
       "      <td>3</td>\n",
       "      <td>26.0</td>\n",
       "      <td>0</td>\n",
       "      <td>0</td>\n",
       "      <td>1.993730</td>\n",
       "      <td>1</td>\n",
       "      <td>0</td>\n",
       "      <td>0</td>\n",
       "      <td>0</td>\n",
       "      <td>1</td>\n",
       "    </tr>\n",
       "    <tr>\n",
       "      <th>3</th>\n",
       "      <td>1</td>\n",
       "      <td>1</td>\n",
       "      <td>35.0</td>\n",
       "      <td>1</td>\n",
       "      <td>0</td>\n",
       "      <td>3.758647</td>\n",
       "      <td>1</td>\n",
       "      <td>0</td>\n",
       "      <td>0</td>\n",
       "      <td>0</td>\n",
       "      <td>1</td>\n",
       "    </tr>\n",
       "    <tr>\n",
       "      <th>4</th>\n",
       "      <td>0</td>\n",
       "      <td>3</td>\n",
       "      <td>35.0</td>\n",
       "      <td>0</td>\n",
       "      <td>0</td>\n",
       "      <td>2.004158</td>\n",
       "      <td>0</td>\n",
       "      <td>1</td>\n",
       "      <td>0</td>\n",
       "      <td>0</td>\n",
       "      <td>1</td>\n",
       "    </tr>\n",
       "  </tbody>\n",
       "</table>\n",
       "</div>"
      ],
      "text/plain": [
       "   Survived  Pclass   Age  SibSp  Parch      Fare  Sex_female  Sex_male  \\\n",
       "0         0       3  22.0      1      0  1.935438           0         1   \n",
       "1         1       1  38.0      1      0  4.146318           1         0   \n",
       "2         1       3  26.0      0      0  1.993730           1         0   \n",
       "3         1       1  35.0      1      0  3.758647           1         0   \n",
       "4         0       3  35.0      0      0  2.004158           0         1   \n",
       "\n",
       "   Embarked_C  Embarked_Q  Embarked_S  \n",
       "0           0           0           1  \n",
       "1           1           0           0  \n",
       "2           0           0           1  \n",
       "3           0           0           1  \n",
       "4           0           0           1  "
      ]
     },
     "execution_count": 49,
     "metadata": {},
     "output_type": "execute_result"
    }
   ],
   "source": [
    "train_data.head()"
   ]
  },
  {
   "cell_type": "code",
   "execution_count": 50,
   "id": "0c862ced",
   "metadata": {
    "execution": {
     "iopub.execute_input": "2021-10-03T11:38:40.615483Z",
     "iopub.status.busy": "2021-10-03T11:38:40.614732Z",
     "iopub.status.idle": "2021-10-03T11:38:41.796412Z",
     "shell.execute_reply": "2021-10-03T11:38:41.795892Z",
     "shell.execute_reply.started": "2021-10-03T11:36:02.724254Z"
    },
    "papermill": {
     "duration": 1.274232,
     "end_time": "2021-10-03T11:38:41.796575",
     "exception": false,
     "start_time": "2021-10-03T11:38:40.522343",
     "status": "completed"
    },
    "tags": []
   },
   "outputs": [
    {
     "data": {
      "text/plain": [
       "<AxesSubplot:>"
      ]
     },
     "execution_count": 50,
     "metadata": {},
     "output_type": "execute_result"
    },
    {
     "data": {
      "image/png": "[encoded data removed]",
      "text/plain": [
       "<Figure size 1440x720 with 2 Axes>"
      ]
     },
     "metadata": {
      "needs_background": "light"
     },
     "output_type": "display_data"
    }
   ],
   "source": [
    "plt.figure(figsize=(20, 10))\n",
    "sns.heatmap(train_data.corr(), annot = True)"
   ]
  },
  {
   "cell_type": "code",
   "execution_count": 51,
   "id": "8cac551b",
   "metadata": {
    "execution": {
     "iopub.execute_input": "2021-10-03T11:38:41.988913Z",
     "iopub.status.busy": "2021-10-03T11:38:41.988236Z",
     "iopub.status.idle": "2021-10-03T11:38:41.992992Z",
     "shell.execute_reply": "2021-10-03T11:38:41.992422Z",
     "shell.execute_reply.started": "2021-10-03T11:36:03.919518Z"
    },
    "papermill": {
     "duration": 0.103777,
     "end_time": "2021-10-03T11:38:41.993157",
     "exception": false,
     "start_time": "2021-10-03T11:38:41.889380",
     "status": "completed"
    },
    "tags": []
   },
   "outputs": [],
   "source": [
    "train_data.drop(['Sex_male', 'Embarked_S'], axis = 1, inplace = True)\n",
    "test_data.drop(['Sex_male', 'Embarked_S'], axis = 1, inplace = True)"
   ]
  },
  {
   "cell_type": "markdown",
   "id": "58f5dd4f",
   "metadata": {
    "papermill": {
     "duration": 0.092637,
     "end_time": "2021-10-03T11:38:42.178968",
     "exception": false,
     "start_time": "2021-10-03T11:38:42.086331",
     "status": "completed"
    },
    "tags": []
   },
   "source": [
    "# Model Fitting"
   ]
  },
  {
   "cell_type": "code",
   "execution_count": 52,
   "id": "3467077d",
   "metadata": {
    "execution": {
     "iopub.execute_input": "2021-10-03T11:38:42.366278Z",
     "iopub.status.busy": "2021-10-03T11:38:42.365638Z",
     "iopub.status.idle": "2021-10-03T11:38:42.370551Z",
     "shell.execute_reply": "2021-10-03T11:38:42.371010Z",
     "shell.execute_reply.started": "2021-10-03T11:36:03.930735Z"
    },
    "papermill": {
     "duration": 0.100096,
     "end_time": "2021-10-03T11:38:42.371187",
     "exception": false,
     "start_time": "2021-10-03T11:38:42.271091",
     "status": "completed"
    },
    "tags": []
   },
   "outputs": [],
   "source": [
    "X = train_data.drop(['Survived'], axis = 1)\n",
    "y = train_data['Survived']"
   ]
  },
  {
   "cell_type": "code",
   "execution_count": 53,
   "id": "ff80bcb3",
   "metadata": {
    "execution": {
     "iopub.execute_input": "2021-10-03T11:38:42.559529Z",
     "iopub.status.busy": "2021-10-03T11:38:42.558565Z",
     "iopub.status.idle": "2021-10-03T11:38:42.877716Z",
     "shell.execute_reply": "2021-10-03T11:38:42.877165Z",
     "shell.execute_reply.started": "2021-10-03T11:36:03.943142Z"
    },
    "papermill": {
     "duration": 0.414589,
     "end_time": "2021-10-03T11:38:42.877885",
     "exception": false,
     "start_time": "2021-10-03T11:38:42.463296",
     "status": "completed"
    },
    "scrolled": true,
    "tags": []
   },
   "outputs": [],
   "source": [
    "from sklearn.linear_model import LogisticRegression\n",
    "from sklearn.svm import SVC\n",
    "from sklearn.naive_bayes import GaussianNB\n",
    "from sklearn.ensemble import RandomForestClassifier\n",
    "from sklearn.tree import DecisionTreeClassifier\n",
    "from sklearn.neighbors import KNeighborsClassifier\n",
    "from sklearn.model_selection import cross_val_score\n",
    "\n",
    "lr = LogisticRegression()\n",
    "svm = SVC()\n",
    "gnb = GaussianNB()\n",
    "rf = RandomForestClassifier()\n",
    "dt = DecisionTreeClassifier()\n",
    "knn = KNeighborsClassifier()\n",
    "\n",
    "def evulate_model(model, X, y):\n",
    "    cv = cross_val_score(model, X, y, cv = 5)\n",
    "    print(cv)\n",
    "    print(cv.mean())"
   ]
  },
  {
   "cell_type": "code",
   "execution_count": 54,
   "id": "ae702671",
   "metadata": {
    "execution": {
     "iopub.execute_input": "2021-10-03T11:38:43.067420Z",
     "iopub.status.busy": "2021-10-03T11:38:43.066694Z",
     "iopub.status.idle": "2021-10-03T11:38:44.676381Z",
     "shell.execute_reply": "2021-10-03T11:38:44.675691Z",
     "shell.execute_reply.started": "2021-10-03T11:36:04.326050Z"
    },
    "papermill": {
     "duration": 1.706385,
     "end_time": "2021-10-03T11:38:44.676520",
     "exception": false,
     "start_time": "2021-10-03T11:38:42.970135",
     "status": "completed"
    },
    "tags": []
   },
   "outputs": [
    {
     "name": "stdout",
     "output_type": "stream",
     "text": [
      "Logistic regression\n",
      "[0.78212291 0.78089888 0.7752809  0.76966292 0.82022472]\n",
      "0.785638064151654\n",
      "SVC\n",
      "[0.65363128 0.73595506 0.66292135 0.6741573  0.70224719]\n",
      "0.6857824367585211\n",
      "GaussianNB\n",
      "[0.64804469 0.74157303 0.76404494 0.80337079 0.78651685]\n",
      "0.7487100621429917\n",
      "Random forest classifier\n",
      "[0.7877095  0.80337079 0.83707865 0.78651685 0.8258427 ]\n",
      "0.8081036971941498\n",
      "Decision tree\n",
      "[0.75418994 0.75280899 0.7752809  0.75842697 0.82022472]\n",
      "0.7721863034335572\n",
      "KNN\n",
      "[0.74301676 0.75280899 0.75842697 0.81460674 0.78651685]\n",
      "0.7710752620676667\n"
     ]
    }
   ],
   "source": [
    "print(\"Logistic regression\")\n",
    "evulate_model(lr, X, y)\n",
    "\n",
    "print(\"SVC\")\n",
    "evulate_model(svm, X, y)\n",
    "\n",
    "print(\"GaussianNB\")\n",
    "evulate_model(gnb, X, y)\n",
    "\n",
    "print(\"Random forest classifier\")\n",
    "evulate_model(rf, X, y)\n",
    "\n",
    "print(\"Decision tree\")\n",
    "evulate_model(dt, X, y)\n",
    "\n",
    "print(\"KNN\")\n",
    "evulate_model(knn, X, y)"
   ]
  },
  {
   "cell_type": "code",
   "execution_count": 55,
   "id": "8a15e05a",
   "metadata": {
    "execution": {
     "iopub.execute_input": "2021-10-03T11:38:44.866681Z",
     "iopub.status.busy": "2021-10-03T11:38:44.866042Z",
     "iopub.status.idle": "2021-10-03T11:38:44.881106Z",
     "shell.execute_reply": "2021-10-03T11:38:44.881705Z",
     "shell.execute_reply.started": "2021-10-03T11:36:05.923192Z"
    },
    "papermill": {
     "duration": 0.111988,
     "end_time": "2021-10-03T11:38:44.881872",
     "exception": false,
     "start_time": "2021-10-03T11:38:44.769884",
     "status": "completed"
    },
    "tags": []
   },
   "outputs": [
    {
     "data": {
      "text/html": [
       "<div>\n",
       "<style scoped>\n",
       "    .dataframe tbody tr th:only-of-type {\n",
       "        vertical-align: middle;\n",
       "    }\n",
       "\n",
       "    .dataframe tbody tr th {\n",
       "        vertical-align: top;\n",
       "    }\n",
       "\n",
       "    .dataframe thead th {\n",
       "        text-align: right;\n",
       "    }\n",
       "</style>\n",
       "<table border=\"1\" class=\"dataframe\">\n",
       "  <thead>\n",
       "    <tr style=\"text-align: right;\">\n",
       "      <th></th>\n",
       "      <th>Survived</th>\n",
       "      <th>Pclass</th>\n",
       "      <th>Age</th>\n",
       "      <th>SibSp</th>\n",
       "      <th>Parch</th>\n",
       "      <th>Fare</th>\n",
       "      <th>Sex_female</th>\n",
       "      <th>Embarked_C</th>\n",
       "      <th>Embarked_Q</th>\n",
       "    </tr>\n",
       "  </thead>\n",
       "  <tbody>\n",
       "    <tr>\n",
       "      <th>0</th>\n",
       "      <td>0</td>\n",
       "      <td>3</td>\n",
       "      <td>22.000000</td>\n",
       "      <td>1</td>\n",
       "      <td>0</td>\n",
       "      <td>1.935438</td>\n",
       "      <td>0</td>\n",
       "      <td>0</td>\n",
       "      <td>0</td>\n",
       "    </tr>\n",
       "    <tr>\n",
       "      <th>1</th>\n",
       "      <td>1</td>\n",
       "      <td>1</td>\n",
       "      <td>38.000000</td>\n",
       "      <td>1</td>\n",
       "      <td>0</td>\n",
       "      <td>4.146318</td>\n",
       "      <td>1</td>\n",
       "      <td>1</td>\n",
       "      <td>0</td>\n",
       "    </tr>\n",
       "    <tr>\n",
       "      <th>2</th>\n",
       "      <td>1</td>\n",
       "      <td>3</td>\n",
       "      <td>26.000000</td>\n",
       "      <td>0</td>\n",
       "      <td>0</td>\n",
       "      <td>1.993730</td>\n",
       "      <td>1</td>\n",
       "      <td>0</td>\n",
       "      <td>0</td>\n",
       "    </tr>\n",
       "    <tr>\n",
       "      <th>3</th>\n",
       "      <td>1</td>\n",
       "      <td>1</td>\n",
       "      <td>35.000000</td>\n",
       "      <td>1</td>\n",
       "      <td>0</td>\n",
       "      <td>3.758647</td>\n",
       "      <td>1</td>\n",
       "      <td>0</td>\n",
       "      <td>0</td>\n",
       "    </tr>\n",
       "    <tr>\n",
       "      <th>4</th>\n",
       "      <td>0</td>\n",
       "      <td>3</td>\n",
       "      <td>35.000000</td>\n",
       "      <td>0</td>\n",
       "      <td>0</td>\n",
       "      <td>2.004158</td>\n",
       "      <td>0</td>\n",
       "      <td>0</td>\n",
       "      <td>0</td>\n",
       "    </tr>\n",
       "    <tr>\n",
       "      <th>...</th>\n",
       "      <td>...</td>\n",
       "      <td>...</td>\n",
       "      <td>...</td>\n",
       "      <td>...</td>\n",
       "      <td>...</td>\n",
       "      <td>...</td>\n",
       "      <td>...</td>\n",
       "      <td>...</td>\n",
       "      <td>...</td>\n",
       "    </tr>\n",
       "    <tr>\n",
       "      <th>886</th>\n",
       "      <td>0</td>\n",
       "      <td>2</td>\n",
       "      <td>27.000000</td>\n",
       "      <td>0</td>\n",
       "      <td>0</td>\n",
       "      <td>2.351335</td>\n",
       "      <td>0</td>\n",
       "      <td>0</td>\n",
       "      <td>0</td>\n",
       "    </tr>\n",
       "    <tr>\n",
       "      <th>887</th>\n",
       "      <td>1</td>\n",
       "      <td>1</td>\n",
       "      <td>19.000000</td>\n",
       "      <td>0</td>\n",
       "      <td>0</td>\n",
       "      <td>3.107233</td>\n",
       "      <td>1</td>\n",
       "      <td>0</td>\n",
       "      <td>0</td>\n",
       "    </tr>\n",
       "    <tr>\n",
       "      <th>888</th>\n",
       "      <td>0</td>\n",
       "      <td>3</td>\n",
       "      <td>29.699118</td>\n",
       "      <td>1</td>\n",
       "      <td>2</td>\n",
       "      <td>2.862294</td>\n",
       "      <td>1</td>\n",
       "      <td>0</td>\n",
       "      <td>0</td>\n",
       "    </tr>\n",
       "    <tr>\n",
       "      <th>889</th>\n",
       "      <td>1</td>\n",
       "      <td>1</td>\n",
       "      <td>26.000000</td>\n",
       "      <td>0</td>\n",
       "      <td>0</td>\n",
       "      <td>3.107233</td>\n",
       "      <td>0</td>\n",
       "      <td>1</td>\n",
       "      <td>0</td>\n",
       "    </tr>\n",
       "    <tr>\n",
       "      <th>890</th>\n",
       "      <td>0</td>\n",
       "      <td>3</td>\n",
       "      <td>32.000000</td>\n",
       "      <td>0</td>\n",
       "      <td>0</td>\n",
       "      <td>1.978946</td>\n",
       "      <td>0</td>\n",
       "      <td>0</td>\n",
       "      <td>1</td>\n",
       "    </tr>\n",
       "  </tbody>\n",
       "</table>\n",
       "<p>891 rows × 9 columns</p>\n",
       "</div>"
      ],
      "text/plain": [
       "     Survived  Pclass        Age  SibSp  Parch      Fare  Sex_female  \\\n",
       "0           0       3  22.000000      1      0  1.935438           0   \n",
       "1           1       1  38.000000      1      0  4.146318           1   \n",
       "2           1       3  26.000000      0      0  1.993730           1   \n",
       "3           1       1  35.000000      1      0  3.758647           1   \n",
       "4           0       3  35.000000      0      0  2.004158           0   \n",
       "..        ...     ...        ...    ...    ...       ...         ...   \n",
       "886         0       2  27.000000      0      0  2.351335           0   \n",
       "887         1       1  19.000000      0      0  3.107233           1   \n",
       "888         0       3  29.699118      1      2  2.862294           1   \n",
       "889         1       1  26.000000      0      0  3.107233           0   \n",
       "890         0       3  32.000000      0      0  1.978946           0   \n",
       "\n",
       "     Embarked_C  Embarked_Q  \n",
       "0             0           0  \n",
       "1             1           0  \n",
       "2             0           0  \n",
       "3             0           0  \n",
       "4             0           0  \n",
       "..          ...         ...  \n",
       "886           0           0  \n",
       "887           0           0  \n",
       "888           0           0  \n",
       "889           1           0  \n",
       "890           0           1  \n",
       "\n",
       "[891 rows x 9 columns]"
      ]
     },
     "execution_count": 55,
     "metadata": {},
     "output_type": "execute_result"
    }
   ],
   "source": [
    "train_data"
   ]
  },
  {
   "cell_type": "code",
   "execution_count": 56,
   "id": "5a549020",
   "metadata": {
    "execution": {
     "iopub.execute_input": "2021-10-03T11:38:45.075756Z",
     "iopub.status.busy": "2021-10-03T11:38:45.075085Z",
     "iopub.status.idle": "2021-10-03T11:38:45.090443Z",
     "shell.execute_reply": "2021-10-03T11:38:45.090892Z",
     "shell.execute_reply.started": "2021-10-03T11:36:05.941931Z"
    },
    "papermill": {
     "duration": 0.114466,
     "end_time": "2021-10-03T11:38:45.091059",
     "exception": false,
     "start_time": "2021-10-03T11:38:44.976593",
     "status": "completed"
    },
    "tags": []
   },
   "outputs": [
    {
     "data": {
      "text/html": [
       "<div>\n",
       "<style scoped>\n",
       "    .dataframe tbody tr th:only-of-type {\n",
       "        vertical-align: middle;\n",
       "    }\n",
       "\n",
       "    .dataframe tbody tr th {\n",
       "        vertical-align: top;\n",
       "    }\n",
       "\n",
       "    .dataframe thead th {\n",
       "        text-align: right;\n",
       "    }\n",
       "</style>\n",
       "<table border=\"1\" class=\"dataframe\">\n",
       "  <thead>\n",
       "    <tr style=\"text-align: right;\">\n",
       "      <th></th>\n",
       "      <th>Pclass</th>\n",
       "      <th>Age</th>\n",
       "      <th>SibSp</th>\n",
       "      <th>Parch</th>\n",
       "      <th>Fare</th>\n",
       "      <th>Sex_female</th>\n",
       "      <th>Embarked_C</th>\n",
       "      <th>Embarked_Q</th>\n",
       "    </tr>\n",
       "  </thead>\n",
       "  <tbody>\n",
       "    <tr>\n",
       "      <th>0</th>\n",
       "      <td>3</td>\n",
       "      <td>34.50000</td>\n",
       "      <td>0</td>\n",
       "      <td>0</td>\n",
       "      <td>1.985664</td>\n",
       "      <td>0</td>\n",
       "      <td>0</td>\n",
       "      <td>1</td>\n",
       "    </tr>\n",
       "    <tr>\n",
       "      <th>1</th>\n",
       "      <td>3</td>\n",
       "      <td>47.00000</td>\n",
       "      <td>1</td>\n",
       "      <td>0</td>\n",
       "      <td>1.912931</td>\n",
       "      <td>1</td>\n",
       "      <td>0</td>\n",
       "      <td>0</td>\n",
       "    </tr>\n",
       "    <tr>\n",
       "      <th>2</th>\n",
       "      <td>2</td>\n",
       "      <td>62.00000</td>\n",
       "      <td>0</td>\n",
       "      <td>0</td>\n",
       "      <td>2.131755</td>\n",
       "      <td>0</td>\n",
       "      <td>0</td>\n",
       "      <td>1</td>\n",
       "    </tr>\n",
       "    <tr>\n",
       "      <th>3</th>\n",
       "      <td>3</td>\n",
       "      <td>27.00000</td>\n",
       "      <td>0</td>\n",
       "      <td>0</td>\n",
       "      <td>2.053751</td>\n",
       "      <td>0</td>\n",
       "      <td>0</td>\n",
       "      <td>0</td>\n",
       "    </tr>\n",
       "    <tr>\n",
       "      <th>4</th>\n",
       "      <td>3</td>\n",
       "      <td>22.00000</td>\n",
       "      <td>1</td>\n",
       "      <td>1</td>\n",
       "      <td>2.307568</td>\n",
       "      <td>1</td>\n",
       "      <td>0</td>\n",
       "      <td>0</td>\n",
       "    </tr>\n",
       "    <tr>\n",
       "      <th>...</th>\n",
       "      <td>...</td>\n",
       "      <td>...</td>\n",
       "      <td>...</td>\n",
       "      <td>...</td>\n",
       "      <td>...</td>\n",
       "      <td>...</td>\n",
       "      <td>...</td>\n",
       "      <td>...</td>\n",
       "    </tr>\n",
       "    <tr>\n",
       "      <th>413</th>\n",
       "      <td>3</td>\n",
       "      <td>30.27259</td>\n",
       "      <td>0</td>\n",
       "      <td>0</td>\n",
       "      <td>2.004158</td>\n",
       "      <td>0</td>\n",
       "      <td>0</td>\n",
       "      <td>0</td>\n",
       "    </tr>\n",
       "    <tr>\n",
       "      <th>414</th>\n",
       "      <td>1</td>\n",
       "      <td>39.00000</td>\n",
       "      <td>0</td>\n",
       "      <td>0</td>\n",
       "      <td>4.775395</td>\n",
       "      <td>1</td>\n",
       "      <td>1</td>\n",
       "      <td>0</td>\n",
       "    </tr>\n",
       "    <tr>\n",
       "      <th>415</th>\n",
       "      <td>3</td>\n",
       "      <td>38.50000</td>\n",
       "      <td>0</td>\n",
       "      <td>0</td>\n",
       "      <td>1.935438</td>\n",
       "      <td>0</td>\n",
       "      <td>0</td>\n",
       "      <td>0</td>\n",
       "    </tr>\n",
       "    <tr>\n",
       "      <th>416</th>\n",
       "      <td>3</td>\n",
       "      <td>30.27259</td>\n",
       "      <td>0</td>\n",
       "      <td>0</td>\n",
       "      <td>2.004158</td>\n",
       "      <td>0</td>\n",
       "      <td>0</td>\n",
       "      <td>0</td>\n",
       "    </tr>\n",
       "    <tr>\n",
       "      <th>417</th>\n",
       "      <td>3</td>\n",
       "      <td>30.27259</td>\n",
       "      <td>1</td>\n",
       "      <td>1</td>\n",
       "      <td>2.817169</td>\n",
       "      <td>0</td>\n",
       "      <td>1</td>\n",
       "      <td>0</td>\n",
       "    </tr>\n",
       "  </tbody>\n",
       "</table>\n",
       "<p>418 rows × 8 columns</p>\n",
       "</div>"
      ],
      "text/plain": [
       "     Pclass       Age  SibSp  Parch      Fare  Sex_female  Embarked_C  \\\n",
       "0         3  34.50000      0      0  1.985664           0           0   \n",
       "1         3  47.00000      1      0  1.912931           1           0   \n",
       "2         2  62.00000      0      0  2.131755           0           0   \n",
       "3         3  27.00000      0      0  2.053751           0           0   \n",
       "4         3  22.00000      1      1  2.307568           1           0   \n",
       "..      ...       ...    ...    ...       ...         ...         ...   \n",
       "413       3  30.27259      0      0  2.004158           0           0   \n",
       "414       1  39.00000      0      0  4.775395           1           1   \n",
       "415       3  38.50000      0      0  1.935438           0           0   \n",
       "416       3  30.27259      0      0  2.004158           0           0   \n",
       "417       3  30.27259      1      1  2.817169           0           1   \n",
       "\n",
       "     Embarked_Q  \n",
       "0             1  \n",
       "1             0  \n",
       "2             1  \n",
       "3             0  \n",
       "4             0  \n",
       "..          ...  \n",
       "413           0  \n",
       "414           0  \n",
       "415           0  \n",
       "416           0  \n",
       "417           0  \n",
       "\n",
       "[418 rows x 8 columns]"
      ]
     },
     "execution_count": 56,
     "metadata": {},
     "output_type": "execute_result"
    }
   ],
   "source": [
    "test_data"
   ]
  },
  {
   "cell_type": "code",
   "execution_count": 57,
   "id": "ebe69be5",
   "metadata": {
    "execution": {
     "iopub.execute_input": "2021-10-03T11:38:45.287530Z",
     "iopub.status.busy": "2021-10-03T11:38:45.286880Z",
     "iopub.status.idle": "2021-10-03T11:38:45.523581Z",
     "shell.execute_reply": "2021-10-03T11:38:45.524108Z",
     "shell.execute_reply.started": "2021-10-03T11:36:05.966583Z"
    },
    "papermill": {
     "duration": 0.337864,
     "end_time": "2021-10-03T11:38:45.524288",
     "exception": false,
     "start_time": "2021-10-03T11:38:45.186424",
     "status": "completed"
    },
    "tags": []
   },
   "outputs": [
    {
     "data": {
      "text/plain": [
       "RandomForestClassifier()"
      ]
     },
     "execution_count": 57,
     "metadata": {},
     "output_type": "execute_result"
    }
   ],
   "source": [
    "rf.fit(X, y)"
   ]
  },
  {
   "cell_type": "code",
   "execution_count": 58,
   "id": "1693c086",
   "metadata": {
    "execution": {
     "iopub.execute_input": "2021-10-03T11:38:45.723411Z",
     "iopub.status.busy": "2021-10-03T11:38:45.721878Z",
     "iopub.status.idle": "2021-10-03T11:39:48.455616Z",
     "shell.execute_reply": "2021-10-03T11:39:48.456074Z",
     "shell.execute_reply.started": "2021-10-03T11:36:06.210050Z"
    },
    "papermill": {
     "duration": 62.836205,
     "end_time": "2021-10-03T11:39:48.456290",
     "exception": false,
     "start_time": "2021-10-03T11:38:45.620085",
     "status": "completed"
    },
    "tags": []
   },
   "outputs": [
    {
     "name": "stdout",
     "output_type": "stream",
     "text": [
      "Fitting 3 folds for each of 192 candidates, totalling 576 fits\n",
      "[CV] END bootstrap=True, max_depth=3, max_features=auto, n_estimators=10; total time=   0.0s\n",
      "[CV] END bootstrap=True, max_depth=3, max_features=auto, n_estimators=40; total time=   0.1s\n",
      "[CV] END bootstrap=True, max_depth=3, max_features=auto, n_estimators=50; total time=   0.1s\n",
      "[CV] END bootstrap=True, max_depth=3, max_features=auto, n_estimators=100; total time=   0.4s\n",
      "[CV] END bootstrap=True, max_depth=3, max_features=auto, n_estimators=200; total time=   0.4s\n",
      "[CV] END bootstrap=True, max_depth=3, max_features=sqrt, n_estimators=10; total time=   0.0s\n",
      "[CV] END bootstrap=True, max_depth=3, max_features=sqrt, n_estimators=10; total time=   0.0s\n",
      "[CV] END bootstrap=True, max_depth=3, max_features=sqrt, n_estimators=10; total time=   0.0s\n",
      "[CV] END bootstrap=True, max_depth=3, max_features=sqrt, n_estimators=20; total time=   0.0s\n",
      "[CV] END bootstrap=True, max_depth=3, max_features=sqrt, n_estimators=20; total time=   0.0s\n",
      "[CV] END bootstrap=True, max_depth=3, max_features=sqrt, n_estimators=20; total time=   0.0s\n",
      "[CV] END bootstrap=True, max_depth=3, max_features=sqrt, n_estimators=40; total time=   0.1s\n",
      "[CV] END bootstrap=True, max_depth=3, max_features=sqrt, n_estimators=40; total time=   0.1s\n",
      "[CV] END bootstrap=True, max_depth=3, max_features=sqrt, n_estimators=40; total time=   0.1s\n",
      "[CV] END bootstrap=True, max_depth=3, max_features=sqrt, n_estimators=50; total time=   0.1s\n",
      "[CV] END bootstrap=True, max_depth=3, max_features=sqrt, n_estimators=100; total time=   0.2s\n",
      "[CV] END bootstrap=True, max_depth=3, max_features=sqrt, n_estimators=150; total time=   0.2s\n",
      "[CV] END bootstrap=True, max_depth=3, max_features=sqrt, n_estimators=200; total time=   0.3s\n",
      "[CV] END bootstrap=True, max_depth=5, max_features=auto, n_estimators=10; total time=   0.0s\n",
      "[CV] END bootstrap=True, max_depth=5, max_features=auto, n_estimators=10; total time=   0.0s\n",
      "[CV] END bootstrap=True, max_depth=5, max_features=auto, n_estimators=10; total time=   0.0s\n",
      "[CV] END bootstrap=True, max_depth=5, max_features=auto, n_estimators=20; total time=   0.0s\n",
      "[CV] END bootstrap=True, max_depth=5, max_features=auto, n_estimators=20; total time=   0.0s\n",
      "[CV] END bootstrap=True, max_depth=5, max_features=auto, n_estimators=20; total time=   0.0s\n",
      "[CV] END bootstrap=True, max_depth=5, max_features=auto, n_estimators=40; total time=   0.1s\n",
      "[CV] END bootstrap=True, max_depth=5, max_features=auto, n_estimators=40; total time=   0.1s\n",
      "[CV] END bootstrap=True, max_depth=5, max_features=auto, n_estimators=40; total time=   0.1s\n",
      "[CV] END bootstrap=True, max_depth=5, max_features=auto, n_estimators=50; total time=   0.1s\n",
      "[CV] END bootstrap=True, max_depth=5, max_features=auto, n_estimators=50; total time=   0.1s\n",
      "[CV] END bootstrap=True, max_depth=5, max_features=auto, n_estimators=100; total time=   0.1s\n",
      "[CV] END bootstrap=True, max_depth=5, max_features=auto, n_estimators=150; total time=   0.2s\n",
      "[CV] END bootstrap=True, max_depth=5, max_features=auto, n_estimators=200; total time=   0.3s\n",
      "[CV] END bootstrap=True, max_depth=5, max_features=sqrt, n_estimators=10; total time=   0.0s\n",
      "[CV] END bootstrap=True, max_depth=5, max_features=sqrt, n_estimators=10; total time=   0.0s\n",
      "[CV] END bootstrap=True, max_depth=5, max_features=sqrt, n_estimators=10; total time=   0.0s\n",
      "[CV] END bootstrap=True, max_depth=5, max_features=sqrt, n_estimators=20; total time=   0.0s\n",
      "[CV] END bootstrap=True, max_depth=5, max_features=sqrt, n_estimators=20; total time=   0.0s\n",
      "[CV] END bootstrap=True, max_depth=5, max_features=sqrt, n_estimators=20; total time=   0.0s\n",
      "[CV] END bootstrap=True, max_depth=5, max_features=sqrt, n_estimators=40; total time=   0.1s\n",
      "[CV] END bootstrap=True, max_depth=5, max_features=sqrt, n_estimators=40; total time=   0.1s\n",
      "[CV] END bootstrap=True, max_depth=5, max_features=sqrt, n_estimators=40; total time=   0.1s\n",
      "[CV] END bootstrap=True, max_depth=5, max_features=sqrt, n_estimators=50; total time=   0.1s\n",
      "[CV] END bootstrap=True, max_depth=5, max_features=sqrt, n_estimators=50; total time=   0.1s\n",
      "[CV] END bootstrap=True, max_depth=5, max_features=sqrt, n_estimators=50; total time=   0.1s\n",
      "[CV] END bootstrap=True, max_depth=5, max_features=sqrt, n_estimators=100; total time=   0.1s\n",
      "[CV] END bootstrap=True, max_depth=5, max_features=sqrt, n_estimators=150; total time=   0.2s\n",
      "[CV] END bootstrap=True, max_depth=5, max_features=sqrt, n_estimators=200; total time=   0.3s\n",
      "[CV] END bootstrap=True, max_depth=7, max_features=auto, n_estimators=10; total time=   0.0s\n",
      "[CV] END bootstrap=True, max_depth=7, max_features=auto, n_estimators=10; total time=   0.0s\n",
      "[CV] END bootstrap=True, max_depth=7, max_features=auto, n_estimators=10; total time=   0.0s\n",
      "[CV] END bootstrap=True, max_depth=7, max_features=auto, n_estimators=20; total time=   0.0s\n",
      "[CV] END bootstrap=True, max_depth=7, max_features=auto, n_estimators=20; total time=   0.0s\n",
      "[CV] END bootstrap=True, max_depth=7, max_features=auto, n_estimators=20; total time=   0.0s\n",
      "[CV] END bootstrap=True, max_depth=7, max_features=auto, n_estimators=40; total time=   0.1s\n",
      "[CV] END bootstrap=True, max_depth=7, max_features=auto, n_estimators=40; total time=   0.1s\n",
      "[CV] END bootstrap=True, max_depth=7, max_features=auto, n_estimators=40; total time=   0.1s\n",
      "[CV] END bootstrap=True, max_depth=7, max_features=auto, n_estimators=50; total time=   0.1s\n",
      "[CV] END bootstrap=True, max_depth=7, max_features=auto, n_estimators=50; total time=   0.1s\n",
      "[CV] END bootstrap=True, max_depth=7, max_features=auto, n_estimators=100; total time=   0.1s\n",
      "[CV] END bootstrap=True, max_depth=7, max_features=auto, n_estimators=150; total time=   0.2s\n",
      "[CV] END bootstrap=True, max_depth=7, max_features=auto, n_estimators=200; total time=   0.3s\n",
      "[CV] END bootstrap=True, max_depth=7, max_features=auto, n_estimators=500; total time=   0.7s\n",
      "[CV] END bootstrap=True, max_depth=7, max_features=sqrt, n_estimators=150; total time=   0.2s\n",
      "[CV] END bootstrap=True, max_depth=7, max_features=sqrt, n_estimators=200; total time=   0.4s\n",
      "[CV] END bootstrap=True, max_depth=9, max_features=auto, n_estimators=10; total time=   0.0s\n",
      "[CV] END bootstrap=True, max_depth=9, max_features=auto, n_estimators=10; total time=   0.0s\n",
      "[CV] END bootstrap=True, max_depth=9, max_features=auto, n_estimators=10; total time=   0.0s\n",
      "[CV] END bootstrap=True, max_depth=9, max_features=auto, n_estimators=20; total time=   0.0s\n",
      "[CV] END bootstrap=True, max_depth=9, max_features=auto, n_estimators=20; total time=   0.0s\n",
      "[CV] END bootstrap=True, max_depth=9, max_features=auto, n_estimators=20; total time=   0.0s\n",
      "[CV] END bootstrap=True, max_depth=9, max_features=auto, n_estimators=40; total time=   0.1s\n",
      "[CV] END bootstrap=True, max_depth=9, max_features=auto, n_estimators=40; total time=   0.1s\n",
      "[CV] END bootstrap=True, max_depth=9, max_features=auto, n_estimators=40; total time=   0.1s\n",
      "[CV] END bootstrap=True, max_depth=9, max_features=auto, n_estimators=50; total time=   0.1s\n",
      "[CV] END bootstrap=True, max_depth=9, max_features=auto, n_estimators=100; total time=   0.1s\n",
      "[CV] END bootstrap=True, max_depth=9, max_features=auto, n_estimators=150; total time=   0.3s\n",
      "[CV] END bootstrap=True, max_depth=9, max_features=auto, n_estimators=200; total time=   0.4s\n",
      "[CV] END bootstrap=True, max_depth=9, max_features=sqrt, n_estimators=10; total time=   0.0s\n",
      "[CV] END bootstrap=True, max_depth=9, max_features=sqrt, n_estimators=10; total time=   0.0s\n",
      "[CV] END bootstrap=True, max_depth=9, max_features=sqrt, n_estimators=10; total time=   0.0s\n",
      "[CV] END bootstrap=True, max_depth=9, max_features=sqrt, n_estimators=20; total time=   0.0s\n",
      "[CV] END bootstrap=True, max_depth=9, max_features=sqrt, n_estimators=20; total time=   0.1s\n",
      "[CV] END bootstrap=True, max_depth=9, max_features=sqrt, n_estimators=20; total time=   0.0s\n",
      "[CV] END bootstrap=True, max_depth=9, max_features=sqrt, n_estimators=40; total time=   0.1s\n",
      "[CV] END bootstrap=True, max_depth=9, max_features=sqrt, n_estimators=40; total time=   0.1s\n",
      "[CV] END bootstrap=True, max_depth=9, max_features=sqrt, n_estimators=40; total time=   0.1s\n",
      "[CV] END bootstrap=True, max_depth=9, max_features=sqrt, n_estimators=50; total time=   0.1s\n",
      "[CV] END bootstrap=True, max_depth=3, max_features=auto, n_estimators=10; total time=   0.0s\n",
      "[CV] END bootstrap=True, max_depth=3, max_features=auto, n_estimators=50; total time=   0.1s\n",
      "[CV] END bootstrap=True, max_depth=3, max_features=auto, n_estimators=100; total time=   0.2s\n",
      "[CV] END bootstrap=True, max_depth=3, max_features=auto, n_estimators=150; total time=   0.3s\n",
      "[CV] END bootstrap=True, max_depth=3, max_features=auto, n_estimators=200; total time=   0.3s\n",
      "[CV] END bootstrap=True, max_depth=3, max_features=auto, n_estimators=500; total time=   0.9s\n",
      "[CV] END bootstrap=True, max_depth=3, max_features=sqrt, n_estimators=200; total time=   0.3s\n",
      "[CV] END bootstrap=True, max_depth=3, max_features=sqrt, n_estimators=500; total time=   0.7s\n",
      "[CV] END bootstrap=True, max_depth=5, max_features=auto, n_estimators=50; total time=   0.1s\n",
      "[CV] END bootstrap=True, max_depth=5, max_features=auto, n_estimators=100; total time=   0.2s\n",
      "[CV] END bootstrap=True, max_depth=5, max_features=auto, n_estimators=150; total time=   0.2s\n",
      "[CV] END bootstrap=True, max_depth=5, max_features=auto, n_estimators=500; total time=   1.0s\n",
      "[CV] END bootstrap=True, max_depth=5, max_features=sqrt, n_estimators=100; total time=   0.2s\n",
      "[CV] END bootstrap=True, max_depth=5, max_features=sqrt, n_estimators=200; total time=   0.4s\n",
      "[CV] END bootstrap=True, max_depth=5, max_features=sqrt, n_estimators=500; total time=   0.8s\n",
      "[CV] END bootstrap=True, max_depth=7, max_features=auto, n_estimators=150; total time=   0.2s\n",
      "[CV] END bootstrap=True, max_depth=7, max_features=auto, n_estimators=200; total time=   0.3s\n",
      "[CV] END bootstrap=True, max_depth=7, max_features=sqrt, n_estimators=10; total time=   0.0s\n",
      "[CV] END bootstrap=True, max_depth=7, max_features=sqrt, n_estimators=10; total time=   0.0s\n",
      "[CV] END bootstrap=True, max_depth=7, max_features=sqrt, n_estimators=10; total time=   0.0s\n",
      "[CV] END bootstrap=True, max_depth=7, max_features=sqrt, n_estimators=20; total time=   0.0s\n",
      "[CV] END bootstrap=True, max_depth=7, max_features=sqrt, n_estimators=20; total time=   0.0s\n",
      "[CV] END bootstrap=True, max_depth=7, max_features=sqrt, n_estimators=20; total time=   0.0s\n",
      "[CV] END bootstrap=True, max_depth=7, max_features=sqrt, n_estimators=40; total time=   0.1s\n",
      "[CV] END bootstrap=True, max_depth=7, max_features=sqrt, n_estimators=40; total time=   0.1s\n",
      "[CV] END bootstrap=True, max_depth=7, max_features=sqrt, n_estimators=40; total time=   0.1s\n",
      "[CV] END bootstrap=True, max_depth=7, max_features=sqrt, n_estimators=50; total time=   0.1s\n",
      "[CV] END bootstrap=True, max_depth=7, max_features=sqrt, n_estimators=50; total time=   0.1s\n",
      "[CV] END bootstrap=True, max_depth=7, max_features=sqrt, n_estimators=100; total time=   0.2s\n",
      "[CV] END bootstrap=True, max_depth=7, max_features=sqrt, n_estimators=150; total time=   0.2s\n",
      "[CV] END bootstrap=True, max_depth=7, max_features=sqrt, n_estimators=200; total time=   0.3s\n",
      "[CV] END bootstrap=True, max_depth=7, max_features=sqrt, n_estimators=500; total time=   0.8s\n",
      "[CV] END bootstrap=True, max_depth=9, max_features=auto, n_estimators=150; total time=   0.2s\n",
      "[CV] END bootstrap=True, max_depth=9, max_features=auto, n_estimators=200; total time=   0.3s\n",
      "[CV] END bootstrap=True, max_depth=9, max_features=auto, n_estimators=500; total time=   1.0s\n",
      "[CV] END bootstrap=True, max_depth=9, max_features=sqrt, n_estimators=100; total time=   0.2s\n",
      "[CV] END bootstrap=True, max_depth=9, max_features=sqrt, n_estimators=150; total time=   0.3s\n",
      "[CV] END bootstrap=True, max_depth=9, max_features=sqrt, n_estimators=500; total time=   1.0s\n",
      "[CV] END bootstrap=True, max_depth=11, max_features=auto, n_estimators=50; total time=   0.1s\n",
      "[CV] END bootstrap=True, max_depth=11, max_features=auto, n_estimators=100; total time=   0.2s\n",
      "[CV] END bootstrap=True, max_depth=11, max_features=auto, n_estimators=150; total time=   0.3s\n",
      "[CV] END bootstrap=True, max_depth=11, max_features=auto, n_estimators=500; total time=   0.9s\n",
      "[CV] END bootstrap=True, max_depth=11, max_features=sqrt, n_estimators=50; total time=   0.1s\n",
      "[CV] END bootstrap=True, max_depth=11, max_features=sqrt, n_estimators=100; total time=   0.2s\n",
      "[CV] END bootstrap=True, max_depth=11, max_features=sqrt, n_estimators=150; total time=   0.2s\n",
      "[CV] END bootstrap=True, max_depth=11, max_features=sqrt, n_estimators=200; total time=   0.4s\n",
      "[CV] END bootstrap=True, max_depth=15, max_features=auto, n_estimators=10; total time=   0.0s\n",
      "[CV] END bootstrap=True, max_depth=15, max_features=auto, n_estimators=10; total time=   0.0s\n",
      "[CV] END bootstrap=True, max_depth=15, max_features=auto, n_estimators=10; total time=   0.0s\n",
      "[CV] END bootstrap=True, max_depth=15, max_features=auto, n_estimators=20; total time=   0.1s\n",
      "[CV] END bootstrap=True, max_depth=15, max_features=auto, n_estimators=20; total time=   0.0s\n",
      "[CV] END bootstrap=True, max_depth=15, max_features=auto, n_estimators=20; total time=   0.0s\n",
      "[CV] END bootstrap=True, max_depth=15, max_features=auto, n_estimators=40; total time=   0.1s\n",
      "[CV] END bootstrap=True, max_depth=15, max_features=auto, n_estimators=40; total time=   0.1s\n",
      "[CV] END bootstrap=True, max_depth=15, max_features=auto, n_estimators=40; total time=   0.1s\n",
      "[CV] END bootstrap=True, max_depth=15, max_features=auto, n_estimators=50; total time=   0.1s\n",
      "[CV] END bootstrap=True, max_depth=15, max_features=auto, n_estimators=100; total time=   0.2s\n",
      "[CV] END bootstrap=True, max_depth=15, max_features=auto, n_estimators=150; total time=   0.3s\n",
      "[CV] END bootstrap=True, max_depth=15, max_features=auto, n_estimators=200; total time=   0.3s\n",
      "[CV] END bootstrap=True, max_depth=15, max_features=sqrt, n_estimators=10; total time=   0.0s\n",
      "[CV] END bootstrap=True, max_depth=15, max_features=sqrt, n_estimators=10; total time=   0.0s\n",
      "[CV] END bootstrap=True, max_depth=15, max_features=sqrt, n_estimators=10; total time=   0.0s\n",
      "[CV] END bootstrap=True, max_depth=15, max_features=sqrt, n_estimators=20; total time=   0.0s\n",
      "[CV] END bootstrap=True, max_depth=15, max_features=sqrt, n_estimators=20; total time=   0.0s\n",
      "[CV] END bootstrap=True, max_depth=15, max_features=sqrt, n_estimators=20; total time=   0.0s\n",
      "[CV] END bootstrap=True, max_depth=15, max_features=sqrt, n_estimators=40; total time=   0.1s\n",
      "[CV] END bootstrap=True, max_depth=15, max_features=sqrt, n_estimators=40; total time=   0.1s\n",
      "[CV] END bootstrap=True, max_depth=15, max_features=sqrt, n_estimators=40; total time=   0.1s\n",
      "[CV] END bootstrap=True, max_depth=15, max_features=sqrt, n_estimators=50; total time=   0.1s\n",
      "[CV] END bootstrap=True, max_depth=15, max_features=sqrt, n_estimators=50; total time=   0.1s\n",
      "[CV] END bootstrap=True, max_depth=15, max_features=sqrt, n_estimators=100; total time=   0.2s\n",
      "[CV] END bootstrap=True, max_depth=15, max_features=sqrt, n_estimators=100; total time=   0.2s\n",
      "[CV] END bootstrap=True, max_depth=15, max_features=sqrt, n_estimators=150; total time=   0.2s\n",
      "[CV] END bootstrap=True, max_depth=15, max_features=sqrt, n_estimators=200; total time=   0.3s\n",
      "[CV] END bootstrap=True, max_depth=15, max_features=sqrt, n_estimators=500; total time=   0.8s\n",
      "[CV] END bootstrap=False, max_depth=3, max_features=auto, n_estimators=200; total time=   0.5s\n",
      "[CV] END bootstrap=False, max_depth=3, max_features=auto, n_estimators=500; total time=   0.8s\n",
      "[CV] END bootstrap=False, max_depth=3, max_features=sqrt, n_estimators=200; total time=   0.2s\n",
      "[CV] END bootstrap=False, max_depth=5, max_features=auto, n_estimators=10; total time=   0.0s\n",
      "[CV] END bootstrap=False, max_depth=5, max_features=auto, n_estimators=10; total time=   0.0s\n",
      "[CV] END bootstrap=False, max_depth=5, max_features=auto, n_estimators=10; total time=   0.0s\n",
      "[CV] END bootstrap=False, max_depth=5, max_features=auto, n_estimators=20; total time=   0.0s\n",
      "[CV] END bootstrap=False, max_depth=5, max_features=auto, n_estimators=20; total time=   0.0s\n",
      "[CV] END bootstrap=False, max_depth=5, max_features=auto, n_estimators=20; total time=   0.0s\n",
      "[CV] END bootstrap=False, max_depth=5, max_features=auto, n_estimators=40; total time=   0.1s\n",
      "[CV] END bootstrap=False, max_depth=5, max_features=auto, n_estimators=40; total time=   0.1s\n",
      "[CV] END bootstrap=False, max_depth=5, max_features=auto, n_estimators=40; total time=   0.1s\n"
     ]
    },
    {
     "name": "stdout",
     "output_type": "stream",
     "text": [
      "[CV] END bootstrap=True, max_depth=3, max_features=auto, n_estimators=20; total time=   0.0s\n",
      "[CV] END bootstrap=True, max_depth=3, max_features=auto, n_estimators=100; total time=   0.2s\n",
      "[CV] END bootstrap=True, max_depth=3, max_features=auto, n_estimators=150; total time=   0.3s\n",
      "[CV] END bootstrap=True, max_depth=3, max_features=auto, n_estimators=500; total time=   0.8s\n",
      "[CV] END bootstrap=True, max_depth=3, max_features=sqrt, n_estimators=50; total time=   0.1s\n",
      "[CV] END bootstrap=True, max_depth=3, max_features=sqrt, n_estimators=100; total time=   0.2s\n",
      "[CV] END bootstrap=True, max_depth=3, max_features=sqrt, n_estimators=150; total time=   0.3s\n",
      "[CV] END bootstrap=True, max_depth=3, max_features=sqrt, n_estimators=500; total time=   1.0s\n",
      "[CV] END bootstrap=True, max_depth=5, max_features=auto, n_estimators=100; total time=   0.2s\n",
      "[CV] END bootstrap=True, max_depth=5, max_features=auto, n_estimators=200; total time=   0.3s\n",
      "[CV] END bootstrap=True, max_depth=5, max_features=auto, n_estimators=500; total time=   1.0s\n",
      "[CV] END bootstrap=True, max_depth=5, max_features=sqrt, n_estimators=150; total time=   0.2s\n",
      "[CV] END bootstrap=True, max_depth=5, max_features=sqrt, n_estimators=500; total time=   0.8s\n",
      "[CV] END bootstrap=True, max_depth=7, max_features=auto, n_estimators=50; total time=   0.1s\n",
      "[CV] END bootstrap=True, max_depth=7, max_features=auto, n_estimators=100; total time=   0.2s\n",
      "[CV] END bootstrap=True, max_depth=7, max_features=auto, n_estimators=150; total time=   0.2s\n",
      "[CV] END bootstrap=True, max_depth=7, max_features=auto, n_estimators=500; total time=   0.7s\n",
      "[CV] END bootstrap=True, max_depth=7, max_features=sqrt, n_estimators=50; total time=   0.1s\n",
      "[CV] END bootstrap=True, max_depth=7, max_features=sqrt, n_estimators=100; total time=   0.2s\n",
      "[CV] END bootstrap=True, max_depth=7, max_features=sqrt, n_estimators=200; total time=   0.3s\n",
      "[CV] END bootstrap=True, max_depth=7, max_features=sqrt, n_estimators=500; total time=   0.8s\n",
      "[CV] END bootstrap=True, max_depth=9, max_features=auto, n_estimators=100; total time=   0.2s\n",
      "[CV] END bootstrap=True, max_depth=9, max_features=auto, n_estimators=150; total time=   0.3s\n",
      "[CV] END bootstrap=True, max_depth=9, max_features=auto, n_estimators=500; total time=   0.9s\n",
      "[CV] END bootstrap=True, max_depth=9, max_features=sqrt, n_estimators=50; total time=   0.1s\n",
      "[CV] END bootstrap=True, max_depth=9, max_features=sqrt, n_estimators=50; total time=   0.1s\n",
      "[CV] END bootstrap=True, max_depth=9, max_features=sqrt, n_estimators=100; total time=   0.2s\n",
      "[CV] END bootstrap=True, max_depth=9, max_features=sqrt, n_estimators=150; total time=   0.3s\n",
      "[CV] END bootstrap=True, max_depth=9, max_features=sqrt, n_estimators=200; total time=   0.5s\n",
      "[CV] END bootstrap=True, max_depth=11, max_features=auto, n_estimators=10; total time=   0.0s\n",
      "[CV] END bootstrap=True, max_depth=11, max_features=auto, n_estimators=10; total time=   0.0s\n",
      "[CV] END bootstrap=True, max_depth=11, max_features=auto, n_estimators=10; total time=   0.0s\n",
      "[CV] END bootstrap=True, max_depth=11, max_features=auto, n_estimators=20; total time=   0.0s\n",
      "[CV] END bootstrap=True, max_depth=11, max_features=auto, n_estimators=20; total time=   0.1s\n",
      "[CV] END bootstrap=True, max_depth=11, max_features=auto, n_estimators=20; total time=   0.0s\n",
      "[CV] END bootstrap=True, max_depth=11, max_features=auto, n_estimators=40; total time=   0.1s\n",
      "[CV] END bootstrap=True, max_depth=11, max_features=auto, n_estimators=40; total time=   0.1s\n",
      "[CV] END bootstrap=True, max_depth=11, max_features=auto, n_estimators=40; total time=   0.1s\n",
      "[CV] END bootstrap=True, max_depth=11, max_features=auto, n_estimators=50; total time=   0.1s\n",
      "[CV] END bootstrap=True, max_depth=11, max_features=auto, n_estimators=50; total time=   0.1s\n",
      "[CV] END bootstrap=True, max_depth=11, max_features=auto, n_estimators=100; total time=   0.2s\n",
      "[CV] END bootstrap=True, max_depth=11, max_features=auto, n_estimators=150; total time=   0.3s\n",
      "[CV] END bootstrap=True, max_depth=11, max_features=auto, n_estimators=200; total time=   0.4s\n",
      "[CV] END bootstrap=True, max_depth=11, max_features=sqrt, n_estimators=10; total time=   0.0s\n",
      "[CV] END bootstrap=True, max_depth=11, max_features=sqrt, n_estimators=10; total time=   0.0s\n",
      "[CV] END bootstrap=True, max_depth=11, max_features=sqrt, n_estimators=10; total time=   0.0s\n",
      "[CV] END bootstrap=True, max_depth=11, max_features=sqrt, n_estimators=20; total time=   0.1s\n",
      "[CV] END bootstrap=True, max_depth=11, max_features=sqrt, n_estimators=20; total time=   0.0s\n",
      "[CV] END bootstrap=True, max_depth=11, max_features=sqrt, n_estimators=20; total time=   0.1s\n",
      "[CV] END bootstrap=True, max_depth=11, max_features=sqrt, n_estimators=40; total time=   0.1s\n",
      "[CV] END bootstrap=True, max_depth=11, max_features=sqrt, n_estimators=40; total time=   0.1s\n",
      "[CV] END bootstrap=True, max_depth=11, max_features=sqrt, n_estimators=40; total time=   0.1s\n",
      "[CV] END bootstrap=True, max_depth=11, max_features=sqrt, n_estimators=50; total time=   0.1s\n",
      "[CV] END bootstrap=True, max_depth=11, max_features=sqrt, n_estimators=50; total time=   0.1s\n",
      "[CV] END bootstrap=True, max_depth=11, max_features=sqrt, n_estimators=100; total time=   0.2s\n",
      "[CV] END bootstrap=True, max_depth=11, max_features=sqrt, n_estimators=150; total time=   0.2s\n",
      "[CV] END bootstrap=True, max_depth=11, max_features=sqrt, n_estimators=500; total time=   1.1s\n",
      "[CV] END bootstrap=True, max_depth=15, max_features=auto, n_estimators=100; total time=   0.3s\n",
      "[CV] END bootstrap=True, max_depth=15, max_features=auto, n_estimators=200; total time=   0.4s\n",
      "[CV] END bootstrap=True, max_depth=15, max_features=auto, n_estimators=500; total time=   1.0s\n",
      "[CV] END bootstrap=True, max_depth=15, max_features=sqrt, n_estimators=150; total time=   0.3s\n",
      "[CV] END bootstrap=True, max_depth=15, max_features=sqrt, n_estimators=500; total time=   0.9s\n",
      "[CV] END bootstrap=False, max_depth=3, max_features=auto, n_estimators=50; total time=   0.1s\n",
      "[CV] END bootstrap=False, max_depth=3, max_features=auto, n_estimators=100; total time=   0.1s\n",
      "[CV] END bootstrap=False, max_depth=3, max_features=auto, n_estimators=150; total time=   0.2s\n",
      "[CV] END bootstrap=False, max_depth=3, max_features=auto, n_estimators=200; total time=   0.3s\n",
      "[CV] END bootstrap=False, max_depth=3, max_features=sqrt, n_estimators=10; total time=   0.0s\n",
      "[CV] END bootstrap=False, max_depth=3, max_features=sqrt, n_estimators=10; total time=   0.0s\n",
      "[CV] END bootstrap=False, max_depth=3, max_features=sqrt, n_estimators=10; total time=   0.0s\n",
      "[CV] END bootstrap=False, max_depth=3, max_features=sqrt, n_estimators=20; total time=   0.0s\n",
      "[CV] END bootstrap=False, max_depth=3, max_features=sqrt, n_estimators=20; total time=   0.0s\n",
      "[CV] END bootstrap=False, max_depth=3, max_features=sqrt, n_estimators=20; total time=   0.0s\n",
      "[CV] END bootstrap=False, max_depth=3, max_features=sqrt, n_estimators=40; total time=   0.0s\n",
      "[CV] END bootstrap=False, max_depth=3, max_features=sqrt, n_estimators=40; total time=   0.1s\n",
      "[CV] END bootstrap=False, max_depth=3, max_features=sqrt, n_estimators=40; total time=   0.1s\n",
      "[CV] END bootstrap=False, max_depth=3, max_features=sqrt, n_estimators=50; total time=   0.1s\n",
      "[CV] END bootstrap=False, max_depth=3, max_features=sqrt, n_estimators=50; total time=   0.1s\n",
      "[CV] END bootstrap=False, max_depth=3, max_features=sqrt, n_estimators=100; total time=   0.1s\n",
      "[CV] END bootstrap=False, max_depth=3, max_features=sqrt, n_estimators=150; total time=   0.2s\n",
      "[CV] END bootstrap=False, max_depth=3, max_features=sqrt, n_estimators=200; total time=   0.2s\n",
      "[CV] END bootstrap=False, max_depth=3, max_features=sqrt, n_estimators=500; total time=   0.6s\n",
      "[CV] END bootstrap=False, max_depth=5, max_features=auto, n_estimators=100; total time=   0.1s\n",
      "[CV] END bootstrap=False, max_depth=5, max_features=auto, n_estimators=200; total time=   0.2s\n",
      "[CV] END bootstrap=False, max_depth=5, max_features=auto, n_estimators=500; total time=   0.6s\n",
      "[CV] END bootstrap=False, max_depth=5, max_features=sqrt, n_estimators=150; total time=   0.2s\n",
      "[CV] END bootstrap=False, max_depth=5, max_features=sqrt, n_estimators=200; total time=   0.3s\n",
      "[CV] END bootstrap=True, max_depth=3, max_features=auto, n_estimators=10; total time=   0.0s\n",
      "[CV] END bootstrap=True, max_depth=3, max_features=auto, n_estimators=20; total time=   0.0s\n",
      "[CV] END bootstrap=True, max_depth=3, max_features=auto, n_estimators=20; total time=   0.0s\n",
      "[CV] END bootstrap=True, max_depth=3, max_features=auto, n_estimators=40; total time=   0.1s\n",
      "[CV] END bootstrap=True, max_depth=3, max_features=auto, n_estimators=40; total time=   0.1s\n",
      "[CV] END bootstrap=True, max_depth=3, max_features=auto, n_estimators=50; total time=   0.1s\n",
      "[CV] END bootstrap=True, max_depth=3, max_features=auto, n_estimators=150; total time=   0.4s\n",
      "[CV] END bootstrap=True, max_depth=3, max_features=auto, n_estimators=200; total time=   0.3s\n",
      "[CV] END bootstrap=True, max_depth=3, max_features=auto, n_estimators=500; total time=   0.7s\n",
      "[CV] END bootstrap=True, max_depth=3, max_features=sqrt, n_estimators=50; total time=   0.1s\n",
      "[CV] END bootstrap=True, max_depth=3, max_features=sqrt, n_estimators=100; total time=   0.1s\n",
      "[CV] END bootstrap=True, max_depth=3, max_features=sqrt, n_estimators=150; total time=   0.2s\n",
      "[CV] END bootstrap=True, max_depth=3, max_features=sqrt, n_estimators=200; total time=   0.3s\n",
      "[CV] END bootstrap=True, max_depth=3, max_features=sqrt, n_estimators=500; total time=   0.7s\n",
      "[CV] END bootstrap=True, max_depth=5, max_features=auto, n_estimators=150; total time=   0.3s\n",
      "[CV] END bootstrap=True, max_depth=5, max_features=auto, n_estimators=200; total time=   0.3s\n",
      "[CV] END bootstrap=True, max_depth=5, max_features=auto, n_estimators=500; total time=   0.7s\n",
      "[CV] END bootstrap=True, max_depth=5, max_features=sqrt, n_estimators=100; total time=   0.1s\n",
      "[CV] END bootstrap=True, max_depth=5, max_features=sqrt, n_estimators=150; total time=   0.2s\n",
      "[CV] END bootstrap=True, max_depth=5, max_features=sqrt, n_estimators=200; total time=   0.3s\n",
      "[CV] END bootstrap=True, max_depth=5, max_features=sqrt, n_estimators=500; total time=   0.7s\n",
      "[CV] END bootstrap=True, max_depth=7, max_features=auto, n_estimators=100; total time=   0.1s\n",
      "[CV] END bootstrap=True, max_depth=7, max_features=auto, n_estimators=200; total time=   0.3s\n",
      "[CV] END bootstrap=True, max_depth=7, max_features=auto, n_estimators=500; total time=   0.7s\n",
      "[CV] END bootstrap=True, max_depth=7, max_features=sqrt, n_estimators=100; total time=   0.1s\n",
      "[CV] END bootstrap=True, max_depth=7, max_features=sqrt, n_estimators=150; total time=   0.2s\n",
      "[CV] END bootstrap=True, max_depth=7, max_features=sqrt, n_estimators=500; total time=   0.8s\n",
      "[CV] END bootstrap=True, max_depth=9, max_features=auto, n_estimators=50; total time=   0.1s\n",
      "[CV] END bootstrap=True, max_depth=9, max_features=auto, n_estimators=50; total time=   0.1s\n",
      "[CV] END bootstrap=True, max_depth=9, max_features=auto, n_estimators=100; total time=   0.2s\n",
      "[CV] END bootstrap=True, max_depth=9, max_features=auto, n_estimators=200; total time=   0.4s\n",
      "[CV] END bootstrap=True, max_depth=9, max_features=auto, n_estimators=500; total time=   1.3s\n",
      "[CV] END bootstrap=True, max_depth=9, max_features=sqrt, n_estimators=200; total time=   0.5s\n",
      "[CV] END bootstrap=True, max_depth=9, max_features=sqrt, n_estimators=500; total time=   1.0s\n",
      "[CV] END bootstrap=True, max_depth=11, max_features=auto, n_estimators=100; total time=   0.2s\n",
      "[CV] END bootstrap=True, max_depth=11, max_features=auto, n_estimators=200; total time=   0.4s\n",
      "[CV] END bootstrap=True, max_depth=11, max_features=auto, n_estimators=500; total time=   0.9s\n",
      "[CV] END bootstrap=True, max_depth=11, max_features=sqrt, n_estimators=100; total time=   0.2s\n",
      "[CV] END bootstrap=True, max_depth=11, max_features=sqrt, n_estimators=150; total time=   0.2s\n",
      "[CV] END bootstrap=True, max_depth=11, max_features=sqrt, n_estimators=200; total time=   0.3s\n",
      "[CV] END bootstrap=True, max_depth=11, max_features=sqrt, n_estimators=500; total time=   0.8s\n",
      "[CV] END bootstrap=True, max_depth=15, max_features=auto, n_estimators=50; total time=   0.1s\n",
      "[CV] END bootstrap=True, max_depth=15, max_features=auto, n_estimators=100; total time=   0.2s\n",
      "[CV] END bootstrap=True, max_depth=15, max_features=auto, n_estimators=150; total time=   0.2s\n",
      "[CV] END bootstrap=True, max_depth=15, max_features=auto, n_estimators=500; total time=   0.8s\n",
      "[CV] END bootstrap=True, max_depth=15, max_features=sqrt, n_estimators=50; total time=   0.1s\n",
      "[CV] END bootstrap=True, max_depth=15, max_features=sqrt, n_estimators=100; total time=   0.2s\n",
      "[CV] END bootstrap=True, max_depth=15, max_features=sqrt, n_estimators=150; total time=   0.3s\n",
      "[CV] END bootstrap=True, max_depth=15, max_features=sqrt, n_estimators=200; total time=   0.3s\n",
      "[CV] END bootstrap=True, max_depth=15, max_features=sqrt, n_estimators=500; total time=   0.8s\n",
      "[CV] END bootstrap=False, max_depth=3, max_features=auto, n_estimators=100; total time=   0.1s\n",
      "[CV] END bootstrap=False, max_depth=3, max_features=auto, n_estimators=150; total time=   0.2s\n",
      "[CV] END bootstrap=False, max_depth=3, max_features=auto, n_estimators=500; total time=   0.7s\n",
      "[CV] END bootstrap=False, max_depth=3, max_features=sqrt, n_estimators=50; total time=   0.1s\n",
      "[CV] END bootstrap=False, max_depth=3, max_features=sqrt, n_estimators=100; total time=   0.1s\n",
      "[CV] END bootstrap=False, max_depth=3, max_features=sqrt, n_estimators=150; total time=   0.2s\n",
      "[CV] END bootstrap=False, max_depth=3, max_features=sqrt, n_estimators=200; total time=   0.2s\n",
      "[CV] END bootstrap=False, max_depth=3, max_features=sqrt, n_estimators=500; total time=   0.5s\n",
      "[CV] END bootstrap=False, max_depth=5, max_features=auto, n_estimators=100; total time=   0.1s\n",
      "[CV] END bootstrap=False, max_depth=5, max_features=auto, n_estimators=150; total time=   0.2s\n",
      "[CV] END bootstrap=False, max_depth=5, max_features=auto, n_estimators=200; total time=   0.2s\n",
      "[CV] END bootstrap=False, max_depth=5, max_features=auto, n_estimators=500; total time=   0.6s\n",
      "[CV] END bootstrap=False, max_depth=5, max_features=sqrt, n_estimators=100; total time=   0.1s\n",
      "[CV] END bootstrap=False, max_depth=5, max_features=sqrt, n_estimators=150; total time=   0.2s\n",
      "[CV] END bootstrap=False, max_depth=5, max_features=sqrt, n_estimators=200; total time=   0.2s\n",
      "[CV] END bootstrap=False, max_depth=7, max_features=auto, n_estimators=10; total time=   0.0s\n",
      "[CV] END bootstrap=False, max_depth=7, max_features=auto, n_estimators=10; total time=   0.0s\n",
      "[CV] END bootstrap=False, max_depth=7, max_features=auto, n_estimators=10; total time=   0.0s\n",
      "[CV] END bootstrap=False, max_depth=7, max_features=auto, n_estimators=20; total time=   0.0s\n",
      "[CV] END bootstrap=False, max_depth=7, max_features=auto, n_estimators=20; total time=   0.0s\n",
      "[CV] END bootstrap=False, max_depth=7, max_features=auto, n_estimators=20; total time=   0.0s\n",
      "[CV] END bootstrap=False, max_depth=7, max_features=auto, n_estimators=40; total time=   0.1s\n",
      "[CV] END bootstrap=False, max_depth=7, max_features=auto, n_estimators=40; total time=   0.0s\n",
      "[CV] END bootstrap=False, max_depth=7, max_features=auto, n_estimators=40; total time=   0.1s\n",
      "[CV] END bootstrap=False, max_depth=7, max_features=auto, n_estimators=50; total time=   0.1s\n",
      "[CV] END bootstrap=False, max_depth=7, max_features=auto, n_estimators=50; total time=   0.1s\n",
      "[CV] END bootstrap=False, max_depth=7, max_features=auto, n_estimators=50; total time=   0.1s\n",
      "[CV] END bootstrap=False, max_depth=7, max_features=auto, n_estimators=100; total time=   0.1s\n",
      "[CV] END bootstrap=False, max_depth=7, max_features=auto, n_estimators=150; total time=   0.2s\n",
      "[CV] END bootstrap=False, max_depth=7, max_features=auto, n_estimators=500; total time=   0.6s\n",
      "[CV] END bootstrap=False, max_depth=7, max_features=auto, n_estimators=500; total time=   0.6s\n",
      "[CV] END bootstrap=False, max_depth=9, max_features=auto, n_estimators=10; total time=   0.0s\n",
      "[CV] END bootstrap=False, max_depth=9, max_features=auto, n_estimators=10; total time=   0.0s\n",
      "[CV] END bootstrap=False, max_depth=9, max_features=auto, n_estimators=10; total time=   0.0s\n",
      "[CV] END bootstrap=False, max_depth=9, max_features=auto, n_estimators=20; total time=   0.0s\n",
      "[CV] END bootstrap=False, max_depth=9, max_features=auto, n_estimators=20; total time=   0.0s\n"
     ]
    },
    {
     "data": {
      "text/plain": [
       "GridSearchCV(cv=3, estimator=RandomForestClassifier(), n_jobs=-1,\n",
       "             param_grid={'bootstrap': [True, False],\n",
       "                         'max_depth': [3, 5, 7, 9, 11, 15],\n",
       "                         'max_features': ['auto', 'sqrt'],\n",
       "                         'n_estimators': [10, 20, 40, 50, 100, 150, 200, 500]},\n",
       "             verbose=2)"
      ]
     },
     "execution_count": 58,
     "metadata": {},
     "output_type": "execute_result"
    }
   ],
   "source": [
    "from sklearn.model_selection import GridSearchCV \n",
    "grid = {\n",
    "                'n_estimators': [10, 20, 40, 50, 100, 150, 200, 500],\n",
    "                'max_features': ['auto', 'sqrt'],\n",
    "                'max_depth': [3, 5, 7, 9, 11, 15],\n",
    "                'bootstrap': [True, False]\n",
    "                }\n",
    "rf = RandomForestClassifier()\n",
    "rf_random = GridSearchCV(estimator = rf, param_grid = grid, cv = 3, verbose=2, n_jobs = -1)\n",
    "rf_random.fit(X, y)"
   ]
  },
  {
   "cell_type": "code",
   "execution_count": 59,
   "id": "dc30579d",
   "metadata": {
    "execution": {
     "iopub.execute_input": "2021-10-03T11:39:48.667512Z",
     "iopub.status.busy": "2021-10-03T11:39:48.666473Z",
     "iopub.status.idle": "2021-10-03T11:39:48.682355Z",
     "shell.execute_reply": "2021-10-03T11:39:48.681827Z",
     "shell.execute_reply.started": "2021-10-03T11:37:10.163619Z"
    },
    "papermill": {
     "duration": 0.124367,
     "end_time": "2021-10-03T11:39:48.682492",
     "exception": false,
     "start_time": "2021-10-03T11:39:48.558125",
     "status": "completed"
    },
    "tags": []
   },
   "outputs": [
    {
     "data": {
      "text/plain": [
       "0.9259259259259259"
      ]
     },
     "execution_count": 59,
     "metadata": {},
     "output_type": "execute_result"
    }
   ],
   "source": [
    "rf_random.score(X, y)"
   ]
  },
  {
   "cell_type": "code",
   "execution_count": 60,
   "id": "814557e8",
   "metadata": {
    "execution": {
     "iopub.execute_input": "2021-10-03T11:39:48.894484Z",
     "iopub.status.busy": "2021-10-03T11:39:48.893804Z",
     "iopub.status.idle": "2021-10-03T11:39:48.903981Z",
     "shell.execute_reply": "2021-10-03T11:39:48.903387Z",
     "shell.execute_reply.started": "2021-10-03T11:37:10.180337Z"
    },
    "papermill": {
     "duration": 0.11908,
     "end_time": "2021-10-03T11:39:48.904142",
     "exception": false,
     "start_time": "2021-10-03T11:39:48.785062",
     "status": "completed"
    },
    "tags": []
   },
   "outputs": [],
   "source": [
    "pred = rf_random.predict(test_data)"
   ]
  },
  {
   "cell_type": "code",
   "execution_count": 61,
   "id": "0c598119",
   "metadata": {
    "execution": {
     "iopub.execute_input": "2021-10-03T11:39:49.113863Z",
     "iopub.status.busy": "2021-10-03T11:39:49.111581Z",
     "iopub.status.idle": "2021-10-03T11:39:49.116847Z",
     "shell.execute_reply": "2021-10-03T11:39:49.117364Z",
     "shell.execute_reply.started": "2021-10-03T11:37:10.193647Z"
    },
    "papermill": {
     "duration": 0.111563,
     "end_time": "2021-10-03T11:39:49.117522",
     "exception": false,
     "start_time": "2021-10-03T11:39:49.005959",
     "status": "completed"
    },
    "tags": []
   },
   "outputs": [],
   "source": [
    "submission['Survived'] = pred"
   ]
  },
  {
   "cell_type": "code",
   "execution_count": 62,
   "id": "5ec78d1c",
   "metadata": {
    "execution": {
     "iopub.execute_input": "2021-10-03T11:39:49.328938Z",
     "iopub.status.busy": "2021-10-03T11:39:49.328287Z",
     "iopub.status.idle": "2021-10-03T11:39:49.333896Z",
     "shell.execute_reply": "2021-10-03T11:39:49.334360Z",
     "shell.execute_reply.started": "2021-10-03T11:37:10.206092Z"
    },
    "papermill": {
     "duration": 0.114211,
     "end_time": "2021-10-03T11:39:49.334530",
     "exception": false,
     "start_time": "2021-10-03T11:39:49.220319",
     "status": "completed"
    },
    "tags": []
   },
   "outputs": [
    {
     "data": {
      "text/html": [
       "<div>\n",
       "<style scoped>\n",
       "    .dataframe tbody tr th:only-of-type {\n",
       "        vertical-align: middle;\n",
       "    }\n",
       "\n",
       "    .dataframe tbody tr th {\n",
       "        vertical-align: top;\n",
       "    }\n",
       "\n",
       "    .dataframe thead th {\n",
       "        text-align: right;\n",
       "    }\n",
       "</style>\n",
       "<table border=\"1\" class=\"dataframe\">\n",
       "  <thead>\n",
       "    <tr style=\"text-align: right;\">\n",
       "      <th></th>\n",
       "      <th>PassengerId</th>\n",
       "      <th>Survived</th>\n",
       "    </tr>\n",
       "  </thead>\n",
       "  <tbody>\n",
       "    <tr>\n",
       "      <th>0</th>\n",
       "      <td>892</td>\n",
       "      <td>0</td>\n",
       "    </tr>\n",
       "    <tr>\n",
       "      <th>1</th>\n",
       "      <td>893</td>\n",
       "      <td>0</td>\n",
       "    </tr>\n",
       "    <tr>\n",
       "      <th>2</th>\n",
       "      <td>894</td>\n",
       "      <td>0</td>\n",
       "    </tr>\n",
       "    <tr>\n",
       "      <th>3</th>\n",
       "      <td>895</td>\n",
       "      <td>0</td>\n",
       "    </tr>\n",
       "    <tr>\n",
       "      <th>4</th>\n",
       "      <td>896</td>\n",
       "      <td>1</td>\n",
       "    </tr>\n",
       "  </tbody>\n",
       "</table>\n",
       "</div>"
      ],
      "text/plain": [
       "   PassengerId  Survived\n",
       "0          892         0\n",
       "1          893         0\n",
       "2          894         0\n",
       "3          895         0\n",
       "4          896         1"
      ]
     },
     "execution_count": 62,
     "metadata": {},
     "output_type": "execute_result"
    }
   ],
   "source": [
    "submission.head()"
   ]
  },
  {
   "cell_type": "code",
   "execution_count": 63,
   "id": "f74c0d0c",
   "metadata": {
    "execution": {
     "iopub.execute_input": "2021-10-03T11:39:49.547681Z",
     "iopub.status.busy": "2021-10-03T11:39:49.546638Z",
     "iopub.status.idle": "2021-10-03T11:39:49.549706Z",
     "shell.execute_reply": "2021-10-03T11:39:49.549011Z",
     "shell.execute_reply.started": "2021-10-03T11:37:10.228685Z"
    },
    "papermill": {
     "duration": 0.112642,
     "end_time": "2021-10-03T11:39:49.549842",
     "exception": false,
     "start_time": "2021-10-03T11:39:49.437200",
     "status": "completed"
    },
    "tags": []
   },
   "outputs": [],
   "source": [
    "submission = submission.set_index('PassengerId')"
   ]
  },
  {
   "cell_type": "code",
   "execution_count": 64,
   "id": "b27ec685",
   "metadata": {
    "execution": {
     "iopub.execute_input": "2021-10-03T11:39:49.763959Z",
     "iopub.status.busy": "2021-10-03T11:39:49.763166Z",
     "iopub.status.idle": "2021-10-03T11:39:49.766911Z",
     "shell.execute_reply": "2021-10-03T11:39:49.766403Z",
     "shell.execute_reply.started": "2021-10-03T11:37:10.242463Z"
    },
    "papermill": {
     "duration": 0.114698,
     "end_time": "2021-10-03T11:39:49.767045",
     "exception": false,
     "start_time": "2021-10-03T11:39:49.652347",
     "status": "completed"
    },
    "tags": []
   },
   "outputs": [
    {
     "data": {
      "text/html": [
       "<div>\n",
       "<style scoped>\n",
       "    .dataframe tbody tr th:only-of-type {\n",
       "        vertical-align: middle;\n",
       "    }\n",
       "\n",
       "    .dataframe tbody tr th {\n",
       "        vertical-align: top;\n",
       "    }\n",
       "\n",
       "    .dataframe thead th {\n",
       "        text-align: right;\n",
       "    }\n",
       "</style>\n",
       "<table border=\"1\" class=\"dataframe\">\n",
       "  <thead>\n",
       "    <tr style=\"text-align: right;\">\n",
       "      <th></th>\n",
       "      <th>Survived</th>\n",
       "    </tr>\n",
       "    <tr>\n",
       "      <th>PassengerId</th>\n",
       "      <th></th>\n",
       "    </tr>\n",
       "  </thead>\n",
       "  <tbody>\n",
       "    <tr>\n",
       "      <th>892</th>\n",
       "      <td>0</td>\n",
       "    </tr>\n",
       "    <tr>\n",
       "      <th>893</th>\n",
       "      <td>0</td>\n",
       "    </tr>\n",
       "    <tr>\n",
       "      <th>894</th>\n",
       "      <td>0</td>\n",
       "    </tr>\n",
       "    <tr>\n",
       "      <th>895</th>\n",
       "      <td>0</td>\n",
       "    </tr>\n",
       "    <tr>\n",
       "      <th>896</th>\n",
       "      <td>1</td>\n",
       "    </tr>\n",
       "  </tbody>\n",
       "</table>\n",
       "</div>"
      ],
      "text/plain": [
       "             Survived\n",
       "PassengerId          \n",
       "892                 0\n",
       "893                 0\n",
       "894                 0\n",
       "895                 0\n",
       "896                 1"
      ]
     },
     "execution_count": 64,
     "metadata": {},
     "output_type": "execute_result"
    }
   ],
   "source": [
    "submission.head()"
   ]
  },
  {
   "cell_type": "code",
   "execution_count": 65,
   "id": "34c1d622",
   "metadata": {
    "execution": {
     "iopub.execute_input": "2021-10-03T11:39:49.977301Z",
     "iopub.status.busy": "2021-10-03T11:39:49.976339Z",
     "iopub.status.idle": "2021-10-03T11:39:49.983984Z",
     "shell.execute_reply": "2021-10-03T11:39:49.984506Z",
     "shell.execute_reply.started": "2021-10-03T11:37:10.259308Z"
    },
    "papermill": {
     "duration": 0.114772,
     "end_time": "2021-10-03T11:39:49.984673",
     "exception": false,
     "start_time": "2021-10-03T11:39:49.869901",
     "status": "completed"
    },
    "tags": []
   },
   "outputs": [],
   "source": [
    "submission.to_csv(\"submission.csv\")"
   ]
  },
  {
   "cell_type": "code",
   "execution_count": null,
   "id": "4e864757",
   "metadata": {
    "papermill": {
     "duration": 0.102859,
     "end_time": "2021-10-03T11:39:50.190449",
     "exception": false,
     "start_time": "2021-10-03T11:39:50.087590",
     "status": "completed"
    },
    "tags": []
   },
   "outputs": [],
   "source": []
  }
 ],
 "metadata": {
  "kernelspec": {
   "display_name": "Python 3 (ipykernel)",
   "language": "python",
   "name": "python3"
  },
  "language_info": {
   "codemirror_mode": {
    "name": "ipython",
    "version": 3
   },
   "file_extension": ".py",
   "mimetype": "text/x-python",
   "name": "python",
   "nbconvert_exporter": "python",
   "pygments_lexer": "ipython3",
   "version": "3.8.10"
  },
  "papermill": {
   "default_parameters": {},
   "duration": 96.839557,
   "end_time": "2021-10-03T11:39:52.162898",
   "environment_variables": {},
   "exception": null,
   "input_path": "__notebook__.ipynb",
   "output_path": "__notebook__.ipynb",
   "parameters": {},
   "start_time": "2021-10-03T11:38:15.323341",
   "version": "2.3.3"
  }
 },
 "nbformat": 4,
 "nbformat_minor": 5
}
